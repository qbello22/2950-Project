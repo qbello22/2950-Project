{
 "cells": [
  {
   "cell_type": "markdown",
   "id": "a6e7221a",
   "metadata": {},
   "source": [
    "# Data Cleaning"
   ]
  },
  {
   "cell_type": "markdown",
   "id": "c18a804f",
   "metadata": {},
   "source": [
    "We were able to locate a dataset available through the Harvard Dataverse Repository, containing data on the characteristics of individual Nobel Prize laureates. We downloaded that initial .csv file, and then pursued the following process to clean up that data and turn it into a dataframe suitable for our research: "
   ]
  },
  {
   "cell_type": "markdown",
   "id": "a42dc538",
   "metadata": {},
   "source": [
    "**Step 1:** Imported libraries for our data analysis."
   ]
  },
  {
   "cell_type": "code",
   "execution_count": 1,
   "id": "1ed0f7a5",
   "metadata": {},
   "outputs": [],
   "source": [
    "import pandas as pd \n",
    "import numpy as np\n",
    "import seaborn \n",
    "from matplotlib import pyplot\n",
    "from datetime import datetime, date"
   ]
  },
  {
   "cell_type": "markdown",
   "id": "bcaf00fa",
   "metadata": {},
   "source": [
    "**Step 2:** Loaded the CSV file, laureate.csv, into a pandas data frame called nobel_data_raw and printed nobel_data_raw to check laureate.csv was loaded correctly into the data frame."
   ]
  },
  {
   "cell_type": "code",
   "execution_count": null,
   "id": "3ceba71d",
   "metadata": {},
   "outputs": [],
   "source": [
    "nobel_data_raw = pd.read_csv(\"laureate.csv\")\n",
    "nobel_data_raw.head()"
   ]
  },
  {
   "cell_type": "markdown",
   "id": "930bea2d",
   "metadata": {},
   "source": [
    "**Step 3:** Printed out the number of rows and columns in nobel_data_raw to make sure that it matches the number of rows and columns of laureate.csv from the original source."
   ]
  },
  {
   "cell_type": "code",
   "execution_count": null,
   "id": "6e132804",
   "metadata": {},
   "outputs": [],
   "source": [
    "nobel_data_raw.shape"
   ]
  },
  {
   "cell_type": "markdown",
   "id": "323d1cb3",
   "metadata": {},
   "source": [
    "**Step 4:** Printed out the type of each column so that we know if we need to convert to another type in our upcoming data analysis."
   ]
  },
  {
   "cell_type": "code",
   "execution_count": null,
   "id": "4279ab80",
   "metadata": {},
   "outputs": [],
   "source": [
    "nobel_data_raw.dtypes"
   ]
  },
  {
   "cell_type": "markdown",
   "id": "52ebd186",
   "metadata": {},
   "source": [
    "**Step 5:** We converted values in 'born' and 'died' columns to datetime. If the values were not formatted to be able to convert to datetime, such as \"0000-00-00,\" we renamed those values as \"NaT\". We also printed out the head of the data frame to check if the columns were displaying values in datetime and in NaT properly."
   ]
  },
  {
   "cell_type": "code",
   "execution_count": null,
   "id": "257967d9",
   "metadata": {},
   "outputs": [],
   "source": [
    "nobel_data = nobel_data_raw\n",
    "nobel_data['born'] = pd.to_datetime(nobel_data_raw['born'], format = '%Y-%m-%d', errors = 'coerce')\n",
    "nobel_data['died'] = pd.to_datetime(nobel_data_raw['died'], format = '%Y-%m-%d', errors = 'coerce')\n",
    "nobel_data.head()"
   ]
  },
  {
   "cell_type": "markdown",
   "id": "d57b6121",
   "metadata": {},
   "source": [
    "**Step 6:** We found the age in days of each laureate in the dataframe by using the \"year\" and year extracted from datetime values in the 'born' column. We made a new column called \"age\" because it will help us answer a few of our research questions. The values in the 'age' column were rounded down using np.floor to accurately represent each laureate's age at the time of their win. We also used .fillna() to fill missing \"age\" values with 0 to create models in the future without any errors involving NaN. Lastly, we used .head() to check if our data frame includes the new column."
   ]
  },
  {
   "cell_type": "code",
   "execution_count": null,
   "id": "5c911a1b",
   "metadata": {},
   "outputs": [],
   "source": [
    "nobel_data['age'] = nobel_data['year'] - nobel_data['born'].dt.year\n",
    "nobel_data['age'] = nobel_data['age'].apply(np.floor)\n",
    "nobel_data['age'] = nobel_data['age'].fillna(0)\n",
    "nobel_data['age'] = nobel_data['age'].astype(int)\n",
    "nobel_data.head()"
   ]
  },
  {
   "cell_type": "markdown",
   "id": "dab19dc5",
   "metadata": {},
   "source": [
    "**Step 7:** Upon this early analysis, we discovered 6 rows in our dataframe that were empty of all data (except for gender: male), and did not correspond to any potential collection gaps that we could ascertain. As such, we concluded that these rows were erroneously included, and dropped them from the dataframe. "
   ]
  },
  {
   "cell_type": "code",
   "execution_count": null,
   "id": "68b61912",
   "metadata": {},
   "outputs": [],
   "source": [
    "nobel_data = nobel_data.drop([932, 933, 934, 935, 936, 937])"
   ]
  },
  {
   "cell_type": "markdown",
   "id": "72074e66",
   "metadata": {},
   "source": [
    "**Step 8:** Created a new dataframe, nobel_data_valid, without any \"age\" values that are 0 so that we can create models using the \"age\" column without laureates who are missing their ages. Most of these rows represent organizational winners, rather than individuals, so the age data for these instances would not be relevant to our analysis. "
   ]
  },
  {
   "cell_type": "code",
   "execution_count": null,
   "id": "6f5ee792",
   "metadata": {},
   "outputs": [],
   "source": [
    "nobel_data_valid = nobel_data.loc[nobel_data_raw['age']!=0]\n",
    "nobel_data_valid.head()"
   ]
  },
  {
   "cell_type": "markdown",
   "id": "778f3209",
   "metadata": {},
   "source": [
    "**Step 9:** Printed the types of columns again to check to make sure the conversions made above are reflected in our data frame. "
   ]
  },
  {
   "cell_type": "code",
   "execution_count": null,
   "id": "c1b1cb79",
   "metadata": {},
   "outputs": [],
   "source": [
    "nobel_data.dtypes"
   ]
  }
 ],
 "metadata": {
  "kernelspec": {
   "display_name": "Python 3 (ipykernel)",
   "language": "python",
   "name": "python3"
  },
  "language_info": {
   "codemirror_mode": {
    "name": "ipython",
    "version": 3
   },
   "file_extension": ".py",
   "mimetype": "text/x-python",
   "name": "python",
   "nbconvert_exporter": "python",
   "pygments_lexer": "ipython3",
   "version": "3.9.12"
  }
 },
 "nbformat": 4,
 "nbformat_minor": 5
}
