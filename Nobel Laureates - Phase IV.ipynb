{
 "cells": [
  {
   "cell_type": "markdown",
   "id": "a3cc51d9",
   "metadata": {},
   "source": [
    "# INFO 2950 Group Project: What Makes a Nobel Prize Laureate?"
   ]
  },
  {
   "cell_type": "markdown",
   "id": "05d54950",
   "metadata": {},
   "source": [
    "## Introduction"
   ]
  },
  {
   "cell_type": "markdown",
   "id": "feca7ca4",
   "metadata": {},
   "source": [
    "Context"
   ]
  },
  {
   "cell_type": "markdown",
   "id": "bed12114",
   "metadata": {},
   "source": [
    "The main question we were interested in exploring was: what characteristics are likely among Nobel laureates, and what biases do those characteristics potentially reveal within the Nobel committee?\n",
    "\n",
    "Due to the scope of this project, we focused on a few more specific areas for our analysis:  \n",
    "    \n",
    "What countries produce the most Nobel laureates? \n",
    "    \n",
    "Are Nobel laureates more likely to hail from the Anglosphere? \n",
    "    \n",
    "Does age have any bearing on the awarding of a Nobel Prize? \n",
    "    \n",
    "Are Nobel Prize laureates getting older?"
   ]
  },
  {
   "cell_type": "markdown",
   "id": "3c71f120",
   "metadata": {},
   "source": [
    "Main findings/brief summary"
   ]
  },
  {
   "cell_type": "markdown",
   "id": "f18b7283",
   "metadata": {},
   "source": [
    "## Data Description"
   ]
  },
  {
   "cell_type": "markdown",
   "id": "0f25741f",
   "metadata": {},
   "source": [
    "#### What are the observations (rows) and the attributes (columns)?\n",
    "\n",
    "The observations in our data frame are 937 Nobel Prize laureates, representing all winners from the first prizes awarded through the year 2016. In other words, each row represents a single laureate.\n",
    "\n",
    "The attributes are:\n",
    "\n",
    "- id - identifies each laureate \n",
    "- firstname - laureate's first name \n",
    "- surname - laureate's surname \n",
    "- born - laureate's birth date \n",
    "- died - laureate's death date \n",
    "- bornCountry - laureate's birth place \n",
    "- bornCountryCode - the country code of the laureate's country of origin\n",
    "- bornCity - the name of the city where the laureate was born\n",
    "- diedCountry - the name of the country where the laureate died\n",
    "- diedCountryCode - the country code of the laureate's country of death\n",
    "- diedCity - the name of the city where the laureate died\n",
    "- gender - laureate's gender or laureate's organization ('male,' 'female,' or 'org' - organization)\n",
    "- year - the year that the laureate won their prize\n",
    "- category - the category in which the laureate won their prize ('physics,' 'chemistry,' 'peace,' 'medicine,' 'literature,' 'economics')\n",
    "- overallMotivation - overall motivation for being awarded the prize\n",
    "- share - number of other laureates who share the prize \n",
    "- motivation - the motivation behind being awarded the prize\n",
    "\n",
    "#### Why was this dataset created?\n",
    "\n",
    "The dataset was assembled by Maryna Kuzmenko in 2016, and intended to be a starting point for social sciences research into the characteristics of Nobel prize awards and laureates (both quantitative and categorical). It is available through the Harvard Dataverse Repository. \n",
    "\n",
    "#### Who funded the creation of the dataset?\n",
    "\n",
    "Harvard's Dataverse Repository is free and open to researchers for sharing and archiving research data. Maryna Kuzmenko holds a Doctorate of Philosophy; no information on the funding for the creation of this particular dataset is available, but it appears to have been created while she was pursuing her doctorate at Kyiv University. \n",
    "\n",
    "#### Are there any errors, sources of noise, or redundancies in the dataset?\n",
    "\n",
    "We were able to identify one section of rows that seemed to be included erroneously (containing no data except for the gender characteristic, and not matching with any potential missing data that we could find). As such, we removed those rows from the dataset before continuing with our own analysis.\n",
    "\n",
    "#### Is it possible to identify individuals (i.e., one or more natural persons), either directly or indirectly (i.e., in combination with other data) from the dataset? If so, please describe how.\n",
    "\n",
    "By the nature of our dataset, each instance is identifiable as a specific person, by name, location, age, and more. This was determined not to be a privacy concern, because of the public nature of the Nobel Prize and its laureates.  \n",
    "\n",
    "#### What processes might have influenced what data was observed and recorded and what was not?\n",
    "\n",
    "Fortunately for us, the Nobel Prize is a prestigious and public-facing award for excellence in a field; as such, information about each year's awards, and the laureates who received them, is generally well-documented. We are reassured by the completeness of our dataset: though not every row is perfectly complete, as a whole data on each laureate is present and accurate (by our appraisal). \n",
    "\n",
    "#### What preprocessing was done, and how did the data come to be in the form that you are using?\n",
    "\n",
    "The data on each laureate was collected into a single .csv file, with each instance representing a single Nobel Prize winner, and columns with characteristics about each of those instances. The entire population of laureates (through 2016) is represented, and no transformations or further processing was done to the data once collected. \n",
    "\n",
    "#### If people are involved, were they aware of the data collection and if so, what purpose did they expect the data to be used for?\n",
    "\n",
    "Though there is no record that the Nobel laureates that were living at the time this dataset was assembled were notified, the data collected about them (as at least semi-public figures) is publicly available. \n",
    "\n",
    "#### Where can your raw source data be found, if applicable? Provide a link to the raw data (hosted in a Cornell Google Drive or Cornell Box)\n",
    "\n",
    "https://drive.google.com/file/d/1x30zuyFBpWepBgc7cQt9x1yU46Qscgtg/view?usp=sharing"
   ]
  },
  {
   "cell_type": "markdown",
   "id": "93751f1a",
   "metadata": {},
   "source": [
    "## Preregistration Statement"
   ]
  },
  {
   "cell_type": "markdown",
   "id": "e5e3c7fc",
   "metadata": {},
   "source": [
    "Something more verbose here???? "
   ]
  },
  {
   "cell_type": "markdown",
   "id": "9246077b",
   "metadata": {},
   "source": [
    "##### Hypothesis 1:\n",
    "Nobel laureates are not more or less likely to win at a certain age. ($\\beta_{age}$ = 0)\n",
    "\n",
    "##### Hypothesis 2:\n",
    "Nobel Laureates are more likely to come from English-speaking countries. ($\\beta_{English-speaking}$ > 0)"
   ]
  },
  {
   "cell_type": "markdown",
   "id": "2a6bcedb",
   "metadata": {},
   "source": [
    "## Data Analysis"
   ]
  },
  {
   "cell_type": "code",
   "execution_count": 7,
   "id": "a0b1ca33",
   "metadata": {},
   "outputs": [],
   "source": [
    "import pandas as pd \n",
    "import numpy as np\n",
    "import seaborn \n",
    "from matplotlib import pyplot\n",
    "from datetime import datetime, date\n",
    "\n",
    "nobel_data = pd.read_csv('nobel_data_final.csv')"
   ]
  },
  {
   "cell_type": "markdown",
   "id": "e30dc911",
   "metadata": {},
   "source": [
    "#### Section 1: Age of a Nobel laureate"
   ]
  },
  {
   "cell_type": "markdown",
   "id": "9d0ef6c9",
   "metadata": {},
   "source": [
    "To begin analysis of Nobel laureate age, we created a new dataframe, nobel_data_valid, without any \"age\" values that are 0 so that we can create models using the \"age\" column without instances that are missing their ages. Nearly all of these rows represent organizational winners, rather than individuals, so the age data for these instances would not be relevant to our analysis."
   ]
  },
  {
   "cell_type": "code",
   "execution_count": 8,
   "id": "5c7c599f",
   "metadata": {},
   "outputs": [],
   "source": [
    "nobel_data_valid = nobel_data.loc[nobel_data['age']!=0]"
   ]
  },
  {
   "cell_type": "code",
   "execution_count": 9,
   "id": "a5851edb",
   "metadata": {},
   "outputs": [
    {
     "data": {
      "text/plain": [
       "Text(0.5, 1.0, 'Number of Nobel Prizes Awarded, by Age at Time of Award')"
      ]
     },
     "execution_count": 9,
     "metadata": {},
     "output_type": "execute_result"
    },
    {
     "data": {
      "image/png": "[encoded data removed]",
      "text/plain": [
       "<Figure size 432x288 with 1 Axes>"
      ]
     },
     "metadata": {
      "needs_background": "light"
     },
     "output_type": "display_data"
    }
   ],
   "source": [
    "histplot = seaborn.histplot(nobel_data_valid['age'], kde=True)\n",
    "histplot.set_xlabel('Age')\n",
    "histplot.set_ylabel('Number of Nobel Prizes')\n",
    "histplot.set_title('Number of Nobel Prizes Awarded, by Age at Time of Award')"
   ]
  },
  {
   "cell_type": "code",
   "execution_count": 10,
   "id": "c36bdb92",
   "metadata": {},
   "outputs": [
    {
     "name": "stdout",
     "output_type": "stream",
     "text": [
      "The mean age of a Nobel laureate is 59.4593147751606, with a standard deviation of 12.384339675481367.\n"
     ]
    }
   ],
   "source": [
    "print(\"The mean age of a Nobel laureate is \"+str(nobel_data_valid['age'].mean())+\", with a standard deviation of \"+str(nobel_data_valid['age'].std())+\".\")"
   ]
  },
  {
   "cell_type": "markdown",
   "id": "a339e4f7",
   "metadata": {},
   "source": [
    "The histogram shows that Nobel Prize laureates usually win at around the age of 60. As Age increases to around 60, there is an overall increase in the Count of Nobel Prizes. However, after around age of 60, as Age increases, there is an overall decrease in the Count of Nobel Prizes. There are some peaks around the age of 60, so we could look into how the mean age of a Nobel laureate varies across categories."
   ]
  },
  {
   "cell_type": "code",
   "execution_count": 12,
   "id": "136592ce",
   "metadata": {},
   "outputs": [
    {
     "name": "stdout",
     "output_type": "stream",
     "text": [
      "The mean age of a Nobel laureate in Medicine is 57.830357142857146\n"
     ]
    }
   ],
   "source": [
    "medicine = nobel_data_valid.loc[nobel_data['category']=='medicine','age'].mean()\n",
    "print(\"The mean age of a Nobel laureate in Medicine is \"+str(medicine))"
   ]
  },
  {
   "cell_type": "code",
   "execution_count": 13,
   "id": "279b5cdf",
   "metadata": {},
   "outputs": [
    {
     "name": "stdout",
     "output_type": "stream",
     "text": [
      "The mean age of a Nobel laureate in Physics is 55.351351351351354\n"
     ]
    }
   ],
   "source": [
    "physics = nobel_data.loc[nobel_data['category']=='physics','age'].mean()\n",
    "print(\"The mean age of a Nobel laureate in Physics is \"+str(physics))"
   ]
  },
  {
   "cell_type": "code",
   "execution_count": 14,
   "id": "aa9eefca",
   "metadata": {},
   "outputs": [
    {
     "name": "stdout",
     "output_type": "stream",
     "text": [
      "The mean age of a Nobel laureate in Chemistry is 57.83505154639175\n"
     ]
    }
   ],
   "source": [
    "chemistry = nobel_data.loc[nobel_data['category']=='chemistry','age'].mean()\n",
    "print(\"The mean age of a Nobel laureate in Chemistry is \"+str(chemistry))"
   ]
  },
  {
   "cell_type": "code",
   "execution_count": 15,
   "id": "b8fbc50b",
   "metadata": {},
   "outputs": [
    {
     "name": "stdout",
     "output_type": "stream",
     "text": [
      "The mean age of a Nobel laureate in Economics is 66.34939759036145\n"
     ]
    }
   ],
   "source": [
    "economics = nobel_data.loc[nobel_data['category']=='economics','age'].mean()\n",
    "print(\"The mean age of a Nobel laureate in Economics is \"+str(economics))"
   ]
  },
  {
   "cell_type": "code",
   "execution_count": 16,
   "id": "6e535d47",
   "metadata": {},
   "outputs": [
    {
     "name": "stdout",
     "output_type": "stream",
     "text": [
      "The mean age of a Nobel laureate in Literature is 64.67256637168141\n"
     ]
    }
   ],
   "source": [
    "literature = nobel_data.loc[nobel_data['category']=='literature','age'].mean()\n",
    "print(\"The mean age of a Nobel laureate in Literature is \"+str(literature))"
   ]
  },
  {
   "cell_type": "markdown",
   "id": "7b8cdbbf",
   "metadata": {},
   "source": [
    "There are slight variations in the mean across Medicine, Physics, and Chemistry but the mean age of a Nobel laureate stays around in late 50s. There are also slight variations in the mean across Economics and Literature, but the mean age of a Nobel laureate stays around late 60s."
   ]
  },
  {
   "cell_type": "code",
   "execution_count": 10,
   "id": "50464dc4",
   "metadata": {},
   "outputs": [
    {
     "data": {
      "text/html": [
       "<div>\n",
       "<style scoped>\n",
       "    .dataframe tbody tr th:only-of-type {\n",
       "        vertical-align: middle;\n",
       "    }\n",
       "\n",
       "    .dataframe tbody tr th {\n",
       "        vertical-align: top;\n",
       "    }\n",
       "\n",
       "    .dataframe thead th {\n",
       "        text-align: right;\n",
       "    }\n",
       "</style>\n",
       "<table border=\"1\" class=\"dataframe\">\n",
       "  <thead>\n",
       "    <tr style=\"text-align: right;\">\n",
       "      <th></th>\n",
       "      <th>year</th>\n",
       "      <th>age</th>\n",
       "    </tr>\n",
       "  </thead>\n",
       "  <tbody>\n",
       "    <tr>\n",
       "      <th>0</th>\n",
       "      <td>1901.0</td>\n",
       "      <td>61.000000</td>\n",
       "    </tr>\n",
       "    <tr>\n",
       "      <th>1</th>\n",
       "      <td>1902.0</td>\n",
       "      <td>56.285714</td>\n",
       "    </tr>\n",
       "    <tr>\n",
       "      <th>2</th>\n",
       "      <td>1903.0</td>\n",
       "      <td>52.000000</td>\n",
       "    </tr>\n",
       "    <tr>\n",
       "      <th>3</th>\n",
       "      <td>1904.0</td>\n",
       "      <td>63.000000</td>\n",
       "    </tr>\n",
       "    <tr>\n",
       "      <th>4</th>\n",
       "      <td>1905.0</td>\n",
       "      <td>59.200000</td>\n",
       "    </tr>\n",
       "    <tr>\n",
       "      <th>...</th>\n",
       "      <td>...</td>\n",
       "      <td>...</td>\n",
       "    </tr>\n",
       "    <tr>\n",
       "      <th>108</th>\n",
       "      <td>2012.0</td>\n",
       "      <td>65.285714</td>\n",
       "    </tr>\n",
       "    <tr>\n",
       "      <th>109</th>\n",
       "      <td>2013.0</td>\n",
       "      <td>70.866667</td>\n",
       "    </tr>\n",
       "    <tr>\n",
       "      <th>110</th>\n",
       "      <td>2014.0</td>\n",
       "      <td>58.615385</td>\n",
       "    </tr>\n",
       "    <tr>\n",
       "      <th>111</th>\n",
       "      <td>2015.0</td>\n",
       "      <td>73.000000</td>\n",
       "    </tr>\n",
       "    <tr>\n",
       "      <th>112</th>\n",
       "      <td>2016.0</td>\n",
       "      <td>71.333333</td>\n",
       "    </tr>\n",
       "  </tbody>\n",
       "</table>\n",
       "<p>113 rows × 2 columns</p>\n",
       "</div>"
      ],
      "text/plain": [
       "       year        age\n",
       "0    1901.0  61.000000\n",
       "1    1902.0  56.285714\n",
       "2    1903.0  52.000000\n",
       "3    1904.0  63.000000\n",
       "4    1905.0  59.200000\n",
       "..      ...        ...\n",
       "108  2012.0  65.285714\n",
       "109  2013.0  70.866667\n",
       "110  2014.0  58.615385\n",
       "111  2015.0  73.000000\n",
       "112  2016.0  71.333333\n",
       "\n",
       "[113 rows x 2 columns]"
      ]
     },
     "execution_count": 10,
     "metadata": {},
     "output_type": "execute_result"
    }
   ],
   "source": [
    "nobel_data_valid.groupby('year', as_index = False)[\"age\"].mean()"
   ]
  },
  {
   "cell_type": "code",
   "execution_count": 11,
   "id": "4e1677b4",
   "metadata": {},
   "outputs": [
    {
     "data": {
      "text/plain": [
       "<seaborn.axisgrid.FacetGrid at 0x18be84068b0>"
      ]
     },
     "execution_count": 11,
     "metadata": {},
     "output_type": "execute_result"
    },
    {
     "data": {
      "image/png": "[encoded data removed]",
      "text/plain": [
       "<Figure size 360x360 with 1 Axes>"
      ]
     },
     "metadata": {
      "needs_background": "light"
     },
     "output_type": "display_data"
    }
   ],
   "source": [
    "seaborn.lmplot(data = nobel_data_valid, x = 'year', y = 'age')"
   ]
  },
  {
   "cell_type": "markdown",
   "id": "b3ebc0d0",
   "metadata": {},
   "source": [
    "There is an increasing trend above, showing that Nobel Prize laureates are winning at a later age over time with some outliers. There are few outliers that stand out, such as a laureate who seemed to have won their prize at an age of around 25 close to the year 1915 and anoher who seemed to won their prize at an age of around 15 close to the year 2016."
   ]
  },
  {
   "cell_type": "markdown",
   "id": "ce44fe21",
   "metadata": {},
   "source": [
    "Conclusion: As shown above, age has bearing on the likelihood of winning a Nobel Prize. A typical age of Nobel Prize laureate at the time of win is 59.4593147751606. When we looked closer at the mean of age in the five categories, there are differences in the age of a typical laureate. We noticed that Nobel Prize laureates are more likely to win in late 60s for Economics and Literature, but winning at late 50s is more likely for Medicine, Physics, and Chemistry. "
   ]
  },
  {
   "cell_type": "markdown",
   "id": "c75a987e",
   "metadata": {},
   "source": [
    "#### Section 2: Nobel Awards by country"
   ]
  },
  {
   "cell_type": "code",
   "execution_count": 28,
   "id": "eb40e5c7",
   "metadata": {},
   "outputs": [
    {
     "data": {
      "text/plain": [
       "US    275\n",
       "GB    102\n",
       "DE     89\n",
       "FR     56\n",
       "PL     30\n",
       "Name: bornCountryCode, dtype: int64"
      ]
     },
     "execution_count": 28,
     "metadata": {},
     "output_type": "execute_result"
    }
   ],
   "source": [
    "laur_countries = nobel_data['bornCountryCode'].value_counts()\n",
    "laur_countries.head()"
   ]
  },
  {
   "cell_type": "code",
   "execution_count": 26,
   "id": "1c95d53a",
   "metadata": {},
   "outputs": [
    {
     "name": "stdout",
     "output_type": "stream",
     "text": [
      "BG    1\n",
      "ZW    1\n",
      "YE    1\n",
      "TW    1\n",
      "CY    1\n",
      "Name: bornCountryCode, dtype: int64\n"
     ]
    }
   ],
   "source": [
    "least_laur_countries = laur_countries.sort_values(ascending = True)\n",
    "print(least_laur_countries[])"
   ]
  },
  {
   "cell_type": "markdown",
   "id": "82e8ae0e",
   "metadata": {},
   "source": [
    "## Evaluation of Significance"
   ]
  },
  {
   "cell_type": "markdown",
   "id": "b006bb27",
   "metadata": {},
   "source": []
  },
  {
   "cell_type": "markdown",
   "id": "0349bc2c",
   "metadata": {},
   "source": [
    "## Interpretation and Conclusions"
   ]
  },
  {
   "cell_type": "markdown",
   "id": "021b9ccc",
   "metadata": {},
   "source": []
  },
  {
   "cell_type": "markdown",
   "id": "dbdb21fe",
   "metadata": {},
   "source": [
    "## Limitations"
   ]
  },
  {
   "cell_type": "markdown",
   "id": "0efccbc1",
   "metadata": {},
   "source": [
    "One primary limitation of our data is that it was collected in 2016: there have been 6 years' worth of laureates since then, and thus 6 years of data we cannot work with. It is also of some concern that the most recent years are missing: if there are any trends over time in our data, this might limit our ability to accurately model those trends or make predictions. For example, with the raising awareness of gender equality and female awakening efforts in academia, a notable increase in female laureates occurred in the 6 years (2016-2022). 12 women won Nobel in that 6 years, and the total number of female laureates before 2016 is around 60. Therefore, we weren’t able to analyze the rapid change in gender bias. Additionally, a big health challenge, COVID, happened in the three years of the six years with missing data, so we couldn’t analyze how COVID played a role in scientific breakthroughs. Additionally, all the organizations and some people have missing data, such as birth dates, which means that we have to work around those missing data to complete our data analysis."
   ]
  },
  {
   "cell_type": "markdown",
   "id": "238c70e0",
   "metadata": {},
   "source": [
    "## Source Code"
   ]
  },
  {
   "cell_type": "markdown",
   "id": "3bf37141",
   "metadata": {},
   "source": [
    "The shared repository for our project (which holds our source data as well as files for each phase of the project) can be found at: \n",
    "\n",
    "https://github.com/qbello22/2950-Project"
   ]
  },
  {
   "cell_type": "markdown",
   "id": "50e5ef84",
   "metadata": {},
   "source": [
    "## Acknowledgements"
   ]
  },
  {
   "cell_type": "markdown",
   "id": "726c46cc",
   "metadata": {},
   "source": [
    "Harvard Dataverse Repo & "
   ]
  }
 ],
 "metadata": {
  "interpreter": {
   "hash": "4f30da6fd141dcec1f686a2d3870ea3fbe3345d19df0b7c05e23f27c1e7c07e3"
  },
  "kernelspec": {
   "display_name": "Python 3.8.13 ('info2950')",
   "language": "python",
   "name": "python3"
  },
  "language_info": {
   "codemirror_mode": {
    "name": "ipython",
    "version": 3
   },
   "file_extension": ".py",
   "mimetype": "text/x-python",
   "name": "python",
   "nbconvert_exporter": "python",
   "pygments_lexer": "ipython3",
   "version": "3.8.13"
  },
  "vscode": {
   "interpreter": {
    "hash": "2ca7599ec655074b9585b3d423579b04116d3b2a93d04538267c67ce0c059495"
   }
  }
 },
 "nbformat": 4,
 "nbformat_minor": 5
}
