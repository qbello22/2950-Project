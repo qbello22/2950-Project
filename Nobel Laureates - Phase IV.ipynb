{
 "cells": [
  {
   "cell_type": "markdown",
   "id": "a3cc51d9",
   "metadata": {},
   "source": [
    "# INFO 2950 Group Project: What Makes a Nobel Prize Laureate?"
   ]
  },
  {
   "cell_type": "markdown",
   "id": "05d54950",
   "metadata": {},
   "source": [
    "## Introduction"
   ]
  },
  {
   "cell_type": "markdown",
   "id": "feca7ca4",
   "metadata": {},
   "source": [
    "Context"
   ]
  },
  {
   "cell_type": "markdown",
   "id": "bed12114",
   "metadata": {},
   "source": [
    "The main question we were interested in exploring was: what characteristics are likely among Nobel laureates, and what biases do those characteristics potentially reveal within the Nobel committee?\n",
    "\n",
    "Due to the scope of this project, we focused on a few more specific areas for our analysis:  \n",
    "    \n",
    "What countries produce the most Nobel laureates? \n",
    "    \n",
    "Are Nobel laureates more likely to hail from the Anglosphere? \n",
    "    \n",
    "Does age have any bearing on the awarding of a Nobel Prize? \n",
    "    \n",
    "Are Nobel Prize laureates getting older?"
   ]
  },
  {
   "cell_type": "markdown",
   "id": "3c71f120",
   "metadata": {},
   "source": [
    "Main findings/brief summary"
   ]
  },
  {
   "cell_type": "markdown",
   "id": "f18b7283",
   "metadata": {},
   "source": [
    "## Data Description"
   ]
  },
  {
   "cell_type": "markdown",
   "id": "0f25741f",
   "metadata": {},
   "source": [
    "#### What are the observations (rows) and the attributes (columns)?\n",
    "\n",
    "The observations in our data frame are 937 Nobel Prize laureates, representing all winners from the first prizes awarded through the year 2016. In other words, each row represents a single laureate.\n",
    "\n",
    "The attributes are:\n",
    "\n",
    "- id - identifies each laureate \n",
    "- firstname - laureate's first name \n",
    "- surname - laureate's surname \n",
    "- born - laureate's birth date \n",
    "- died - laureate's death date \n",
    "- bornCountry - laureate's birth place \n",
    "- bornCountryCode - the country code of the laureate's country of origin\n",
    "- bornCity - the name of the city where the laureate was born\n",
    "- diedCountry - the name of the country where the laureate died\n",
    "- diedCountryCode - the country code of the laureate's country of death\n",
    "- diedCity - the name of the city where the laureate died\n",
    "- gender - laureate's gender or laureate's organization ('male,' 'female,' or 'org' - organization)\n",
    "- year - the year that the laureate won their prize\n",
    "- category - the category in which the laureate won their prize ('physics,' 'chemistry,' 'peace,' 'medicine,' 'literature,' 'economics')\n",
    "- overallMotivation - overall motivation for being awarded the prize\n",
    "- share - number of other laureates who share the prize \n",
    "- motivation - the motivation behind being awarded the prize\n",
    "\n",
    "#### Why was this dataset created?\n",
    "\n",
    "The dataset was assembled by Maryna Kuzmenko in 2016, and intended to be a starting point for social sciences research into the characteristics of Nobel prize awards and laureates (both quantitative and categorical). It is available through the Harvard Dataverse Repository. \n",
    "\n",
    "#### Who funded the creation of the dataset?\n",
    "\n",
    "Harvard's Dataverse Repository is free and open to researchers for sharing and archiving research data. Maryna Kuzmenko holds a Doctorate of Philosophy; no information on the funding for the creation of this particular dataset is available, but it appears to have been created while she was pursuing her doctorate at Kyiv University. \n",
    "\n",
    "#### Are there any errors, sources of noise, or redundancies in the dataset?\n",
    "\n",
    "We were able to identify one section of rows that seemed to be included erroneously (containing no data except for the gender characteristic, and not matching with any potential missing data that we could find). As such, we removed those rows from the dataset before continuing with our own analysis.\n",
    "\n",
    "#### Is it possible to identify individuals (i.e., one or more natural persons), either directly or indirectly (i.e., in combination with other data) from the dataset? If so, please describe how.\n",
    "\n",
    "By the nature of our dataset, each instance is identifiable as a specific person, by name, location, age, and more. This was determined not to be a privacy concern, because of the public nature of the Nobel Prize and its laureates.  \n",
    "\n",
    "#### What processes might have influenced what data was observed and recorded and what was not?\n",
    "\n",
    "Fortunately for us, the Nobel Prize is a prestigious and public-facing award for excellence in a field; as such, information about each year's awards, and the laureates who received them, is generally well-documented. We are reassured by the completeness of our dataset: though not every row is perfectly complete, as a whole data on each laureate is present and accurate (by our appraisal). \n",
    "\n",
    "#### What preprocessing was done, and how did the data come to be in the form that you are using?\n",
    "\n",
    "The data on each laureate was collected into a single .csv file, with each instance representing a single Nobel Prize winner, and columns with characteristics about each of those instances. The entire population of laureates (through 2016) is represented, and no transformations or further processing was done to the data once collected. \n",
    "\n",
    "#### If people are involved, were they aware of the data collection and if so, what purpose did they expect the data to be used for?\n",
    "\n",
    "Though there is no record that the Nobel laureates that were living at the time this dataset was assembled were notified, the data collected about them (as at least semi-public figures) is publicly available. \n",
    "\n",
    "#### Where can your raw source data be found, if applicable? Provide a link to the raw data (hosted in a Cornell Google Drive or Cornell Box)\n",
    "\n",
    "https://drive.google.com/file/d/1x30zuyFBpWepBgc7cQt9x1yU46Qscgtg/view?usp=sharing"
   ]
  },
  {
   "cell_type": "markdown",
   "id": "93751f1a",
   "metadata": {},
   "source": [
    "## Preregistration Statement"
   ]
  },
  {
   "cell_type": "markdown",
   "id": "9246077b",
   "metadata": {},
   "source": [
    "##### Hypothesis 1:\n",
    "**Nobel laureates are not more or less likely to win at a certain age. ($\\beta_{age}$ = 0)**\n",
    "\n",
    "It seemed that most recent discoveries are not usually recognized by the Nobel Prize right away. We wanted to look into the potential relationship that might exist between age and win. We will also consider outliers that may exist in our data to get a full scope of how the likelihood of winning the prize might change as age changes.\n",
    "\n",
    "##### Hypothesis 2:\n",
    "**Nobel Laureates are more likely to come from English-speaking countries. ($\\beta_{English-speaking}$ > 0)**\n",
    "\n",
    "Nobel Prizes are one of the most prestigious awards around the world. We wanted to test how well the Nobel Prize recognizes contributions made globally, not just by some people in select countries. "
   ]
  },
  {
   "cell_type": "markdown",
   "id": "2a6bcedb",
   "metadata": {},
   "source": [
    "## Data Analysis"
   ]
  },
  {
   "cell_type": "code",
   "execution_count": 95,
   "id": "a0b1ca33",
   "metadata": {},
   "outputs": [],
   "source": [
    "import pandas as pd \n",
    "import numpy as np\n",
    "import seaborn \n",
    "from sklearn.linear_model import LinearRegression, LogisticRegression\n",
    "from sklearn import metrics\n",
    "from matplotlib import pyplot\n",
    "from datetime import datetime, date\n",
    "from sklearn.model_selection import train_test_split\n",
    "\n",
    "nobel_data = pd.read_csv('nobel_data_final.csv')"
   ]
  },
  {
   "cell_type": "markdown",
   "id": "e30dc911",
   "metadata": {},
   "source": [
    "#### Section 1: Age of a Nobel laureate"
   ]
  },
  {
   "cell_type": "markdown",
   "id": "9d0ef6c9",
   "metadata": {},
   "source": [
    "To begin analysis of Nobel laureate age, we created a new dataframe, nobel_data_valid, without any \"age\" values that are 0 so that we can create models using the \"age\" column without instances that are missing their ages. Nearly all of these rows represent organizational winners, rather than individuals, so the age data for these instances would not be relevant to our analysis."
   ]
  },
  {
   "cell_type": "code",
   "execution_count": 96,
   "id": "5c7c599f",
   "metadata": {},
   "outputs": [],
   "source": [
    "nobel_data_valid = nobel_data.loc[nobel_data['age']!=0]"
   ]
  },
  {
   "cell_type": "code",
   "execution_count": 97,
   "id": "a5851edb",
   "metadata": {},
   "outputs": [
    {
     "data": {
      "text/plain": [
       "Text(0.5, 1.0, 'Number of Nobel Prizes Awarded, by Age at Time of Award')"
      ]
     },
     "execution_count": 97,
     "metadata": {},
     "output_type": "execute_result"
    },
    {
     "data": {
      "image/png": "[encoded data removed]",
      "text/plain": [
       "<Figure size 432x288 with 1 Axes>"
      ]
     },
     "metadata": {
      "needs_background": "light"
     },
     "output_type": "display_data"
    }
   ],
   "source": [
    "histplot = seaborn.histplot(nobel_data_valid['age'], kde=True)\n",
    "histplot.set_xlabel('Age')\n",
    "histplot.set_ylabel('Number of Nobel Prizes')\n",
    "histplot.set_title('Number of Nobel Prizes Awarded, by Age at Time of Award')"
   ]
  },
  {
   "cell_type": "code",
   "execution_count": 98,
   "id": "c36bdb92",
   "metadata": {},
   "outputs": [
    {
     "name": "stdout",
     "output_type": "stream",
     "text": [
      "The mean age of a Nobel laureate is 59.4593147751606, with a standard deviation of 12.384339675481367.\n"
     ]
    }
   ],
   "source": [
    "print(\"The mean age of a Nobel laureate is \"+str(nobel_data_valid['age'].mean())+\", with a standard deviation of \"+str(nobel_data_valid['age'].std())+\".\")"
   ]
  },
  {
   "cell_type": "markdown",
   "id": "86f57521",
   "metadata": {},
   "source": [
    "The histogram shows that Nobel Prize laureates usually win at around the age of 60. As Age increases to around 60, there is an overall increase in the Count of Nobel Prizes. However, after around age of 60, as Age increases, there is an overall decrease in the Count of Nobel Prizes. There are some peaks around the age of 60, so we could look into how the mean age of a Nobel laureate varies across categories."
   ]
  },
  {
   "cell_type": "code",
   "execution_count": 99,
   "id": "2dd99649",
   "metadata": {},
   "outputs": [
    {
     "name": "stdout",
     "output_type": "stream",
     "text": [
      "The mean age of a Nobel laureate in Medicine is 57.57333333333333\n",
      "The mean age of a Nobel laureate in Physics is 55.351351351351354\n",
      "The mean age of a Nobel laureate in Chemistry is 57.83505154639175\n",
      "The mean age of a Nobel laureate in Economics is 66.34939759036145\n",
      "The mean age of a Nobel laureate in Literature is 64.67256637168141\n"
     ]
    }
   ],
   "source": [
    "medicine = nobel_data.loc[nobel_data['category']=='medicine','age'].mean()\n",
    "print(\"The mean age of a Nobel laureate in Medicine is \"+str(medicine))\n",
    "\n",
    "physics = nobel_data.loc[nobel_data['category']=='physics','age'].mean()\n",
    "print(\"The mean age of a Nobel laureate in Physics is \"+str(physics))\n",
    "\n",
    "chemistry = nobel_data.loc[nobel_data['category']=='chemistry','age'].mean()\n",
    "print(\"The mean age of a Nobel laureate in Chemistry is \"+str(chemistry))\n",
    "\n",
    "economics = nobel_data.loc[nobel_data['category']=='economics','age'].mean()\n",
    "print(\"The mean age of a Nobel laureate in Economics is \"+str(economics))\n",
    "\n",
    "literature = nobel_data.loc[nobel_data['category']=='literature','age'].mean()\n",
    "print(\"The mean age of a Nobel laureate in Literature is \"+str(literature))"
   ]
  },
  {
   "cell_type": "code",
   "execution_count": 100,
   "id": "df5284c4",
   "metadata": {},
   "outputs": [
    {
     "data": {
      "text/plain": [
       "<AxesSubplot:xlabel='age', ylabel='Count'>"
      ]
     },
     "execution_count": 100,
     "metadata": {},
     "output_type": "execute_result"
    },
    {
     "data": {
      "image/png": "[encoded data removed]",
      "text/plain": [
       "<Figure size 432x288 with 1 Axes>"
      ]
     },
     "metadata": {
      "needs_background": "light"
     },
     "output_type": "display_data"
    },
    {
     "data": {
      "image/png": "[encoded data removed]",
      "text/plain": [
       "<Figure size 432x288 with 1 Axes>"
      ]
     },
     "metadata": {
      "needs_background": "light"
     },
     "output_type": "display_data"
    },
    {
     "data": {
      "image/png": "[encoded data removed]",
      "text/plain": [
       "<Figure size 432x288 with 1 Axes>"
      ]
     },
     "metadata": {
      "needs_background": "light"
     },
     "output_type": "display_data"
    },
    {
     "data": {
      "image/png": "[encoded data removed]",
      "text/plain": [
       "<Figure size 432x288 with 1 Axes>"
      ]
     },
     "metadata": {
      "needs_background": "light"
     },
     "output_type": "display_data"
    },
    {
     "data": {
      "image/png": "[encoded data removed]",
      "text/plain": [
       "<Figure size 432x288 with 1 Axes>"
      ]
     },
     "metadata": {
      "needs_background": "light"
     },
     "output_type": "display_data"
    }
   ],
   "source": [
    "pyplot.figure()\n",
    "seaborn.histplot(data=nobel_data_valid[nobel_data_valid[\"category\"]=='medicine'], x= 'age')\n",
    "pyplot.figure()\n",
    "seaborn.histplot(data=nobel_data_valid[nobel_data_valid[\"category\"]=='physics'], x= 'age')\n",
    "pyplot.figure()\n",
    "seaborn.histplot(data=nobel_data_valid[nobel_data_valid[\"category\"]=='chemistry'], x= 'age')\n",
    "pyplot.figure()\n",
    "seaborn.histplot(data=nobel_data_valid[nobel_data_valid[\"category\"]=='economics'], x= 'age')\n",
    "pyplot.figure()\n",
    "seaborn.histplot(data=nobel_data_valid[nobel_data_valid[\"category\"]=='literature'], x= 'age')\n"
   ]
  },
  {
   "cell_type": "markdown",
   "id": "af9478e1",
   "metadata": {},
   "source": [
    "There are slight variations in the mean across Medicine, Physics, and Chemistry but the mean age of a Nobel laureate stays around in late 50s. There are also slight variations in the mean across Economics and Literature, but the mean age of a Nobel laureate stays around late 60s."
   ]
  },
  {
   "cell_type": "code",
   "execution_count": 101,
   "id": "4e1677b4",
   "metadata": {},
   "outputs": [
    {
     "data": {
      "text/plain": [
       "<seaborn.axisgrid.FacetGrid at 0x7f852cfcc9a0>"
      ]
     },
     "execution_count": 101,
     "metadata": {},
     "output_type": "execute_result"
    },
    {
     "data": {
      "image/png": "[encoded data removed]",
      "text/plain": [
       "<Figure size 360x360 with 1 Axes>"
      ]
     },
     "metadata": {
      "needs_background": "light"
     },
     "output_type": "display_data"
    }
   ],
   "source": [
    "seaborn.lmplot(data = nobel_data_valid, x = 'year', y = 'age')"
   ]
  },
  {
   "cell_type": "markdown",
   "id": "379eb452",
   "metadata": {},
   "source": [
    "There is an increasing trend above, showing that Nobel Prize laureates are winning at a later age over time with some outliers. There are few outliers that stand out, such as a laureate who seemed to have won their prize at an age of around 25 close to the year 1915 and anoher who seemed to won their prize at an age of around 15 close to the year 2016."
   ]
  },
  {
   "cell_type": "code",
   "execution_count": 102,
   "id": "46be54b7",
   "metadata": {},
   "outputs": [],
   "source": [
    "nobel_data_train, nobel_data_test = train_test_split(nobel_data,test_size = 0.20)"
   ]
  },
  {
   "cell_type": "code",
   "execution_count": 103,
   "id": "836646f8",
   "metadata": {},
   "outputs": [],
   "source": [
    "def run_regression(variables, train, test, target):\n",
    "    model = LinearRegression().fit(train[variables], train[target])\n",
    "    \n",
    "    predictions_for_train = model.predict(train[variables])\n",
    "    predictions_for_test = model.predict(test[variables])\n",
    "    \n",
    "    rmse_train = np.sqrt(np.mean((predictions_for_train - train[target])**2))\n",
    "    rmse_test = np.sqrt(np.mean((predictions_for_test - test[target])**2))\n",
    "\n",
    "    mae_train = np.mean(np.abs(predictions_for_train - train[target]))\n",
    "    mae_test = np.mean(np.abs(predictions_for_test - test[target]))\n",
    "\n",
    "    print(f\"The variable is: {variables}\")\n",
    "    print(f\"The coefficient is: {model.coef_}\")\n",
    "    print(f\"The intercept is: {model.intercept_}\")\n",
    "    print(f\"The RMSE of the training set is: {rmse_train}\")\n",
    "    print(f\"The RMSE of the testing set is: {rmse_test}\")\n",
    "    print(f\"The MAE of the training set is: {mae_train}\")\n",
    "    print(f\"The MAE of the testing set is: {mae_test}\")\n",
    "\n",
    "    #print(variables, model.coef_, model.intercept_, rmse_train, rmse_test, mae_train, mae_test)"
   ]
  },
  {
   "cell_type": "code",
   "execution_count": 104,
   "id": "4ce42fbc",
   "metadata": {},
   "outputs": [
    {
     "name": "stdout",
     "output_type": "stream",
     "text": [
      "The variable is: ['anglosphere']\n",
      "The coefficient is: [1.94627461]\n",
      "The intercept is: 56.55679287305122\n",
      "The RMSE of the training set is: 16.909409433011817\n",
      "The RMSE of the testing set is: 14.342953247572563\n",
      "The MAE of the training set is: 12.324589357267307\n",
      "The MAE of the testing set is: 10.760979676549509\n",
      "The variable is: ['gender_binary']\n",
      "The coefficient is: [20.81343445]\n",
      "The intercept is: 38.30769230769232\n",
      "The RMSE of the training set is: 15.923746894636182\n",
      "The RMSE of the testing set is: 13.675590050826614\n",
      "The MAE of the training set is: 12.088015936811937\n",
      "The MAE of the testing set is: 10.609910533781594\n"
     ]
    }
   ],
   "source": [
    "for variable in [\"anglosphere\", \"gender_binary\"]:\n",
    "    run_regression([variable], nobel_data_train, nobel_data_test, \"age\")"
   ]
  },
  {
   "cell_type": "markdown",
   "id": "72db84f0",
   "metadata": {},
   "source": [
    "Gender has a greater influence on the age of the Nobel Prize laureate at win compared to being born in an Enligh-speaking country. "
   ]
  },
  {
   "cell_type": "markdown",
   "id": "e67f51bc",
   "metadata": {},
   "source": [
    "As shown above, age has bearing on the likelihood of winning a Nobel Prize. A typical age of Nobel Prize laureate at the time of win is 59.4593147751606. When we looked closer at the mean of age in the five categories, there are differences in the age of a typical laureate. We noticed that Nobel Prize laureates are more likely to win in late 60s for Economics and Literature, but winning at late 50s is more likely for Medicine, Physics, and Chemistry. "
   ]
  },
  {
   "cell_type": "markdown",
   "id": "c75a987e",
   "metadata": {},
   "source": [
    "#### Section 2: Nobel Awards by country"
   ]
  },
  {
   "cell_type": "markdown",
   "id": "cc8e82a1",
   "metadata": {},
   "source": [
    "First, we print out the list of the 5 countries home to the most laureates: "
   ]
  },
  {
   "cell_type": "code",
   "execution_count": 105,
   "id": "eb40e5c7",
   "metadata": {},
   "outputs": [
    {
     "data": {
      "text/plain": [
       "US    275\n",
       "GB    102\n",
       "DE     89\n",
       "FR     56\n",
       "PL     30\n",
       "Name: bornCountryCode, dtype: int64"
      ]
     },
     "execution_count": 105,
     "metadata": {},
     "output_type": "execute_result"
    }
   ],
   "source": [
    "laur_countries = nobel_data['bornCountryCode'].value_counts()\n",
    "laur_countries.head()"
   ]
  },
  {
   "cell_type": "markdown",
   "id": "7e619790",
   "metadata": {},
   "source": [
    "The five countries that produced the most Nobel laureates are the United States, the United Kingdom, Germany, France, and Poland. The presence of two Anglosphere countries in the top 5 indicates that our Hypothesis 2 may be proven correct, with some further analysis.\n",
    "\n",
    "Next, we find the number of countries that are represented by only a single laureate: "
   ]
  },
  {
   "cell_type": "code",
   "execution_count": 106,
   "id": "1c95d53a",
   "metadata": {},
   "outputs": [
    {
     "data": {
      "text/plain": [
       "27"
      ]
     },
     "execution_count": 106,
     "metadata": {},
     "output_type": "execute_result"
    }
   ],
   "source": [
    "least_laur_countries = laur_countries.sort_values(ascending = True)\n",
    "least_laur_countries.value_counts()[1]"
   ]
  },
  {
   "cell_type": "markdown",
   "id": "b33af748",
   "metadata": {},
   "source": [
    "There are 27 countries (of the 76 represented by a Nobel laureate) home to only a single Nobel Prize winner. Combined with the high award counts for the top 5 countries, this seems to indicate a fairly strong preference for a small set of countries. \n",
    "\n",
    "To get a sense of the shape of this distribution, we plot a histogram of each country's laureates: "
   ]
  },
  {
   "cell_type": "code",
   "execution_count": 107,
   "id": "aa60f7d9",
   "metadata": {},
   "outputs": [
    {
     "data": {
      "image/png": "[encoded data removed]",
      "text/plain": [
       "<Figure size 432x288 with 1 Axes>"
      ]
     },
     "metadata": {
      "needs_background": "light"
     },
     "output_type": "display_data"
    }
   ],
   "source": [
    "ax = seaborn.countplot(x = 'bornCountryCode', data=nobel_data, order=laur_countries.index)\n",
    "ax.set(xticks = [])\n",
    "pyplot.show()"
   ]
  },
  {
   "cell_type": "markdown",
   "id": "6ea8b627",
   "metadata": {},
   "source": [
    "This plot shows an immense disparity between countries, with the sharp (negative) logarithmic relationship that was indicated by the above statistics. Clearly, figures from certain countries appear to be favored by the Nobel committee for nomination and awards; we now move to examine whether a country being a part of the Anglosphere makes its scholars and public figures more likely to win Nobel Prizes. "
   ]
  },
  {
   "cell_type": "code",
   "execution_count": 108,
   "id": "e2970a0b",
   "metadata": {},
   "outputs": [
    {
     "name": "stdout",
     "output_type": "stream",
     "text": [
      "409 out of the total 969 Nobel Prize laureates, or 42.21 percent, are from one of the five Anglosphere countries.\n"
     ]
    }
   ],
   "source": [
    "print(str(nobel_data['anglosphere'].sum()) + \" out of the total \" + str(len(nobel_data)) + \" Nobel Prize laureates, or \" + str(round((nobel_data['anglosphere'].sum()/len(nobel_data))*100, 2)) + \" percent, are from one of the five Anglosphere countries.\")"
   ]
  },
  {
   "cell_type": "code",
   "execution_count": 109,
   "id": "214bcb07",
   "metadata": {},
   "outputs": [
    {
     "name": "stdout",
     "output_type": "stream",
     "text": [
      "Of those, 275, or 28.38 percent of all laureates, are from the United States.\n"
     ]
    }
   ],
   "source": [
    "print(\"Of those, \" + str((nobel_data['bornCountryCode'] == 'US').sum()) + \", or \" + str(round((nobel_data['bornCountryCode'] == 'US').sum()/len(nobel_data)*100, 2)) + \" percent of all laureates, are from the United States.\")"
   ]
  },
  {
   "cell_type": "code",
   "execution_count": 110,
   "id": "4db8c930",
   "metadata": {},
   "outputs": [
    {
     "name": "stdout",
     "output_type": "stream",
     "text": [
      "134, or 13.83 percent of all laureates, are from a non-US Anglosphere country.\n"
     ]
    }
   ],
   "source": [
    "non_us_anglo = (nobel_data['bornCountryCode'] == 'GB').sum() + (nobel_data['bornCountryCode'] == 'CA').sum() + (nobel_data['bornCountryCode'] == 'NZ').sum() + (nobel_data['bornCountryCode'] == 'AU').sum()\n",
    "print(str(non_us_anglo) + \", or \" + str(round(non_us_anglo/len(nobel_data)*100, 2)) + \" percent of all laureates, are from a non-US Anglosphere country.\")"
   ]
  },
  {
   "cell_type": "code",
   "execution_count": 111,
   "id": "5bc3bfe7",
   "metadata": {},
   "outputs": [
    {
     "data": {
      "text/plain": [
       "<AxesSubplot:xlabel='anglosphere', ylabel='count'>"
      ]
     },
     "execution_count": 111,
     "metadata": {},
     "output_type": "execute_result"
    },
    {
     "data": {
      "image/png": "[encoded data removed]",
      "text/plain": [
       "<Figure size 432x288 with 1 Axes>"
      ]
     },
     "metadata": {
      "needs_background": "light"
     },
     "output_type": "display_data"
    }
   ],
   "source": [
    "seaborn.countplot(x = 'anglosphere', data=nobel_data)"
   ]
  },
  {
   "cell_type": "code",
   "execution_count": 112,
   "id": "392dc6be",
   "metadata": {},
   "outputs": [
    {
     "name": "stdout",
     "output_type": "stream",
     "text": [
      "There are 28 laureates without a single country of origin, due to their status as an international organization.\n"
     ]
    },
    {
     "data": {
      "text/html": [
       "<div>\n",
       "<style scoped>\n",
       "    .dataframe tbody tr th:only-of-type {\n",
       "        vertical-align: middle;\n",
       "    }\n",
       "\n",
       "    .dataframe tbody tr th {\n",
       "        vertical-align: top;\n",
       "    }\n",
       "\n",
       "    .dataframe thead th {\n",
       "        text-align: right;\n",
       "    }\n",
       "</style>\n",
       "<table border=\"1\" class=\"dataframe\">\n",
       "  <thead>\n",
       "    <tr style=\"text-align: right;\">\n",
       "      <th></th>\n",
       "      <th>Unnamed: 0</th>\n",
       "      <th>id</th>\n",
       "      <th>firstname</th>\n",
       "      <th>surname</th>\n",
       "      <th>born</th>\n",
       "      <th>died</th>\n",
       "      <th>bornCountry</th>\n",
       "      <th>bornCountryCode</th>\n",
       "      <th>bornCity</th>\n",
       "      <th>diedCountry</th>\n",
       "      <th>...</th>\n",
       "      <th>category</th>\n",
       "      <th>overallMotivation</th>\n",
       "      <th>share</th>\n",
       "      <th>motivation</th>\n",
       "      <th>name</th>\n",
       "      <th>city</th>\n",
       "      <th>country</th>\n",
       "      <th>age</th>\n",
       "      <th>anglosphere</th>\n",
       "      <th>gender_binary</th>\n",
       "    </tr>\n",
       "  </thead>\n",
       "  <tbody>\n",
       "    <tr>\n",
       "      <th>489</th>\n",
       "      <td>489</td>\n",
       "      <td>467</td>\n",
       "      <td>Institut de droit international (Institute of ...</td>\n",
       "      <td>NaN</td>\n",
       "      <td>NaN</td>\n",
       "      <td>NaN</td>\n",
       "      <td>NaN</td>\n",
       "      <td>NaN</td>\n",
       "      <td>NaN</td>\n",
       "      <td>NaN</td>\n",
       "      <td>...</td>\n",
       "      <td>peace</td>\n",
       "      <td>NaN</td>\n",
       "      <td>1.0</td>\n",
       "      <td>NaN</td>\n",
       "      <td>NaN</td>\n",
       "      <td>NaN</td>\n",
       "      <td>NaN</td>\n",
       "      <td>0</td>\n",
       "      <td>0</td>\n",
       "      <td>0</td>\n",
       "    </tr>\n",
       "    <tr>\n",
       "      <th>498</th>\n",
       "      <td>498</td>\n",
       "      <td>477</td>\n",
       "      <td>Bureau international permanent de la Paix (Per...</td>\n",
       "      <td>NaN</td>\n",
       "      <td>NaN</td>\n",
       "      <td>NaN</td>\n",
       "      <td>NaN</td>\n",
       "      <td>NaN</td>\n",
       "      <td>NaN</td>\n",
       "      <td>NaN</td>\n",
       "      <td>...</td>\n",
       "      <td>peace</td>\n",
       "      <td>NaN</td>\n",
       "      <td>1.0</td>\n",
       "      <td>NaN</td>\n",
       "      <td>NaN</td>\n",
       "      <td>NaN</td>\n",
       "      <td>NaN</td>\n",
       "      <td>0</td>\n",
       "      <td>0</td>\n",
       "      <td>0</td>\n",
       "    </tr>\n",
       "    <tr>\n",
       "      <th>503</th>\n",
       "      <td>503</td>\n",
       "      <td>482</td>\n",
       "      <td>Comité international de la Croix Rouge (Intern...</td>\n",
       "      <td>NaN</td>\n",
       "      <td>NaN</td>\n",
       "      <td>NaN</td>\n",
       "      <td>NaN</td>\n",
       "      <td>NaN</td>\n",
       "      <td>NaN</td>\n",
       "      <td>NaN</td>\n",
       "      <td>...</td>\n",
       "      <td>peace</td>\n",
       "      <td>NaN</td>\n",
       "      <td>1.0</td>\n",
       "      <td>NaN</td>\n",
       "      <td>NaN</td>\n",
       "      <td>NaN</td>\n",
       "      <td>NaN</td>\n",
       "      <td>0</td>\n",
       "      <td>0</td>\n",
       "      <td>0</td>\n",
       "    </tr>\n",
       "    <tr>\n",
       "      <th>504</th>\n",
       "      <td>504</td>\n",
       "      <td>482</td>\n",
       "      <td>Comité international de la Croix Rouge (Intern...</td>\n",
       "      <td>NaN</td>\n",
       "      <td>NaN</td>\n",
       "      <td>NaN</td>\n",
       "      <td>NaN</td>\n",
       "      <td>NaN</td>\n",
       "      <td>NaN</td>\n",
       "      <td>NaN</td>\n",
       "      <td>...</td>\n",
       "      <td>peace</td>\n",
       "      <td>NaN</td>\n",
       "      <td>1.0</td>\n",
       "      <td>NaN</td>\n",
       "      <td>NaN</td>\n",
       "      <td>NaN</td>\n",
       "      <td>NaN</td>\n",
       "      <td>0</td>\n",
       "      <td>0</td>\n",
       "      <td>0</td>\n",
       "    </tr>\n",
       "    <tr>\n",
       "      <th>505</th>\n",
       "      <td>505</td>\n",
       "      <td>482</td>\n",
       "      <td>Comité international de la Croix Rouge (Intern...</td>\n",
       "      <td>NaN</td>\n",
       "      <td>NaN</td>\n",
       "      <td>NaN</td>\n",
       "      <td>NaN</td>\n",
       "      <td>NaN</td>\n",
       "      <td>NaN</td>\n",
       "      <td>NaN</td>\n",
       "      <td>...</td>\n",
       "      <td>peace</td>\n",
       "      <td>NaN</td>\n",
       "      <td>2.0</td>\n",
       "      <td>NaN</td>\n",
       "      <td>NaN</td>\n",
       "      <td>NaN</td>\n",
       "      <td>NaN</td>\n",
       "      <td>0</td>\n",
       "      <td>0</td>\n",
       "      <td>0</td>\n",
       "    </tr>\n",
       "  </tbody>\n",
       "</table>\n",
       "<p>5 rows × 24 columns</p>\n",
       "</div>"
      ],
      "text/plain": [
       "     Unnamed: 0   id                                          firstname  \\\n",
       "489         489  467  Institut de droit international (Institute of ...   \n",
       "498         498  477  Bureau international permanent de la Paix (Per...   \n",
       "503         503  482  Comité international de la Croix Rouge (Intern...   \n",
       "504         504  482  Comité international de la Croix Rouge (Intern...   \n",
       "505         505  482  Comité international de la Croix Rouge (Intern...   \n",
       "\n",
       "    surname born died bornCountry bornCountryCode bornCity diedCountry  ...  \\\n",
       "489     NaN  NaN  NaN         NaN             NaN      NaN         NaN  ...   \n",
       "498     NaN  NaN  NaN         NaN             NaN      NaN         NaN  ...   \n",
       "503     NaN  NaN  NaN         NaN             NaN      NaN         NaN  ...   \n",
       "504     NaN  NaN  NaN         NaN             NaN      NaN         NaN  ...   \n",
       "505     NaN  NaN  NaN         NaN             NaN      NaN         NaN  ...   \n",
       "\n",
       "    category overallMotivation share  motivation name city  country age  \\\n",
       "489    peace               NaN   1.0         NaN  NaN  NaN      NaN   0   \n",
       "498    peace               NaN   1.0         NaN  NaN  NaN      NaN   0   \n",
       "503    peace               NaN   1.0         NaN  NaN  NaN      NaN   0   \n",
       "504    peace               NaN   1.0         NaN  NaN  NaN      NaN   0   \n",
       "505    peace               NaN   2.0         NaN  NaN  NaN      NaN   0   \n",
       "\n",
       "    anglosphere gender_binary  \n",
       "489           0             0  \n",
       "498           0             0  \n",
       "503           0             0  \n",
       "504           0             0  \n",
       "505           0             0  \n",
       "\n",
       "[5 rows x 24 columns]"
      ]
     },
     "execution_count": 112,
     "metadata": {},
     "output_type": "execute_result"
    }
   ],
   "source": [
    "nobel_data_countries = nobel_data\n",
    "print(\"There are \" + str(nobel_data_countries['bornCountryCode'].isna().sum()) + \" laureates without a single country of origin, due to their status as an international organization.\")\n",
    "nobel_data_countries.loc[nobel_data_countries['bornCountryCode'].isna()].head()"
   ]
  },
  {
   "cell_type": "markdown",
   "id": "65d20e91",
   "metadata": {},
   "source": [
    "As such, we fit a logistic regression to a dataset without these observations, to predict whether a country is a part of the Anglosphere based on how many Nobel laureates were born there."
   ]
  },
  {
   "cell_type": "code",
   "execution_count": 113,
   "id": "da2ab2fc",
   "metadata": {},
   "outputs": [
    {
     "name": "stdout",
     "output_type": "stream",
     "text": [
      "The coefficient of the logistic regression is 0.0394\n",
      "The intercept of the logistic regression is -3.6323\n"
     ]
    },
    {
     "name": "stderr",
     "output_type": "stream",
     "text": [
      "/var/folders/p3/w8nfzkdj3xd2g8gpzv6css9m0000gn/T/ipykernel_95501/3317845230.py:2: SettingWithCopyWarning: \n",
      "A value is trying to be set on a copy of a slice from a DataFrame.\n",
      "Try using .loc[row_indexer,col_indexer] = value instead\n",
      "\n",
      "See the caveats in the documentation: https://pandas.pydata.org/pandas-docs/stable/user_guide/indexing.html#returning-a-view-versus-a-copy\n",
      "  nobel_data_countries['count'] = nobel_data_countries.groupby('bornCountryCode')['bornCountryCode'].transform('count')\n"
     ]
    }
   ],
   "source": [
    "nobel_data_countries = nobel_data_countries.loc[nobel_data_countries['bornCountryCode'].notna()]\n",
    "nobel_data_countries['count'] = nobel_data_countries.groupby('bornCountryCode')['bornCountryCode'].transform('count')\n",
    "\n",
    "anglo_model = LogisticRegression().fit(nobel_data_countries[['count']],nobel_data_countries['anglosphere'])\n",
    "print(\"The coefficient of the logistic regression is \" + str(round(float(anglo_model.coef_), 4)))\n",
    "print(\"The intercept of the logistic regression is \" + str(round(float(anglo_model.intercept_), 4)))"
   ]
  },
  {
   "cell_type": "code",
   "execution_count": 115,
   "id": "5cb4fe59",
   "metadata": {},
   "outputs": [
    {
     "ename": "ModuleNotFoundError",
     "evalue": "No module named 'statsmodels'",
     "output_type": "error",
     "traceback": [
      "\u001b[0;31m---------------------------------------------------------------------------\u001b[0m",
      "\u001b[0;31mModuleNotFoundError\u001b[0m                       Traceback (most recent call last)",
      "\u001b[1;32m/Users/ricacraig/Documents/GitHub/2950-Project/Nobel Laureates - Phase IV.ipynb Cell 43'\u001b[0m in \u001b[0;36m<cell line: 1>\u001b[0;34m()\u001b[0m\n\u001b[0;32m----> <a href='vscode-notebook-cell:/Users/ricacraig/Documents/GitHub/2950-Project/Nobel%20Laureates%20-%20Phase%20IV.ipynb#ch0000039?line=0'>1</a>\u001b[0m seaborn\u001b[39m.\u001b[39;49mregplot(data\u001b[39m=\u001b[39;49mnobel_data_countries, x\u001b[39m=\u001b[39;49m\u001b[39m'\u001b[39;49m\u001b[39mcount\u001b[39;49m\u001b[39m'\u001b[39;49m, y\u001b[39m=\u001b[39;49m\u001b[39m'\u001b[39;49m\u001b[39manglosphere\u001b[39;49m\u001b[39m'\u001b[39;49m, logistic\u001b[39m=\u001b[39;49m\u001b[39mTrue\u001b[39;49;00m, fit_reg\u001b[39m=\u001b[39;49m \u001b[39mTrue\u001b[39;49;00m)\n",
      "File \u001b[0;32m/Applications/anaconda3/envs/info2950/lib/python3.8/site-packages/seaborn/_decorators.py:46\u001b[0m, in \u001b[0;36m_deprecate_positional_args.<locals>.inner_f\u001b[0;34m(*args, **kwargs)\u001b[0m\n\u001b[1;32m     <a href='file:///Applications/anaconda3/envs/info2950/lib/python3.8/site-packages/seaborn/_decorators.py?line=35'>36</a>\u001b[0m     warnings\u001b[39m.\u001b[39mwarn(\n\u001b[1;32m     <a href='file:///Applications/anaconda3/envs/info2950/lib/python3.8/site-packages/seaborn/_decorators.py?line=36'>37</a>\u001b[0m         \u001b[39m\"\u001b[39m\u001b[39mPass the following variable\u001b[39m\u001b[39m{}\u001b[39;00m\u001b[39m as \u001b[39m\u001b[39m{}\u001b[39;00m\u001b[39mkeyword arg\u001b[39m\u001b[39m{}\u001b[39;00m\u001b[39m: \u001b[39m\u001b[39m{}\u001b[39;00m\u001b[39m. \u001b[39m\u001b[39m\"\u001b[39m\n\u001b[1;32m     <a href='file:///Applications/anaconda3/envs/info2950/lib/python3.8/site-packages/seaborn/_decorators.py?line=37'>38</a>\u001b[0m         \u001b[39m\"\u001b[39m\u001b[39mFrom version 0.12, the only valid positional argument \u001b[39m\u001b[39m\"\u001b[39m\n\u001b[0;32m   (...)\u001b[0m\n\u001b[1;32m     <a href='file:///Applications/anaconda3/envs/info2950/lib/python3.8/site-packages/seaborn/_decorators.py?line=42'>43</a>\u001b[0m         \u001b[39mFutureWarning\u001b[39;00m\n\u001b[1;32m     <a href='file:///Applications/anaconda3/envs/info2950/lib/python3.8/site-packages/seaborn/_decorators.py?line=43'>44</a>\u001b[0m     )\n\u001b[1;32m     <a href='file:///Applications/anaconda3/envs/info2950/lib/python3.8/site-packages/seaborn/_decorators.py?line=44'>45</a>\u001b[0m kwargs\u001b[39m.\u001b[39mupdate({k: arg \u001b[39mfor\u001b[39;00m k, arg \u001b[39min\u001b[39;00m \u001b[39mzip\u001b[39m(sig\u001b[39m.\u001b[39mparameters, args)})\n\u001b[0;32m---> <a href='file:///Applications/anaconda3/envs/info2950/lib/python3.8/site-packages/seaborn/_decorators.py?line=45'>46</a>\u001b[0m \u001b[39mreturn\u001b[39;00m f(\u001b[39m*\u001b[39;49m\u001b[39m*\u001b[39;49mkwargs)\n",
      "File \u001b[0;32m/Applications/anaconda3/envs/info2950/lib/python3.8/site-packages/seaborn/regression.py:863\u001b[0m, in \u001b[0;36mregplot\u001b[0;34m(x, y, data, x_estimator, x_bins, x_ci, scatter, fit_reg, ci, n_boot, units, seed, order, logistic, lowess, robust, logx, x_partial, y_partial, truncate, dropna, x_jitter, y_jitter, label, color, marker, scatter_kws, line_kws, ax)\u001b[0m\n\u001b[1;32m    <a href='file:///Applications/anaconda3/envs/info2950/lib/python3.8/site-packages/seaborn/regression.py?line=860'>861</a>\u001b[0m scatter_kws[\u001b[39m\"\u001b[39m\u001b[39mmarker\u001b[39m\u001b[39m\"\u001b[39m] \u001b[39m=\u001b[39m marker\n\u001b[1;32m    <a href='file:///Applications/anaconda3/envs/info2950/lib/python3.8/site-packages/seaborn/regression.py?line=861'>862</a>\u001b[0m line_kws \u001b[39m=\u001b[39m {} \u001b[39mif\u001b[39;00m line_kws \u001b[39mis\u001b[39;00m \u001b[39mNone\u001b[39;00m \u001b[39melse\u001b[39;00m copy\u001b[39m.\u001b[39mcopy(line_kws)\n\u001b[0;32m--> <a href='file:///Applications/anaconda3/envs/info2950/lib/python3.8/site-packages/seaborn/regression.py?line=862'>863</a>\u001b[0m plotter\u001b[39m.\u001b[39;49mplot(ax, scatter_kws, line_kws)\n\u001b[1;32m    <a href='file:///Applications/anaconda3/envs/info2950/lib/python3.8/site-packages/seaborn/regression.py?line=863'>864</a>\u001b[0m \u001b[39mreturn\u001b[39;00m ax\n",
      "File \u001b[0;32m/Applications/anaconda3/envs/info2950/lib/python3.8/site-packages/seaborn/regression.py:370\u001b[0m, in \u001b[0;36m_RegressionPlotter.plot\u001b[0;34m(self, ax, scatter_kws, line_kws)\u001b[0m\n\u001b[1;32m    <a href='file:///Applications/anaconda3/envs/info2950/lib/python3.8/site-packages/seaborn/regression.py?line=366'>367</a>\u001b[0m     \u001b[39mself\u001b[39m\u001b[39m.\u001b[39mscatterplot(ax, scatter_kws)\n\u001b[1;32m    <a href='file:///Applications/anaconda3/envs/info2950/lib/python3.8/site-packages/seaborn/regression.py?line=368'>369</a>\u001b[0m \u001b[39mif\u001b[39;00m \u001b[39mself\u001b[39m\u001b[39m.\u001b[39mfit_reg:\n\u001b[0;32m--> <a href='file:///Applications/anaconda3/envs/info2950/lib/python3.8/site-packages/seaborn/regression.py?line=369'>370</a>\u001b[0m     \u001b[39mself\u001b[39;49m\u001b[39m.\u001b[39;49mlineplot(ax, line_kws)\n\u001b[1;32m    <a href='file:///Applications/anaconda3/envs/info2950/lib/python3.8/site-packages/seaborn/regression.py?line=371'>372</a>\u001b[0m \u001b[39m# Label the axes\u001b[39;00m\n\u001b[1;32m    <a href='file:///Applications/anaconda3/envs/info2950/lib/python3.8/site-packages/seaborn/regression.py?line=372'>373</a>\u001b[0m \u001b[39mif\u001b[39;00m \u001b[39mhasattr\u001b[39m(\u001b[39mself\u001b[39m\u001b[39m.\u001b[39mx, \u001b[39m\"\u001b[39m\u001b[39mname\u001b[39m\u001b[39m\"\u001b[39m):\n",
      "File \u001b[0;32m/Applications/anaconda3/envs/info2950/lib/python3.8/site-packages/seaborn/regression.py:413\u001b[0m, in \u001b[0;36m_RegressionPlotter.lineplot\u001b[0;34m(self, ax, kws)\u001b[0m\n\u001b[1;32m    <a href='file:///Applications/anaconda3/envs/info2950/lib/python3.8/site-packages/seaborn/regression.py?line=410'>411</a>\u001b[0m \u001b[39m\"\"\"Draw the model.\"\"\"\u001b[39;00m\n\u001b[1;32m    <a href='file:///Applications/anaconda3/envs/info2950/lib/python3.8/site-packages/seaborn/regression.py?line=411'>412</a>\u001b[0m \u001b[39m# Fit the regression model\u001b[39;00m\n\u001b[0;32m--> <a href='file:///Applications/anaconda3/envs/info2950/lib/python3.8/site-packages/seaborn/regression.py?line=412'>413</a>\u001b[0m grid, yhat, err_bands \u001b[39m=\u001b[39m \u001b[39mself\u001b[39;49m\u001b[39m.\u001b[39;49mfit_regression(ax)\n\u001b[1;32m    <a href='file:///Applications/anaconda3/envs/info2950/lib/python3.8/site-packages/seaborn/regression.py?line=413'>414</a>\u001b[0m edges \u001b[39m=\u001b[39m grid[\u001b[39m0\u001b[39m], grid[\u001b[39m-\u001b[39m\u001b[39m1\u001b[39m]\n\u001b[1;32m    <a href='file:///Applications/anaconda3/envs/info2950/lib/python3.8/site-packages/seaborn/regression.py?line=415'>416</a>\u001b[0m \u001b[39m# Get set default aesthetics\u001b[39;00m\n",
      "File \u001b[0;32m/Applications/anaconda3/envs/info2950/lib/python3.8/site-packages/seaborn/regression.py:208\u001b[0m, in \u001b[0;36m_RegressionPlotter.fit_regression\u001b[0;34m(self, ax, x_range, grid)\u001b[0m\n\u001b[1;32m    <a href='file:///Applications/anaconda3/envs/info2950/lib/python3.8/site-packages/seaborn/regression.py?line=205'>206</a>\u001b[0m     yhat, yhat_boots \u001b[39m=\u001b[39m \u001b[39mself\u001b[39m\u001b[39m.\u001b[39mfit_poly(grid, \u001b[39mself\u001b[39m\u001b[39m.\u001b[39morder)\n\u001b[1;32m    <a href='file:///Applications/anaconda3/envs/info2950/lib/python3.8/site-packages/seaborn/regression.py?line=206'>207</a>\u001b[0m \u001b[39melif\u001b[39;00m \u001b[39mself\u001b[39m\u001b[39m.\u001b[39mlogistic:\n\u001b[0;32m--> <a href='file:///Applications/anaconda3/envs/info2950/lib/python3.8/site-packages/seaborn/regression.py?line=207'>208</a>\u001b[0m     \u001b[39mfrom\u001b[39;00m \u001b[39mstatsmodels\u001b[39;00m\u001b[39m.\u001b[39;00m\u001b[39mgenmod\u001b[39;00m\u001b[39m.\u001b[39;00m\u001b[39mgeneralized_linear_model\u001b[39;00m \u001b[39mimport\u001b[39;00m GLM\n\u001b[1;32m    <a href='file:///Applications/anaconda3/envs/info2950/lib/python3.8/site-packages/seaborn/regression.py?line=208'>209</a>\u001b[0m     \u001b[39mfrom\u001b[39;00m \u001b[39mstatsmodels\u001b[39;00m\u001b[39m.\u001b[39;00m\u001b[39mgenmod\u001b[39;00m\u001b[39m.\u001b[39;00m\u001b[39mfamilies\u001b[39;00m \u001b[39mimport\u001b[39;00m Binomial\n\u001b[1;32m    <a href='file:///Applications/anaconda3/envs/info2950/lib/python3.8/site-packages/seaborn/regression.py?line=209'>210</a>\u001b[0m     yhat, yhat_boots \u001b[39m=\u001b[39m \u001b[39mself\u001b[39m\u001b[39m.\u001b[39mfit_statsmodels(grid, GLM,\n\u001b[1;32m    <a href='file:///Applications/anaconda3/envs/info2950/lib/python3.8/site-packages/seaborn/regression.py?line=210'>211</a>\u001b[0m                                             family\u001b[39m=\u001b[39mBinomial())\n",
      "\u001b[0;31mModuleNotFoundError\u001b[0m: No module named 'statsmodels'"
     ]
    },
    {
     "data": {
      "image/png": "[encoded data removed]",
      "text/plain": [
       "<Figure size 432x288 with 1 Axes>"
      ]
     },
     "metadata": {
      "needs_background": "light"
     },
     "output_type": "display_data"
    }
   ],
   "source": [
    "seaborn.regplot(data=nobel_data_countries, x='count', y='anglosphere', logistic=True, fit_reg= True)"
   ]
  },
  {
   "cell_type": "code",
   "execution_count": null,
   "id": "19c29c79",
   "metadata": {},
   "outputs": [
    {
     "name": "stdout",
     "output_type": "stream",
     "text": [
      "0.9659936238044633\n",
      "1.0\n",
      "0.921760391198044\n",
      "0.9592875318066157\n"
     ]
    }
   ],
   "source": [
    "train_predict = anglo_model.predict(nobel_data_countries[['count']])\n",
    "train_acc = metrics.accuracy_score(nobel_data_countries['anglosphere'], train_predict) \n",
    "train_prec = metrics.precision_score(nobel_data_countries['anglosphere'], train_predict)\n",
    "train_recall = metrics.recall_score(nobel_data_countries['anglosphere'], train_predict) \n",
    "train_F1 = metrics.f1_score(nobel_data_countries['anglosphere'], train_predict)\n",
    "print(train_acc)\n",
    "print(train_prec)\n",
    "print(train_recall)\n",
    "print(train_F1)"
   ]
  },
  {
   "cell_type": "markdown",
   "id": "82e8ae0e",
   "metadata": {},
   "source": [
    "## Evaluation of Significance"
   ]
  },
  {
   "cell_type": "markdown",
   "id": "b006bb27",
   "metadata": {},
   "source": []
  },
  {
   "cell_type": "markdown",
   "id": "0349bc2c",
   "metadata": {},
   "source": [
    "## Interpretation and Conclusions"
   ]
  },
  {
   "cell_type": "markdown",
   "id": "021b9ccc",
   "metadata": {},
   "source": []
  },
  {
   "cell_type": "markdown",
   "id": "dbdb21fe",
   "metadata": {},
   "source": [
    "## Limitations"
   ]
  },
  {
   "cell_type": "markdown",
   "id": "0efccbc1",
   "metadata": {},
   "source": [
    "One primary limitation of our data is that it was collected in 2016: there have been 6 years' worth of laureates since then, and thus 6 years of data we cannot work with. It is also of some concern that the most recent years are missing: if there are any trends over time in our data, this might limit our ability to accurately model those trends or make predictions. For example, with the raising awareness of gender equality and female awakening efforts in academia, a notable increase in female laureates occurred in the 6 years (2016-2022). 12 women won Nobel in that 6 years, and the total number of female laureates before 2016 is around 60. Therefore, we weren’t able to analyze the rapid change in gender bias. Additionally, a big health challenge, COVID, happened in the three years of the six years with missing data, so we couldn’t analyze how COVID played a role in scientific breakthroughs. Additionally, all the organizations and some people have missing data, such as birth dates, which means that we have to work around those missing data to complete our data analysis."
   ]
  },
  {
   "cell_type": "markdown",
   "id": "238c70e0",
   "metadata": {},
   "source": [
    "## Source Code"
   ]
  },
  {
   "cell_type": "markdown",
   "id": "3bf37141",
   "metadata": {},
   "source": [
    "The shared repository for our project (which holds our source data as well as files for each phase of the project) can be found at: \n",
    "\n",
    "https://github.com/qbello22/2950-Project"
   ]
  },
  {
   "cell_type": "markdown",
   "id": "50e5ef84",
   "metadata": {},
   "source": [
    "## Acknowledgements"
   ]
  },
  {
   "cell_type": "markdown",
   "id": "726c46cc",
   "metadata": {},
   "source": [
    "Harvard Dataverse Repo & "
   ]
  }
 ],
 "metadata": {
  "interpreter": {
   "hash": "4f30da6fd141dcec1f686a2d3870ea3fbe3345d19df0b7c05e23f27c1e7c07e3"
  },
  "kernelspec": {
   "display_name": "Python 3.8.13 ('info2950')",
   "language": "python",
   "name": "python3"
  },
  "language_info": {
   "codemirror_mode": {
    "name": "ipython",
    "version": 3
   },
   "file_extension": ".py",
   "mimetype": "text/x-python",
   "name": "python",
   "nbconvert_exporter": "python",
   "pygments_lexer": "ipython3",
   "version": "3.8.13"
  },
  "vscode": {
   "interpreter": {
    "hash": "2ca7599ec655074b9585b3d423579b04116d3b2a93d04538267c67ce0c059495"
   }
  }
 },
 "nbformat": 4,
 "nbformat_minor": 5
}
