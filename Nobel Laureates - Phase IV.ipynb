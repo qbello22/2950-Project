{
 "cells": [
  {
   "cell_type": "markdown",
   "id": "a3cc51d9",
   "metadata": {},
   "source": [
    "# INFO 2950 Group Project: What Makes a Nobel Prize Laureate?"
   ]
  },
  {
   "cell_type": "markdown",
   "id": "05d54950",
   "metadata": {},
   "source": [
    "## Introduction"
   ]
  },
  {
   "cell_type": "markdown",
   "id": "feca7ca4",
   "metadata": {},
   "source": [
    "Nobel prizes represent the highest standards of excellence and is the most prestigious recognition for scholars in the fields of physics, chemistry, physiology or medicine, literature, economics, and peace. Nobel laureates made groundbreaking discoveries for mankind with unprecedented collaboration and unimaginable efforts. Judging from the 121 years (first Nobel was awarded in 1901) of Nobel history, we should applaud for the fairness and integrity of the Nobel committee, but we also have to recognize the need to promote changes that encourage inclusion in gender, age, geography in the Nobel landscape. The inclusion of different groups could be an indicator of what the academic community is paying attention to, encouraging more demographics to pursue excellence in academics. It is possible that due to the lack of female scientists - for example - it is reflected in the Nobel landscape by the imbalance ratio of female and male laureates. This study aims to examine whether there are underrepresented groups in the Nobel landscape and whether there is bias towards certain groups - if so, what groups should the Nobel committee pay more attention to.\n",
    "\n",
    "We will be looking at a dataset that encompasses Nobel Prize laureates from 1901 to 2016. In other words, our data analysis will focus on those who won the Nobel Prize."
   ]
  },
  {
   "cell_type": "markdown",
   "id": "bed12114",
   "metadata": {},
   "source": [
    "The main question we were interested in exploring was: what characteristics are likely among Nobel laureates, and what biases do those characteristics potentially reveal within the Nobel committee?\n",
    "\n",
    "Due to the scope of this project, we focused on a few more specific areas for our analysis:  \n",
    "    \n",
    "What countries produce the most Nobel laureates? \n",
    "    \n",
    "Are Nobel laureates more likely to hail from the Anglosphere? \n",
    "    \n",
    "Does age have any bearing on the awarding of a Nobel Prize? \n",
    "    \n",
    "Are Nobel Prize laureates getting older?"
   ]
  },
  {
   "cell_type": "markdown",
   "id": "3c71f120",
   "metadata": {},
   "source": [
    "We found that Nobel Prizes tend to be awarded at a later age, around when laureates are in their 60s. There is a normal distribution when ages of laureates are looked across all the five categories of prizes combined. Also, laureates tend to come from English-speaking countries with very small p value that is close to 0. "
   ]
  },
  {
   "cell_type": "markdown",
   "id": "f18b7283",
   "metadata": {},
   "source": [
    "## Data Description"
   ]
  },
  {
   "cell_type": "markdown",
   "id": "0f25741f",
   "metadata": {},
   "source": [
    "#### What are the observations (rows) and the attributes (columns)?\n",
    "\n",
    "The observations in our data frame are 937 Nobel Prize laureates, representing all winners from the first prizes awarded through the year 2016. In other words, each row represents a single laureate.\n",
    "\n",
    "The attributes are:\n",
    "\n",
    "- id - identifies each laureate \n",
    "- firstname - laureate's first name \n",
    "- surname - laureate's surname \n",
    "- born - laureate's birth date \n",
    "- died - laureate's death date \n",
    "- bornCountry - laureate's birth place \n",
    "- bornCountryCode - the country code of the laureate's country of origin\n",
    "- bornCity - the name of the city where the laureate was born\n",
    "- diedCountry - the name of the country where the laureate died\n",
    "- diedCountryCode - the country code of the laureate's country of death\n",
    "- diedCity - the name of the city where the laureate died\n",
    "- gender - laureate's gender or laureate's organization ('male,' 'female,' or 'org' - organization)\n",
    "- year - the year that the laureate won their prize\n",
    "- category - the category in which the laureate won their prize ('physics,' 'chemistry,' 'peace,' 'medicine,' 'literature,' 'economics')\n",
    "- overallMotivation - overall motivation for being awarded the prize\n",
    "- share - number of other laureates who share the prize \n",
    "- motivation - the motivation behind being awarded the prize\n",
    "\n",
    "#### Why was this dataset created?\n",
    "\n",
    "The dataset was assembled by Maryna Kuzmenko in 2016, and intended to be a starting point for social sciences research into the characteristics of Nobel prize awards and laureates (both quantitative and categorical). It is available through the Harvard Dataverse Repository. \n",
    "\n",
    "#### Who funded the creation of the dataset?\n",
    "\n",
    "Harvard's Dataverse Repository is free and open to researchers for sharing and archiving research data. Maryna Kuzmenko holds a Doctorate of Philosophy; no information on the funding for the creation of this particular dataset is available, but it appears to have been created while she was pursuing her doctorate at Kyiv University. \n",
    "\n",
    "#### Are there any errors, sources of noise, or redundancies in the dataset?\n",
    "\n",
    "We were able to identify one section of rows that seemed to be included erroneously (containing no data except for the gender characteristic, and not matching with any potential missing data that we could find). As such, we removed those rows from the dataset before continuing with our own analysis.\n",
    "\n",
    "#### Is it possible to identify individuals (i.e., one or more natural persons), either directly or indirectly (i.e., in combination with other data) from the dataset? If so, please describe how.\n",
    "\n",
    "By the nature of our dataset, each instance is identifiable as a specific person, by name, location, age, and more. This was determined not to be a privacy concern, because of the public nature of the Nobel Prize and its laureates.  \n",
    "\n",
    "#### What processes might have influenced what data was observed and recorded and what was not?\n",
    "\n",
    "Fortunately for us, the Nobel Prize is a prestigious and public-facing award for excellence in a field; as such, information about each year's awards, and the laureates who received them, is generally well-documented. We are reassured by the completeness of our dataset: though not every row is perfectly complete, as a whole data on each laureate is present and accurate (by our appraisal). \n",
    "\n",
    "#### What preprocessing was done, and how did the data come to be in the form that you are using?\n",
    "\n",
    "The data on each laureate was collected into a single .csv file, with each instance representing a single Nobel Prize winner, and columns with characteristics about each of those instances. The entire population of laureates (through 2016) is represented, and no transformations or further processing was done to the data once collected. \n",
    "\n",
    "#### If people are involved, were they aware of the data collection and if so, what purpose did they expect the data to be used for?\n",
    "\n",
    "Though there is no record that the Nobel laureates that were living at the time this dataset was assembled were notified, the data collected about them (as at least semi-public figures) is publicly available. \n",
    "\n",
    "#### Where can your raw source data be found, if applicable? Provide a link to the raw data (hosted in a Cornell Google Drive or Cornell Box)\n",
    "\n",
    "https://drive.google.com/file/d/1x30zuyFBpWepBgc7cQt9x1yU46Qscgtg/view?usp=sharing"
   ]
  },
  {
   "cell_type": "markdown",
   "id": "93751f1a",
   "metadata": {},
   "source": [
    "## Preregistration Statement"
   ]
  },
  {
   "cell_type": "markdown",
   "id": "9246077b",
   "metadata": {},
   "source": [
    "##### Hypothesis 1:\n",
    "**Age has no bearing on becoming a Nobel Prize laureate. ($\\beta_{age}$ = 0)**\n",
    "\n",
    "It seemed that most recent discoveries are not usually recognized by the Nobel Prize right away. We wanted to look into the potential relationship that might exist between age and win. We will also consider outliers that may exist in our data to get a full scope of how age is distributed among laureates.\n",
    "\n",
    "##### Hypothesis 2:\n",
    "**Nobel Laureates are more likely to come from English-speaking countries. ($\\beta_{English-speaking}$ > 0)**\n",
    "\n",
    "Nobel Prizes are one of the most prestigious awards around the world. We wanted to test how well the Nobel Prize recognizes contributions made globally, not just by some people in select countries. We defined the English-speaking countries to be Anglosphere countries, which are Australia, Canada, New Zealand, the United Kingdom, and the United States."
   ]
  },
  {
   "cell_type": "markdown",
   "id": "2a6bcedb",
   "metadata": {},
   "source": [
    "## Data Analysis"
   ]
  },
  {
   "cell_type": "code",
   "execution_count": 1,
   "id": "a0b1ca33",
   "metadata": {},
   "outputs": [
    {
     "data": {
      "text/html": [
       "<div>\n",
       "<style scoped>\n",
       "    .dataframe tbody tr th:only-of-type {\n",
       "        vertical-align: middle;\n",
       "    }\n",
       "\n",
       "    .dataframe tbody tr th {\n",
       "        vertical-align: top;\n",
       "    }\n",
       "\n",
       "    .dataframe thead th {\n",
       "        text-align: right;\n",
       "    }\n",
       "</style>\n",
       "<table border=\"1\" class=\"dataframe\">\n",
       "  <thead>\n",
       "    <tr style=\"text-align: right;\">\n",
       "      <th></th>\n",
       "      <th>id</th>\n",
       "      <th>firstname</th>\n",
       "      <th>surname</th>\n",
       "      <th>born</th>\n",
       "      <th>died</th>\n",
       "      <th>bornCountry</th>\n",
       "      <th>bornCountryCode</th>\n",
       "      <th>bornCity</th>\n",
       "      <th>diedCountry</th>\n",
       "      <th>diedCountryCode</th>\n",
       "      <th>...</th>\n",
       "      <th>category</th>\n",
       "      <th>overallMotivation</th>\n",
       "      <th>share</th>\n",
       "      <th>motivation</th>\n",
       "      <th>name</th>\n",
       "      <th>city</th>\n",
       "      <th>country</th>\n",
       "      <th>age</th>\n",
       "      <th>anglosphere</th>\n",
       "      <th>gender_binary</th>\n",
       "    </tr>\n",
       "  </thead>\n",
       "  <tbody>\n",
       "    <tr>\n",
       "      <th>0</th>\n",
       "      <td>1</td>\n",
       "      <td>Wilhelm Conrad</td>\n",
       "      <td>Röntgen</td>\n",
       "      <td>1845-03-27</td>\n",
       "      <td>1923-02-10</td>\n",
       "      <td>Prussia (now Germany)</td>\n",
       "      <td>DE</td>\n",
       "      <td>Lennep (now Remscheid)</td>\n",
       "      <td>Germany</td>\n",
       "      <td>DE</td>\n",
       "      <td>...</td>\n",
       "      <td>physics</td>\n",
       "      <td>NaN</td>\n",
       "      <td>1.0</td>\n",
       "      <td>\"in recognition of the extraordinary services ...</td>\n",
       "      <td>Munich University</td>\n",
       "      <td>Munich</td>\n",
       "      <td>Germany</td>\n",
       "      <td>56</td>\n",
       "      <td>0</td>\n",
       "      <td>1</td>\n",
       "    </tr>\n",
       "    <tr>\n",
       "      <th>1</th>\n",
       "      <td>2</td>\n",
       "      <td>Hendrik Antoon</td>\n",
       "      <td>Lorentz</td>\n",
       "      <td>1853-07-18</td>\n",
       "      <td>1928-02-04</td>\n",
       "      <td>the Netherlands</td>\n",
       "      <td>NL</td>\n",
       "      <td>Arnhem</td>\n",
       "      <td>the Netherlands</td>\n",
       "      <td>NL</td>\n",
       "      <td>...</td>\n",
       "      <td>physics</td>\n",
       "      <td>NaN</td>\n",
       "      <td>2.0</td>\n",
       "      <td>\"in recognition of the extraordinary service t...</td>\n",
       "      <td>Leiden University</td>\n",
       "      <td>Leiden</td>\n",
       "      <td>the Netherlands</td>\n",
       "      <td>49</td>\n",
       "      <td>0</td>\n",
       "      <td>1</td>\n",
       "    </tr>\n",
       "    <tr>\n",
       "      <th>2</th>\n",
       "      <td>3</td>\n",
       "      <td>Pieter</td>\n",
       "      <td>Zeeman</td>\n",
       "      <td>1865-05-25</td>\n",
       "      <td>1943-10-09</td>\n",
       "      <td>the Netherlands</td>\n",
       "      <td>NL</td>\n",
       "      <td>Zonnemaire</td>\n",
       "      <td>the Netherlands</td>\n",
       "      <td>NL</td>\n",
       "      <td>...</td>\n",
       "      <td>physics</td>\n",
       "      <td>NaN</td>\n",
       "      <td>2.0</td>\n",
       "      <td>\"in recognition of the extraordinary service t...</td>\n",
       "      <td>Amsterdam University</td>\n",
       "      <td>Amsterdam</td>\n",
       "      <td>the Netherlands</td>\n",
       "      <td>37</td>\n",
       "      <td>0</td>\n",
       "      <td>1</td>\n",
       "    </tr>\n",
       "    <tr>\n",
       "      <th>3</th>\n",
       "      <td>4</td>\n",
       "      <td>Antoine Henri</td>\n",
       "      <td>Becquerel</td>\n",
       "      <td>1852-12-15</td>\n",
       "      <td>1908-08-25</td>\n",
       "      <td>France</td>\n",
       "      <td>FR</td>\n",
       "      <td>Paris</td>\n",
       "      <td>France</td>\n",
       "      <td>FR</td>\n",
       "      <td>...</td>\n",
       "      <td>physics</td>\n",
       "      <td>NaN</td>\n",
       "      <td>2.0</td>\n",
       "      <td>\"in recognition of the extraordinary services ...</td>\n",
       "      <td>École Polytechnique</td>\n",
       "      <td>Paris</td>\n",
       "      <td>France</td>\n",
       "      <td>51</td>\n",
       "      <td>0</td>\n",
       "      <td>1</td>\n",
       "    </tr>\n",
       "    <tr>\n",
       "      <th>4</th>\n",
       "      <td>5</td>\n",
       "      <td>Pierre</td>\n",
       "      <td>Curie</td>\n",
       "      <td>1859-05-15</td>\n",
       "      <td>1906-04-19</td>\n",
       "      <td>France</td>\n",
       "      <td>FR</td>\n",
       "      <td>Paris</td>\n",
       "      <td>France</td>\n",
       "      <td>FR</td>\n",
       "      <td>...</td>\n",
       "      <td>physics</td>\n",
       "      <td>NaN</td>\n",
       "      <td>4.0</td>\n",
       "      <td>\"in recognition of the extraordinary services ...</td>\n",
       "      <td>École municipale de physique et de chimie indu...</td>\n",
       "      <td>Paris</td>\n",
       "      <td>France</td>\n",
       "      <td>44</td>\n",
       "      <td>0</td>\n",
       "      <td>1</td>\n",
       "    </tr>\n",
       "  </tbody>\n",
       "</table>\n",
       "<p>5 rows × 23 columns</p>\n",
       "</div>"
      ],
      "text/plain": [
       "   id       firstname    surname        born        died  \\\n",
       "0   1  Wilhelm Conrad    Röntgen  1845-03-27  1923-02-10   \n",
       "1   2  Hendrik Antoon    Lorentz  1853-07-18  1928-02-04   \n",
       "2   3          Pieter     Zeeman  1865-05-25  1943-10-09   \n",
       "3   4   Antoine Henri  Becquerel  1852-12-15  1908-08-25   \n",
       "4   5          Pierre      Curie  1859-05-15  1906-04-19   \n",
       "\n",
       "             bornCountry bornCountryCode                bornCity  \\\n",
       "0  Prussia (now Germany)              DE  Lennep (now Remscheid)   \n",
       "1        the Netherlands              NL                  Arnhem   \n",
       "2        the Netherlands              NL              Zonnemaire   \n",
       "3                 France              FR                   Paris   \n",
       "4                 France              FR                   Paris   \n",
       "\n",
       "       diedCountry diedCountryCode  ... category overallMotivation  share  \\\n",
       "0          Germany              DE  ...  physics               NaN    1.0   \n",
       "1  the Netherlands              NL  ...  physics               NaN    2.0   \n",
       "2  the Netherlands              NL  ...  physics               NaN    2.0   \n",
       "3           France              FR  ...  physics               NaN    2.0   \n",
       "4           France              FR  ...  physics               NaN    4.0   \n",
       "\n",
       "                                          motivation  \\\n",
       "0  \"in recognition of the extraordinary services ...   \n",
       "1  \"in recognition of the extraordinary service t...   \n",
       "2  \"in recognition of the extraordinary service t...   \n",
       "3  \"in recognition of the extraordinary services ...   \n",
       "4  \"in recognition of the extraordinary services ...   \n",
       "\n",
       "                                                name       city  \\\n",
       "0                                  Munich University     Munich   \n",
       "1                                  Leiden University     Leiden   \n",
       "2                               Amsterdam University  Amsterdam   \n",
       "3                                École Polytechnique      Paris   \n",
       "4  École municipale de physique et de chimie indu...      Paris   \n",
       "\n",
       "           country age anglosphere gender_binary  \n",
       "0          Germany  56           0             1  \n",
       "1  the Netherlands  49           0             1  \n",
       "2  the Netherlands  37           0             1  \n",
       "3           France  51           0             1  \n",
       "4           France  44           0             1  \n",
       "\n",
       "[5 rows x 23 columns]"
      ]
     },
     "execution_count": 1,
     "metadata": {},
     "output_type": "execute_result"
    }
   ],
   "source": [
    "import pandas as pd                                                 # Importing necessary modules for our analysis\n",
    "import numpy as np\n",
    "import seaborn \n",
    "from sklearn.linear_model import LinearRegression, LogisticRegression\n",
    "from sklearn import metrics\n",
    "from matplotlib import pyplot\n",
    "from datetime import datetime, date\n",
    "from sklearn.model_selection import train_test_split, KFold, cross_val_score\n",
    "from sklearn.metrics import precision_score, recall_score, mean_absolute_error, accuracy_score, confusion_matrix\n",
    "from sklearn.neighbors import KNeighborsClassifier\n",
    "from sklearn.naive_bayes import GaussianNB\n",
    "from scipy.stats import pearsonr\n",
    "import gower\n",
    "from sklearn.cluster import DBSCAN\n",
    "from kmodes.kprototypes import KPrototypes\n",
    "from sklearn import preprocessing\n",
    "import statsmodels.api as sm\n",
    "import warnings \n",
    "warnings.filterwarnings(action='ignore', category = UserWarning)\n",
    "\n",
    "nobel_data = pd.read_csv('nobel_data_final.csv')                    # Creating our dataset (read from a .csv file)\n",
    "nobel_data = nobel_data.drop(['Unnamed: 0'],axis=1)\n",
    "nobel_data.head()"
   ]
  },
  {
   "cell_type": "markdown",
   "id": "e30dc911",
   "metadata": {},
   "source": [
    "#### Section 1: Age of a Nobel laureate"
   ]
  },
  {
   "cell_type": "markdown",
   "id": "9d0ef6c9",
   "metadata": {},
   "source": [
    "To begin analysis of Nobel laureate age, we created a new dataframe, nobel_data_valid, without any \"age\" values that are 0 so that we can create models using the \"age\" column without instances that are missing their ages. Nearly all of these rows represent organizational winners, rather than individuals, so the age data for these instances would not be relevant to our analysis."
   ]
  },
  {
   "cell_type": "code",
   "execution_count": 98,
   "id": "5c7c599f",
   "metadata": {},
   "outputs": [],
   "source": [
    "nobel_data_valid = nobel_data.loc[nobel_data['age']!=0]                 # Removing rows with age '0'"
   ]
  },
  {
   "cell_type": "markdown",
   "id": "e2addf24",
   "metadata": {},
   "source": [
    "We made a histogram by using .histplot from Seaborn, a data visualization library. A histogram is applicable for displaying the distribution of Nobel Prizes awarded across age because we wanted to summarize a continuous data that shows the relationship between age and number of Nobel Prizes. The labels were added to make it clear that the histogram shows the number of Nobel Prizes won in each age interval. "
   ]
  },
  {
   "cell_type": "code",
   "execution_count": 99,
   "id": "a5851edb",
   "metadata": {},
   "outputs": [
    {
     "data": {
      "text/plain": [
       "Text(0.5, 1.0, 'Number of Nobel Prizes Awarded, by Age at Time of Award')"
      ]
     },
     "execution_count": 99,
     "metadata": {},
     "output_type": "execute_result"
    },
    {
     "data": {
      "image/png": "[encoded data removed]",
      "text/plain": [
       "<Figure size 432x288 with 1 Axes>"
      ]
     },
     "metadata": {
      "needs_background": "light"
     },
     "output_type": "display_data"
    }
   ],
   "source": [
    "histplot = seaborn.histplot(nobel_data_valid['age'], kde=True)          # Creating and labeling a histplot displaying the ages of Nobel laureates\n",
    "histplot.set_xlabel('Age')\n",
    "histplot.set_ylabel('Number of Nobel Prizes')\n",
    "histplot.set_title('Number of Nobel Prizes Awarded, by Age at Time of Award')"
   ]
  },
  {
   "cell_type": "markdown",
   "id": "09711140",
   "metadata": {},
   "source": [
    "The mean age of a Nobel Prize laureate was printed to show the general trend in the histogram. The standard deviation was also printed to show that some laureates deviate from the mean age. "
   ]
  },
  {
   "cell_type": "code",
   "execution_count": 4,
   "id": "c36bdb92",
   "metadata": {},
   "outputs": [
    {
     "name": "stdout",
     "output_type": "stream",
     "text": [
      "The mean age of a Nobel laureate is 59.46, with a standard deviation of 12.38.\n"
     ]
    }
   ],
   "source": [
    "print(\"The mean age of a Nobel laureate is \"+str(round(nobel_data_valid['age'].mean(), 2))+\", with a standard deviation of \"+str(round(nobel_data_valid['age'].std(), 2))+\".\")"
   ]
  },
  {
   "cell_type": "markdown",
   "id": "86f57521",
   "metadata": {},
   "source": [
    "The histogram and the mean age of a Nobel laureate show that Nobel Prize laureates usually win at around the age of 60. On the histogram, as Age increases to around 60, there is an overall increase in the Count of Nobel Prizes. However, after around age of 60, as Age increases, there is an overall decrease in the Count of Nobel Prizes. There are some peaks around the age of 60, so we decided to look into how the mean age of a Nobel laureate varies across categories."
   ]
  },
  {
   "cell_type": "markdown",
   "id": "33791481",
   "metadata": {},
   "source": [
    "Across medicine, physics, chemistry, economics, and literature, the mean age of a Nobel laureate was calculated by using .loc to access the column with the rows that indicate the specific category we were focusing on. For example, for the medicine category, we used .loc to locate the rows having 'medicine' as their values for the 'category' column and finding the value in the 'age' column for each of those rows. By using .mean() in the same line of code helped us to calculate the mean across all the 'age' values in the rows found."
   ]
  },
  {
   "cell_type": "code",
   "execution_count": 100,
   "id": "2dd99649",
   "metadata": {},
   "outputs": [
    {
     "name": "stdout",
     "output_type": "stream",
     "text": [
      "The mean age of a Nobel laureate in Medicine is 57.57\n",
      "The mean age of a Nobel laureate in Physics is 55.35\n",
      "The mean age of a Nobel laureate in Chemistry is 57.84\n",
      "The mean age of a Nobel laureate in Economics is 66.35\n",
      "The mean age of a Nobel laureate in Literature is 64.67\n"
     ]
    }
   ],
   "source": [
    "medicine = nobel_data.loc[nobel_data['category']=='medicine','age'].mean()          # Calculating and printing mean ages by category\n",
    "print(\"The mean age of a Nobel laureate in Medicine is \"+str(round(medicine, 2)))\n",
    "\n",
    "physics = nobel_data.loc[nobel_data['category']=='physics','age'].mean()\n",
    "print(\"The mean age of a Nobel laureate in Physics is \"+str(round(physics, 2)))\n",
    "\n",
    "chemistry = nobel_data.loc[nobel_data['category']=='chemistry','age'].mean()\n",
    "print(\"The mean age of a Nobel laureate in Chemistry is \"+str(round(chemistry, 2)))\n",
    "\n",
    "economics = nobel_data.loc[nobel_data['category']=='economics','age'].mean()\n",
    "print(\"The mean age of a Nobel laureate in Economics is \"+str(round(economics, 2)))\n",
    "\n",
    "literature = nobel_data.loc[nobel_data['category']=='literature','age'].mean()\n",
    "print(\"The mean age of a Nobel laureate in Literature is \"+str(round(literature, 2)))"
   ]
  },
  {
   "cell_type": "markdown",
   "id": "17876632",
   "metadata": {},
   "source": [
    "There are slight variations in the mean across Medicine, Physics, and Chemistry but the mean age of a Nobel laureate stays around in late 50s. There are also slight variations in the mean across Economics and Literature, but the mean age of a Nobel laureate stays around late 60s. The laureates in Economics and Literature tend to win at a later age compared to laureates in Medicine, Physics, and Chemistry."
   ]
  },
  {
   "cell_type": "markdown",
   "id": "348b4ca5",
   "metadata": {},
   "source": [
    "A historgram was created for each of the five categories to show the mean age of a laureate visually. Again, .histplot from Seaborn helped us to create a histogram. To show the count of Nobel Prizes across age, 'age' was used as the x-axis and count of Nobel Prizes was used as the y-axis. We implemented pyplot.figure() for each code representing a different category to make all the histograms appear in the same output. "
   ]
  },
  {
   "cell_type": "code",
   "execution_count": 101,
   "id": "df5284c4",
   "metadata": {},
   "outputs": [
    {
     "data": {
      "text/plain": [
       "Text(0.5, 1.0, 'Number of Nobel Prizes Awarded by Age: Literature')"
      ]
     },
     "execution_count": 101,
     "metadata": {},
     "output_type": "execute_result"
    },
    {
     "data": {
      "image/png": "[encoded data removed]",
      "text/plain": [
       "<Figure size 432x288 with 1 Axes>"
      ]
     },
     "metadata": {
      "needs_background": "light"
     },
     "output_type": "display_data"
    },
    {
     "data": {
      "image/png": "[encoded data removed]",
      "text/plain": [
       "<Figure size 432x288 with 1 Axes>"
      ]
     },
     "metadata": {
      "needs_background": "light"
     },
     "output_type": "display_data"
    },
    {
     "data": {
      "image/png": "[encoded data removed]",
      "text/plain": [
       "<Figure size 432x288 with 1 Axes>"
      ]
     },
     "metadata": {
      "needs_background": "light"
     },
     "output_type": "display_data"
    },
    {
     "data": {
      "image/png": "[encoded data removed]",
      "text/plain": [
       "<Figure size 432x288 with 1 Axes>"
      ]
     },
     "metadata": {
      "needs_background": "light"
     },
     "output_type": "display_data"
    },
    {
     "data": {
      "image/png": "[encoded data removed]",
      "text/plain": [
       "<Figure size 432x288 with 1 Axes>"
      ]
     },
     "metadata": {
      "needs_background": "light"
     },
     "output_type": "display_data"
    }
   ],
   "source": [
    "pyplot.figure()                     # Creating and displaying histplots of laureate ages for each Nobel category \n",
    "hist_med = seaborn.histplot(data=nobel_data_valid[nobel_data_valid[\"category\"]=='medicine'], x= 'age')\n",
    "hist_med.set_xlabel('Age')\n",
    "hist_med.set_ylabel('Number of Nobel Prizes')\n",
    "hist_med.set_title('Number of Nobel Prizes Awarded by Age: Medicine')\n",
    "pyplot.figure()\n",
    "hist_phys = seaborn.histplot(data=nobel_data_valid[nobel_data_valid[\"category\"]=='physics'], x= 'age')\n",
    "hist_phys.set_xlabel('Age')\n",
    "hist_phys.set_ylabel('Number of Nobel Prizes')\n",
    "hist_phys.set_title('Number of Nobel Prizes Awarded by Age: Physics')\n",
    "pyplot.figure()\n",
    "hist_chem = seaborn.histplot(data=nobel_data_valid[nobel_data_valid[\"category\"]=='chemistry'], x= 'age')\n",
    "hist_chem.set_xlabel('Age')\n",
    "hist_chem.set_ylabel('Number of Nobel Prizes')\n",
    "hist_chem.set_title('Number of Nobel Prizes Awarded by Age: Chemistry')\n",
    "pyplot.figure()\n",
    "hist_econ = seaborn.histplot(data=nobel_data_valid[nobel_data_valid[\"category\"]=='economics'], x= 'age')\n",
    "hist_econ.set_xlabel('Age')\n",
    "hist_econ.set_ylabel('Number of Nobel Prizes')\n",
    "hist_econ.set_title('Number of Nobel Prizes Awarded by Age: Economics')\n",
    "pyplot.figure()\n",
    "hist_lit = seaborn.histplot(data=nobel_data_valid[nobel_data_valid[\"category\"]=='literature'], x= 'age')\n",
    "hist_lit.set_xlabel('Age')\n",
    "hist_lit.set_ylabel('Number of Nobel Prizes')\n",
    "hist_lit.set_title('Number of Nobel Prizes Awarded by Age: Literature')"
   ]
  },
  {
   "cell_type": "markdown",
   "id": "af9478e1",
   "metadata": {},
   "source": [
    "The histograms visually indicate the patterns found through the calculated mean age of a laureate across five categories in the previous step. The first histogram, representing the medicine category, shows that the count of Nobel Prizes peak around ages of 50s and 60s. The second histogram, representing the physics category, shows that the count of Nobel Prizes peak around ages of late 40s and late 60s. The third histogram, representing the chemistry category, shows that the count of Nobel Prizes peak around ages of mid-50s. The fourth historgram, representing the economics category, shows that the count of Nobel Prizes peak around 60s. The fifth histogram, representing the lierature category, shows that the count of Nobel Prizes peak between late 50s and early 70s. "
   ]
  },
  {
   "cell_type": "markdown",
   "id": "0127a942",
   "metadata": {},
   "source": [
    "We decided to create a scatterplot to show the relationsship between age and year of the laureates. A scatterplot makes it easier to see a trend and outliers that may exist in the data."
   ]
  },
  {
   "cell_type": "code",
   "execution_count": 102,
   "id": "4e1677b4",
   "metadata": {},
   "outputs": [
    {
     "data": {
      "text/plain": [
       "<seaborn.axisgrid.FacetGrid at 0x24d664bc160>"
      ]
     },
     "execution_count": 102,
     "metadata": {},
     "output_type": "execute_result"
    },
    {
     "data": {
      "image/png": "[encoded data removed]",
      "text/plain": [
       "<Figure size 360x360 with 1 Axes>"
      ]
     },
     "metadata": {
      "needs_background": "light"
     },
     "output_type": "display_data"
    }
   ],
   "source": [
    "lm_age_year = seaborn.lmplot(data = nobel_data_valid, x = 'year', y = 'age')        # Linear model plot, year vs. age \n",
    "lm_age_year.set_axis_labels(\"Prize Year\", \"Age of Laureate\")"
   ]
  },
  {
   "cell_type": "markdown",
   "id": "379eb452",
   "metadata": {},
   "source": [
    "There is an increasing trend above, showing that Nobel Prize laureates are winning at a later age over time with some outliers. There are few outliers that stand out, such as a laureate who seemed to have won their prize at an age of around 25 close to the year 1915 and anoher who seemed to won their prize at an age of around 15 close to the year 2016."
   ]
  },
  {
   "cell_type": "markdown",
   "id": "d4657e81",
   "metadata": {},
   "source": [
    "To visualize the age distribution among the categories better, we started by making a copy of the nobel_data_valid dataframe, a copy of the nobel_data dataframe without any missing values in the 'age' column, and set to a new dataframe called nobel_data_simplified. The missing values from the dataframe was removed because having them will not let us create a model in the next step."
   ]
  },
  {
   "cell_type": "code",
   "execution_count": 103,
   "id": "8cbeb8af",
   "metadata": {},
   "outputs": [],
   "source": [
    "nobel_data_simplified = nobel_data_valid[['age','category']].copy()         # Creating a dataframe without missing age values\n",
    "nobel_data_simplified = nobel_data_simplified.dropna()"
   ]
  },
  {
   "cell_type": "markdown",
   "id": "2419b809",
   "metadata": {},
   "source": [
    "We grouped the laureates based on their age and prize category using KPrototypes because our newly defined \"nobel_data_simplified\" contained both categorical data in the \"category\" column and numerical data in the \"age\" column."
   ]
  },
  {
   "cell_type": "code",
   "execution_count": 9,
   "id": "087a5b1a",
   "metadata": {},
   "outputs": [
    {
     "data": {
      "text/plain": [
       "<matplotlib.legend.Legend at 0x7fc6399d18e0>"
      ]
     },
     "execution_count": 9,
     "metadata": {},
     "output_type": "execute_result"
    },
    {
     "data": {
      "image/png": "[encoded data removed]",
      "text/plain": [
       "<Figure size 640x480 with 1 Axes>"
      ]
     },
     "metadata": {},
     "output_type": "display_data"
    }
   ],
   "source": [
    "kproto = KPrototypes(n_clusters = 5, init = 'Cao')\n",
    "clusters = kproto.fit_predict(nobel_data_simplified, categorical = [1])\n",
    "labels = pd.DataFrame(clusters)\n",
    "labeled = pd.concat((nobel_data, labels),axis = 1)\n",
    "labeled = labeled.rename({0:'labels'},axis =1)\n",
    "seaborn.swarmplot(data=nobel_data_simplified, x='age', y='category', hue = 'category')\n",
    "pyplot.legend(bbox_to_anchor = (1.05,1),loc='upper left',borderaxespad=0)"
   ]
  },
  {
   "cell_type": "markdown",
   "id": "703093f4",
   "metadata": {},
   "source": [
    "A swarm plot using Seaborn's .swarmplot was created to show the significance of the relationship that exists between all the categories and age. Specifically, we looked at the values from the 'age' and 'category' columns. This allowed us to see how the age distribution is different across the categories. Among all the categories, the age distribution for Physics is more spread out compared to others. However, the age distribution for Economics is more concentrated around ages of 50 and up. There are a few outliers that stands out in the graph, which is a laureate who won a Nobel Prize in Physics and another who won the Nobel Prize in Peace."
   ]
  },
  {
   "cell_type": "markdown",
   "id": "63dbd591",
   "metadata": {},
   "source": [
    "We wanted to find out those two laureates by selecting rows from nobel_data_valid based on conditions for the specific category and age that were indicated in the graph. "
   ]
  },
  {
   "cell_type": "code",
   "execution_count": 10,
   "id": "27e7d61e",
   "metadata": {},
   "outputs": [
    {
     "data": {
      "text/html": [
       "<div>\n",
       "<style scoped>\n",
       "    .dataframe tbody tr th:only-of-type {\n",
       "        vertical-align: middle;\n",
       "    }\n",
       "\n",
       "    .dataframe tbody tr th {\n",
       "        vertical-align: top;\n",
       "    }\n",
       "\n",
       "    .dataframe thead th {\n",
       "        text-align: right;\n",
       "    }\n",
       "</style>\n",
       "<table border=\"1\" class=\"dataframe\">\n",
       "  <thead>\n",
       "    <tr style=\"text-align: right;\">\n",
       "      <th></th>\n",
       "      <th>id</th>\n",
       "      <th>firstname</th>\n",
       "      <th>surname</th>\n",
       "      <th>born</th>\n",
       "      <th>died</th>\n",
       "      <th>bornCountry</th>\n",
       "      <th>bornCountryCode</th>\n",
       "      <th>bornCity</th>\n",
       "      <th>diedCountry</th>\n",
       "      <th>diedCountryCode</th>\n",
       "      <th>...</th>\n",
       "      <th>category</th>\n",
       "      <th>overallMotivation</th>\n",
       "      <th>share</th>\n",
       "      <th>motivation</th>\n",
       "      <th>name</th>\n",
       "      <th>city</th>\n",
       "      <th>country</th>\n",
       "      <th>age</th>\n",
       "      <th>anglosphere</th>\n",
       "      <th>gender_binary</th>\n",
       "    </tr>\n",
       "  </thead>\n",
       "  <tbody>\n",
       "    <tr>\n",
       "      <th>20</th>\n",
       "      <td>21</td>\n",
       "      <td>William Lawrence</td>\n",
       "      <td>Bragg</td>\n",
       "      <td>1890-03-31</td>\n",
       "      <td>1971-07-01</td>\n",
       "      <td>Australia</td>\n",
       "      <td>AU</td>\n",
       "      <td>Adelaide</td>\n",
       "      <td>United Kingdom</td>\n",
       "      <td>GB</td>\n",
       "      <td>...</td>\n",
       "      <td>physics</td>\n",
       "      <td>NaN</td>\n",
       "      <td>2.0</td>\n",
       "      <td>\"for their services in the analysis of crystal...</td>\n",
       "      <td>Victoria University</td>\n",
       "      <td>Manchester</td>\n",
       "      <td>United Kingdom</td>\n",
       "      <td>25</td>\n",
       "      <td>1</td>\n",
       "      <td>1</td>\n",
       "    </tr>\n",
       "  </tbody>\n",
       "</table>\n",
       "<p>1 rows × 23 columns</p>\n",
       "</div>"
      ],
      "text/plain": [
       "    id         firstname surname        born        died bornCountry  \\\n",
       "20  21  William Lawrence   Bragg  1890-03-31  1971-07-01   Australia   \n",
       "\n",
       "   bornCountryCode  bornCity     diedCountry diedCountryCode  ... category  \\\n",
       "20              AU  Adelaide  United Kingdom              GB  ...  physics   \n",
       "\n",
       "   overallMotivation  share  \\\n",
       "20               NaN    2.0   \n",
       "\n",
       "                                           motivation                 name  \\\n",
       "20  \"for their services in the analysis of crystal...  Victoria University   \n",
       "\n",
       "          city         country age anglosphere gender_binary  \n",
       "20  Manchester  United Kingdom  25           1             1  \n",
       "\n",
       "[1 rows x 23 columns]"
      ]
     },
     "execution_count": 10,
     "metadata": {},
     "output_type": "execute_result"
    }
   ],
   "source": [
    "nobel_data_valid[(nobel_data_valid['category'] == 'physics') & (nobel_data_valid['age'] < 30)]"
   ]
  },
  {
   "cell_type": "markdown",
   "id": "a5b0a373",
   "metadata": {},
   "source": [
    "William Laurence won his Nobel Prize in Physics when he was 25 years old. "
   ]
  },
  {
   "cell_type": "code",
   "execution_count": 11,
   "id": "2fdc1a43",
   "metadata": {},
   "outputs": [
    {
     "data": {
      "text/html": [
       "<div>\n",
       "<style scoped>\n",
       "    .dataframe tbody tr th:only-of-type {\n",
       "        vertical-align: middle;\n",
       "    }\n",
       "\n",
       "    .dataframe tbody tr th {\n",
       "        vertical-align: top;\n",
       "    }\n",
       "\n",
       "    .dataframe thead th {\n",
       "        text-align: right;\n",
       "    }\n",
       "</style>\n",
       "<table border=\"1\" class=\"dataframe\">\n",
       "  <thead>\n",
       "    <tr style=\"text-align: right;\">\n",
       "      <th></th>\n",
       "      <th>id</th>\n",
       "      <th>firstname</th>\n",
       "      <th>surname</th>\n",
       "      <th>born</th>\n",
       "      <th>died</th>\n",
       "      <th>bornCountry</th>\n",
       "      <th>bornCountryCode</th>\n",
       "      <th>bornCity</th>\n",
       "      <th>diedCountry</th>\n",
       "      <th>diedCountryCode</th>\n",
       "      <th>...</th>\n",
       "      <th>category</th>\n",
       "      <th>overallMotivation</th>\n",
       "      <th>share</th>\n",
       "      <th>motivation</th>\n",
       "      <th>name</th>\n",
       "      <th>city</th>\n",
       "      <th>country</th>\n",
       "      <th>age</th>\n",
       "      <th>anglosphere</th>\n",
       "      <th>gender_binary</th>\n",
       "    </tr>\n",
       "  </thead>\n",
       "  <tbody>\n",
       "    <tr>\n",
       "      <th>943</th>\n",
       "      <td>914</td>\n",
       "      <td>Malala</td>\n",
       "      <td>Yousafzai</td>\n",
       "      <td>1997-07-12</td>\n",
       "      <td>NaN</td>\n",
       "      <td>Pakistan</td>\n",
       "      <td>PK</td>\n",
       "      <td>Mingora</td>\n",
       "      <td>NaN</td>\n",
       "      <td>NaN</td>\n",
       "      <td>...</td>\n",
       "      <td>peace</td>\n",
       "      <td>NaN</td>\n",
       "      <td>2.0</td>\n",
       "      <td>\"for their struggle against the suppression of...</td>\n",
       "      <td>NaN</td>\n",
       "      <td>NaN</td>\n",
       "      <td>NaN</td>\n",
       "      <td>17</td>\n",
       "      <td>0</td>\n",
       "      <td>0</td>\n",
       "    </tr>\n",
       "  </tbody>\n",
       "</table>\n",
       "<p>1 rows × 23 columns</p>\n",
       "</div>"
      ],
      "text/plain": [
       "      id firstname    surname        born died bornCountry bornCountryCode  \\\n",
       "943  914    Malala  Yousafzai  1997-07-12  NaN    Pakistan              PK   \n",
       "\n",
       "    bornCity diedCountry diedCountryCode  ... category overallMotivation  \\\n",
       "943  Mingora         NaN             NaN  ...    peace               NaN   \n",
       "\n",
       "     share                                         motivation name  city  \\\n",
       "943    2.0  \"for their struggle against the suppression of...  NaN   NaN   \n",
       "\n",
       "    country age anglosphere gender_binary  \n",
       "943     NaN  17           0             0  \n",
       "\n",
       "[1 rows x 23 columns]"
      ]
     },
     "execution_count": 11,
     "metadata": {},
     "output_type": "execute_result"
    }
   ],
   "source": [
    "nobel_data_valid[(nobel_data_valid['category'] == 'peace') & (nobel_data_valid['age'] < 20)]"
   ]
  },
  {
   "cell_type": "markdown",
   "id": "6ba4dcb3",
   "metadata": {},
   "source": [
    "Malala Yousafzai won her Nobel Prize in Peace when she was 17 years old."
   ]
  },
  {
   "cell_type": "markdown",
   "id": "6d1c2b50",
   "metadata": {},
   "source": [
    "William and Malala show that it is possible for people to win the Nobel Prize at a young age, although it is more likely to occur when they get older."
   ]
  },
  {
   "cell_type": "markdown",
   "id": "8a3ad3be",
   "metadata": {},
   "source": [
    "Next, train_test_split from sklearn was used to split our arrays into random training and testing sets. This allows us to test if how our model is performing, which is important when it comes to determining the significance of our findings for this hypothesis. "
   ]
  },
  {
   "cell_type": "markdown",
   "id": "4a5fcde1",
   "metadata": {},
   "source": [
    "We defined a function called run_regression to create a linear regression model that uses our training and testing sets to calculate evaluation metrics. RMSE stands for root mean squared error and MAE stands for mean absolute error. Both are used to show if the predictions made by the model are accurate or not. "
   ]
  },
  {
   "cell_type": "code",
   "execution_count": 12,
   "id": "1172c1f9",
   "metadata": {},
   "outputs": [],
   "source": [
    "nobel_data_train, nobel_data_test = train_test_split(nobel_data,test_size = 0.20)"
   ]
  },
  {
   "cell_type": "code",
   "execution_count": 104,
   "id": "836646f8",
   "metadata": {},
   "outputs": [],
   "source": [
    "def run_regression(variables, train, test, target):                         # Defining a function to fit a model and \n",
    "    model = LinearRegression().fit(train[variables], train[target])         # print relevant statistics/metrics\n",
    "    \n",
    "    predictions_for_train = model.predict(train[variables])\n",
    "    predictions_for_test = model.predict(test[variables])\n",
    "    \n",
    "    rmse_train = np.sqrt(np.mean((predictions_for_train - train[target])**2))\n",
    "    rmse_test = np.sqrt(np.mean((predictions_for_test - test[target])**2))\n",
    "\n",
    "    mae_train = np.mean(np.abs(predictions_for_train - train[target]))\n",
    "    mae_test = np.mean(np.abs(predictions_for_test - test[target]))\n",
    "\n",
    "    print(f\"The variable is: {variables}\")\n",
    "    print(f\"The coefficient is: {model.coef_}\")\n",
    "    print(f\"The intercept is: {model.intercept_}\")\n",
    "    print(f\"The RMSE of the training set is: {rmse_train}\")\n",
    "    print(f\"The RMSE of the testing set is: {rmse_test}\")\n",
    "    print(f\"The MAE of the training set is: {mae_train}\")\n",
    "    print(f\"The MAE of the testing set is: {mae_test}\")"
   ]
  },
  {
   "cell_type": "code",
   "execution_count": 105,
   "id": "4ce42fbc",
   "metadata": {},
   "outputs": [
    {
     "name": "stdout",
     "output_type": "stream",
     "text": [
      "The variable is: ['anglosphere']\n",
      "The coefficient is: [1.66681076]\n",
      "The intercept is: 56.579295154185026\n",
      "The RMSE of the training set is: 16.32011238919428\n",
      "The RMSE of the testing set is: 16.852392083673486\n",
      "The MAE of the training set is: 12.024552518795845\n",
      "The MAE of the testing set is: 11.949440578011155\n",
      "The variable is: ['gender_binary']\n",
      "The coefficient is: [25.57799513]\n",
      "The intercept is: 33.70491803278688\n",
      "The RMSE of the training set is: 14.818190219269704\n",
      "The RMSE of the testing set is: 18.196912972072873\n",
      "The MAE of the training set is: 11.566964968959551\n",
      "The MAE of the testing set is: 12.961223867610254\n"
     ]
    }
   ],
   "source": [
    "for variable in [\"anglosphere\", \"gender_binary\"]:                   # Running regression on variables of interest\n",
    "    run_regression([variable], nobel_data_train, nobel_data_test, \"age\")"
   ]
  },
  {
   "cell_type": "markdown",
   "id": "b7311da9",
   "metadata": {},
   "source": [
    "The coefficients reveal that gender has more influence on the age of a laureate compared to being born in an English-speaking country. RMSE and MAE of the training set is slightly greater than the RMSE and MAE of the testing set for both variables, 'anglosphere' and 'gender_binary.' This indicates that there is no overfitting nor underfitting of the model, and the predictions are more likely to be accurate. "
   ]
  },
  {
   "cell_type": "code",
   "execution_count": 106,
   "id": "4004796e",
   "metadata": {},
   "outputs": [
    {
     "name": "stdout",
     "output_type": "stream",
     "text": [
      "The Pearson correlation coefficient is: 0.057\n",
      "The p-value is: 0.074\n"
     ]
    }
   ],
   "source": [
    "data1 = nobel_data['anglosphere']                            # Finding the correlation for age and Anglosphere status\n",
    "data2 = nobel_data['age']\n",
    "stat, p = pearsonr(data1,data2)\n",
    "print(\"The Pearson correlation coefficient is: \" + str(round(stat, 3)))\n",
    "print(\"The p-value is: \" +str(round(p, 3)))"
   ]
  },
  {
   "cell_type": "markdown",
   "id": "7480e08a",
   "metadata": {},
   "source": [
    "There is a slight positive correlation (with a coefficient of 0.057) between being born in an English-speaking country and age at win; however, this result is not statistically significant, because the p value of around 0.07 is over 0.05. We can conclude that being born in an English-speaking country does not help to predict age at win."
   ]
  },
  {
   "cell_type": "code",
   "execution_count": 108,
   "id": "9f04bb47",
   "metadata": {},
   "outputs": [
    {
     "name": "stdout",
     "output_type": "stream",
     "text": [
      "The Pearson correlation coefficient is: 0.336\n",
      "The p-value is: 5.427236219404431e-27\n"
     ]
    }
   ],
   "source": [
    "data1 = nobel_data['gender_binary']                         # Finding the correlation for age and gender binary\n",
    "data2 = nobel_data['age']\n",
    "stat, p = pearsonr(data1,data2)\n",
    "print(\"The Pearson correlation coefficient is: \" + str(round(stat, 3)))\n",
    "print(\"The p-value is: \" +str(p))"
   ]
  },
  {
   "cell_type": "markdown",
   "id": "479adff4",
   "metadata": {},
   "source": [
    "There is a positive correlation (with a coefficient of 0.336) between being born a male and age at win; this correlation *is* significant, with a p value of around 5.43e-27. We can conclude that being male is a predictor for a higher age at win. "
   ]
  },
  {
   "cell_type": "markdown",
   "id": "c75a987e",
   "metadata": {},
   "source": [
    "#### Section 2: Nobel Awards by country\n",
    "\n",
    "After examining the age of the laureates in the previous hypothesis, we are now turning our attention to another characteristic, which is their birthplaces."
   ]
  },
  {
   "cell_type": "markdown",
   "id": "cc8e82a1",
   "metadata": {},
   "source": [
    "First, we print out the list of the 5 countries home to the most laureates: "
   ]
  },
  {
   "cell_type": "code",
   "execution_count": 110,
   "id": "eb40e5c7",
   "metadata": {},
   "outputs": [
    {
     "data": {
      "text/plain": [
       "US    275\n",
       "GB    102\n",
       "DE     89\n",
       "FR     56\n",
       "PL     30\n",
       "Name: bornCountryCode, dtype: int64"
      ]
     },
     "execution_count": 110,
     "metadata": {},
     "output_type": "execute_result"
    }
   ],
   "source": [
    "laur_countries = nobel_data['bornCountryCode'].value_counts()           # Identifying 5 most-awarded countries\n",
    "laur_countries.head()"
   ]
  },
  {
   "cell_type": "markdown",
   "id": "7e619790",
   "metadata": {},
   "source": [
    "The five countries that produced the most Nobel laureates are the United States, the United Kingdom, Germany, France, and Poland. The presence of two Anglosphere countries in the top 5 indicates that our Hypothesis 2 may be proven correct, with some further analysis.\n",
    "\n",
    "Next, we find the number of countries that are represented by only a single laureate: "
   ]
  },
  {
   "cell_type": "code",
   "execution_count": 111,
   "id": "1c95d53a",
   "metadata": {},
   "outputs": [
    {
     "data": {
      "text/plain": [
       "27"
      ]
     },
     "execution_count": 111,
     "metadata": {},
     "output_type": "execute_result"
    }
   ],
   "source": [
    "least_laur_countries = laur_countries.sort_values(ascending = True)     # Counting countries with only 1 Nobel laureate\n",
    "least_laur_countries.value_counts()[1]"
   ]
  },
  {
   "cell_type": "markdown",
   "id": "b33af748",
   "metadata": {},
   "source": [
    "There are 27 countries (of the 76 represented by a Nobel laureate) home to only a single Nobel Prize winner. Combined with the high award counts for the top 5 countries, this seems to indicate a fairly strong preference for a small set of countries. \n",
    "\n",
    "To get a sense of the shape of this distribution, we plot a histogram of each country's laureates: "
   ]
  },
  {
   "cell_type": "code",
   "execution_count": 112,
   "id": "aa60f7d9",
   "metadata": {},
   "outputs": [
    {
     "data": {
      "image/png": "[encoded data removed]",
      "text/plain": [
       "<Figure size 432x288 with 1 Axes>"
      ]
     },
     "metadata": {
      "needs_background": "light"
     },
     "output_type": "display_data"
    }
   ],
   "source": [
    "ax = seaborn.countplot(x = 'bornCountryCode', data=nobel_data, order=laur_countries.index)  # Creating histplot of all countries\n",
    "ax.set(xticks = [])                             \n",
    "ax.set(xlabel = \"Country of Origin\")\n",
    "ax.set(ylabel = \"Number of Laureates\")\n",
    "ax.set(title = \"Number of Laureates by Country of Origin\")\n",
    "pyplot.show()"
   ]
  },
  {
   "cell_type": "markdown",
   "id": "6ea8b627",
   "metadata": {},
   "source": [
    "This plot shows an immense disparity between countries, with the sharp (negative) logarithmic relationship that was indicated by the above statistics. Clearly, figures from certain countries appear to be favored by the Nobel committee for nomination and awards; we now move to examine whether a country being a part of the Anglosphere makes its scholars and public figures more likely to win Nobel Prizes. "
   ]
  },
  {
   "cell_type": "code",
   "execution_count": 20,
   "id": "e2970a0b",
   "metadata": {},
   "outputs": [
    {
     "name": "stdout",
     "output_type": "stream",
     "text": [
      "409 out of the total 969 Nobel Prize laureates, or 42.21 percent, are from one of the five Anglosphere countries.\n"
     ]
    }
   ],
   "source": [
    "print(str(nobel_data['anglosphere'].sum()) + \" out of the total \" + str(len(nobel_data)) + \" Nobel Prize laureates, or \" + str(round((nobel_data['anglosphere'].sum()/len(nobel_data))*100, 2)) + \" percent, are from one of the five Anglosphere countries.\")"
   ]
  },
  {
   "cell_type": "markdown",
   "id": "e85e4cd8",
   "metadata": {},
   "source": [
    "A close to a majority of Nobel Prizes are given to those who are from Anglosphere countries."
   ]
  },
  {
   "cell_type": "code",
   "execution_count": 21,
   "id": "214bcb07",
   "metadata": {},
   "outputs": [
    {
     "name": "stdout",
     "output_type": "stream",
     "text": [
      "Of those, 275, or 28.38 percent of all laureates, are from the United States.\n"
     ]
    }
   ],
   "source": [
    "print(\"Of those, \" + str((nobel_data['bornCountryCode'] == 'US').sum()) + \", or \" + str(round((nobel_data['bornCountryCode'] == 'US').sum()/len(nobel_data)*100, 2)) + \" percent of all laureates, are from the United States.\")"
   ]
  },
  {
   "cell_type": "markdown",
   "id": "1e52b7c0",
   "metadata": {},
   "source": [
    "A majority of the laureates who are born in Anglosphere countries represent the United States. "
   ]
  },
  {
   "cell_type": "code",
   "execution_count": 22,
   "id": "4db8c930",
   "metadata": {},
   "outputs": [
    {
     "name": "stdout",
     "output_type": "stream",
     "text": [
      "134, or 13.83 percent of all laureates, are from a non-US Anglosphere country.\n"
     ]
    }
   ],
   "source": [
    "non_us_anglo = (nobel_data['bornCountryCode'] == 'GB').sum() + (nobel_data['bornCountryCode'] == 'CA').sum() + (nobel_data['bornCountryCode'] == 'NZ').sum() + (nobel_data['bornCountryCode'] == 'AU').sum()\n",
    "print(str(non_us_anglo) + \", or \" + str(round(non_us_anglo/len(nobel_data)*100, 2)) + \" percent of all laureates, are from a non-US Anglosphere country.\")"
   ]
  },
  {
   "cell_type": "markdown",
   "id": "f9a4ea69",
   "metadata": {},
   "source": [
    "Anglosphere countries other than the United States are less prominent in being recognized by the Nobel Prize committee."
   ]
  },
  {
   "cell_type": "code",
   "execution_count": 114,
   "id": "5bc3bfe7",
   "metadata": {},
   "outputs": [
    {
     "data": {
      "image/png": "[encoded data removed]",
      "text/plain": [
       "<Figure size 432x288 with 1 Axes>"
      ]
     },
     "metadata": {
      "needs_background": "light"
     },
     "output_type": "display_data"
    }
   ],
   "source": [
    "anglo_count = seaborn.countplot(x = 'anglosphere', data=nobel_data)     # Comparing Anglosphere to non-Anglosphere countries' award numbers\n",
    "anglo_count.set(xticks = [0, 1])\n",
    "anglo_count.set_xticklabels([\"Non-Anglosphere\", \"Anglosphere\"])\n",
    "anglo_count.set(xlabel = \"Country of Origin\")\n",
    "anglo_count.set(ylabel = \"Number of Laureates\")\n",
    "anglo_count.set(title = \"Laureates by Origin\")\n",
    "pyplot.show()"
   ]
  },
  {
   "cell_type": "markdown",
   "id": "69b5a575",
   "metadata": {},
   "source": [
    "As mentioned before, about 42.21 percent of the Nobel Prize laureates were born in Anglosphere countries. Although more laureates are born in non-Anglosphere countries, based on our analysis, that does not mean that the rate of laureates from non-Anglosphere countries is higher than the rate of laureates from Anglosphere countries. It might be possible that Anglosphere countries have more support for research and innovation compared to non-Anglosphere countries based on the track record of success that laureates from Anglosphere countries seem to have."
   ]
  },
  {
   "cell_type": "code",
   "execution_count": 115,
   "id": "392dc6be",
   "metadata": {},
   "outputs": [
    {
     "name": "stdout",
     "output_type": "stream",
     "text": [
      "There are 28 laureates without a single country of origin, due to their status as an international organization.\n"
     ]
    },
    {
     "data": {
      "text/html": [
       "<div>\n",
       "<style scoped>\n",
       "    .dataframe tbody tr th:only-of-type {\n",
       "        vertical-align: middle;\n",
       "    }\n",
       "\n",
       "    .dataframe tbody tr th {\n",
       "        vertical-align: top;\n",
       "    }\n",
       "\n",
       "    .dataframe thead th {\n",
       "        text-align: right;\n",
       "    }\n",
       "</style>\n",
       "<table border=\"1\" class=\"dataframe\">\n",
       "  <thead>\n",
       "    <tr style=\"text-align: right;\">\n",
       "      <th></th>\n",
       "      <th>id</th>\n",
       "      <th>firstname</th>\n",
       "      <th>surname</th>\n",
       "      <th>born</th>\n",
       "      <th>died</th>\n",
       "      <th>bornCountry</th>\n",
       "      <th>bornCountryCode</th>\n",
       "      <th>bornCity</th>\n",
       "      <th>diedCountry</th>\n",
       "      <th>diedCountryCode</th>\n",
       "      <th>...</th>\n",
       "      <th>category</th>\n",
       "      <th>overallMotivation</th>\n",
       "      <th>share</th>\n",
       "      <th>motivation</th>\n",
       "      <th>name</th>\n",
       "      <th>city</th>\n",
       "      <th>country</th>\n",
       "      <th>age</th>\n",
       "      <th>anglosphere</th>\n",
       "      <th>gender_binary</th>\n",
       "    </tr>\n",
       "  </thead>\n",
       "  <tbody>\n",
       "    <tr>\n",
       "      <th>489</th>\n",
       "      <td>467</td>\n",
       "      <td>Institut de droit international (Institute of ...</td>\n",
       "      <td>NaN</td>\n",
       "      <td>NaN</td>\n",
       "      <td>NaN</td>\n",
       "      <td>NaN</td>\n",
       "      <td>NaN</td>\n",
       "      <td>NaN</td>\n",
       "      <td>NaN</td>\n",
       "      <td>NaN</td>\n",
       "      <td>...</td>\n",
       "      <td>peace</td>\n",
       "      <td>NaN</td>\n",
       "      <td>1.0</td>\n",
       "      <td>NaN</td>\n",
       "      <td>NaN</td>\n",
       "      <td>NaN</td>\n",
       "      <td>NaN</td>\n",
       "      <td>0</td>\n",
       "      <td>0</td>\n",
       "      <td>0</td>\n",
       "    </tr>\n",
       "    <tr>\n",
       "      <th>498</th>\n",
       "      <td>477</td>\n",
       "      <td>Bureau international permanent de la Paix (Per...</td>\n",
       "      <td>NaN</td>\n",
       "      <td>NaN</td>\n",
       "      <td>NaN</td>\n",
       "      <td>NaN</td>\n",
       "      <td>NaN</td>\n",
       "      <td>NaN</td>\n",
       "      <td>NaN</td>\n",
       "      <td>NaN</td>\n",
       "      <td>...</td>\n",
       "      <td>peace</td>\n",
       "      <td>NaN</td>\n",
       "      <td>1.0</td>\n",
       "      <td>NaN</td>\n",
       "      <td>NaN</td>\n",
       "      <td>NaN</td>\n",
       "      <td>NaN</td>\n",
       "      <td>0</td>\n",
       "      <td>0</td>\n",
       "      <td>0</td>\n",
       "    </tr>\n",
       "    <tr>\n",
       "      <th>503</th>\n",
       "      <td>482</td>\n",
       "      <td>Comité international de la Croix Rouge (Intern...</td>\n",
       "      <td>NaN</td>\n",
       "      <td>NaN</td>\n",
       "      <td>NaN</td>\n",
       "      <td>NaN</td>\n",
       "      <td>NaN</td>\n",
       "      <td>NaN</td>\n",
       "      <td>NaN</td>\n",
       "      <td>NaN</td>\n",
       "      <td>...</td>\n",
       "      <td>peace</td>\n",
       "      <td>NaN</td>\n",
       "      <td>1.0</td>\n",
       "      <td>NaN</td>\n",
       "      <td>NaN</td>\n",
       "      <td>NaN</td>\n",
       "      <td>NaN</td>\n",
       "      <td>0</td>\n",
       "      <td>0</td>\n",
       "      <td>0</td>\n",
       "    </tr>\n",
       "    <tr>\n",
       "      <th>504</th>\n",
       "      <td>482</td>\n",
       "      <td>Comité international de la Croix Rouge (Intern...</td>\n",
       "      <td>NaN</td>\n",
       "      <td>NaN</td>\n",
       "      <td>NaN</td>\n",
       "      <td>NaN</td>\n",
       "      <td>NaN</td>\n",
       "      <td>NaN</td>\n",
       "      <td>NaN</td>\n",
       "      <td>NaN</td>\n",
       "      <td>...</td>\n",
       "      <td>peace</td>\n",
       "      <td>NaN</td>\n",
       "      <td>1.0</td>\n",
       "      <td>NaN</td>\n",
       "      <td>NaN</td>\n",
       "      <td>NaN</td>\n",
       "      <td>NaN</td>\n",
       "      <td>0</td>\n",
       "      <td>0</td>\n",
       "      <td>0</td>\n",
       "    </tr>\n",
       "    <tr>\n",
       "      <th>505</th>\n",
       "      <td>482</td>\n",
       "      <td>Comité international de la Croix Rouge (Intern...</td>\n",
       "      <td>NaN</td>\n",
       "      <td>NaN</td>\n",
       "      <td>NaN</td>\n",
       "      <td>NaN</td>\n",
       "      <td>NaN</td>\n",
       "      <td>NaN</td>\n",
       "      <td>NaN</td>\n",
       "      <td>NaN</td>\n",
       "      <td>...</td>\n",
       "      <td>peace</td>\n",
       "      <td>NaN</td>\n",
       "      <td>2.0</td>\n",
       "      <td>NaN</td>\n",
       "      <td>NaN</td>\n",
       "      <td>NaN</td>\n",
       "      <td>NaN</td>\n",
       "      <td>0</td>\n",
       "      <td>0</td>\n",
       "      <td>0</td>\n",
       "    </tr>\n",
       "  </tbody>\n",
       "</table>\n",
       "<p>5 rows × 23 columns</p>\n",
       "</div>"
      ],
      "text/plain": [
       "      id                                          firstname surname born died  \\\n",
       "489  467  Institut de droit international (Institute of ...     NaN  NaN  NaN   \n",
       "498  477  Bureau international permanent de la Paix (Per...     NaN  NaN  NaN   \n",
       "503  482  Comité international de la Croix Rouge (Intern...     NaN  NaN  NaN   \n",
       "504  482  Comité international de la Croix Rouge (Intern...     NaN  NaN  NaN   \n",
       "505  482  Comité international de la Croix Rouge (Intern...     NaN  NaN  NaN   \n",
       "\n",
       "    bornCountry bornCountryCode bornCity diedCountry diedCountryCode  ...  \\\n",
       "489         NaN             NaN      NaN         NaN             NaN  ...   \n",
       "498         NaN             NaN      NaN         NaN             NaN  ...   \n",
       "503         NaN             NaN      NaN         NaN             NaN  ...   \n",
       "504         NaN             NaN      NaN         NaN             NaN  ...   \n",
       "505         NaN             NaN      NaN         NaN             NaN  ...   \n",
       "\n",
       "    category overallMotivation  share motivation name  city country age  \\\n",
       "489    peace               NaN    1.0        NaN  NaN   NaN     NaN   0   \n",
       "498    peace               NaN    1.0        NaN  NaN   NaN     NaN   0   \n",
       "503    peace               NaN    1.0        NaN  NaN   NaN     NaN   0   \n",
       "504    peace               NaN    1.0        NaN  NaN   NaN     NaN   0   \n",
       "505    peace               NaN    2.0        NaN  NaN   NaN     NaN   0   \n",
       "\n",
       "    anglosphere gender_binary  \n",
       "489           0             0  \n",
       "498           0             0  \n",
       "503           0             0  \n",
       "504           0             0  \n",
       "505           0             0  \n",
       "\n",
       "[5 rows x 23 columns]"
      ]
     },
     "execution_count": 115,
     "metadata": {},
     "output_type": "execute_result"
    }
   ],
   "source": [
    "nobel_data_countries = nobel_data           # Counting international laureates\n",
    "print(\"There are \" + str(nobel_data_countries['bornCountryCode'].isna().sum()) + \" laureates without a single country of origin, due to their status as an international organization.\")\n",
    "nobel_data_countries.loc[nobel_data_countries['bornCountryCode'].isna()].head()"
   ]
  },
  {
   "cell_type": "markdown",
   "id": "65d20e91",
   "metadata": {},
   "source": [
    "As such, we fit a logistic regression to a dataset without these observations, to predict whether a country is a part of the Anglosphere based on how many Nobel laureates were born there."
   ]
  },
  {
   "cell_type": "code",
   "execution_count": 118,
   "id": "da2ab2fc",
   "metadata": {},
   "outputs": [
    {
     "name": "stdout",
     "output_type": "stream",
     "text": [
      "The coefficient of the logistic regression is 0.0373\n",
      "The intercept of the logistic regression is -3.4829\n"
     ]
    }
   ],
   "source": [
    "nobel_data_countries = nobel_data_countries.loc[nobel_data_countries['bornCountryCode'].notna()]       # Removing international laureates\n",
    "\n",
    "countries_gc = nobel_data_countries.groupby('bornCountryCode')['bornCountryCode'].transform('count')   # Grouping by country, and counting the number of laureates from each country\n",
    "nobel_data_countries['country_count'] = countries_gc\n",
    "\n",
    "anglo_train, anglo_test = train_test_split(nobel_data_countries, test_size = 0.2)       # Splitting the data into train/test sets, and then fitting a model\n",
    "anglo_model = LogisticRegression().fit(anglo_train[['country_count']], anglo_train['anglosphere'])\n",
    "print(\"The coefficient of the logistic regression is \" + str(round(float(anglo_model.coef_), 4)))\n",
    "print(\"The intercept of the logistic regression is \" + str(round(float(anglo_model.intercept_), 4)))"
   ]
  },
  {
   "cell_type": "markdown",
   "id": "6b0d8c06",
   "metadata": {},
   "source": [
    "This coefficient value implies that for each instance of a person from a given country winning a Nobel Prize, the probability that said country is a part of the Anglosphere increases by a factor of $e^{0.0373}$, or 1.04. \n",
    "\n",
    "The probability that a country with no Nobel laureates would be part of the Anglosphere is $e^{-3.4829}$, or 0.031. "
   ]
  },
  {
   "cell_type": "markdown",
   "id": "e71a3cb9",
   "metadata": {},
   "source": [
    "Next, we found the baseline accuracy, before calculating the metrics of the model: test and train accuracy, precision, recall, and F1. "
   ]
  },
  {
   "cell_type": "code",
   "execution_count": 119,
   "id": "df75ffc5",
   "metadata": {},
   "outputs": [
    {
     "name": "stdout",
     "output_type": "stream",
     "text": [
      "Counter({0: 560, 1: 409})\n",
      "The baseline is: 0.5779153766769866\n"
     ]
    }
   ],
   "source": [
    "from collections import Counter                         # Baseline accuracy calculations\n",
    "print(Counter(nobel_data['anglosphere']))\n",
    "baseline = 1 - np.mean(nobel_data['anglosphere'])\n",
    "print(\"The baseline is: \" + str(baseline))"
   ]
  },
  {
   "cell_type": "code",
   "execution_count": 120,
   "id": "feba749e",
   "metadata": {},
   "outputs": [
    {
     "name": "stdout",
     "output_type": "stream",
     "text": [
      "The train accuracy is: 0.964095744680851\n",
      "The test accuracy is: 0.9735449735449735\n",
      "The train precision is: 1.0\n",
      "The test precision is: 1.0\n",
      "The train recall is: 0.918918918918919\n",
      "The test recall is: 0.9342105263157895\n",
      "The train F1 is: 0.9577464788732395\n",
      "The test F1 is: 0.9659863945578232\n"
     ]
    }
   ],
   "source": [
    "anglo_train_predict = anglo_model.predict(anglo_train[['country_count']])\n",
    "anglo_test_predict = anglo_model.predict(anglo_test[['country_count']])\n",
    "anglo_train_acc = metrics.accuracy_score(anglo_train['anglosphere'], anglo_train_predict) \n",
    "anglo_test_acc = metrics.accuracy_score(anglo_test['anglosphere'], anglo_test_predict)\n",
    "anglo_train_prec = metrics.precision_score(anglo_train['anglosphere'], anglo_train_predict) \n",
    "anglo_test_prec = metrics.precision_score(anglo_test['anglosphere'], anglo_test_predict)\n",
    "anglo_train_recall = metrics.recall_score(anglo_train['anglosphere'], anglo_train_predict) \n",
    "anglo_test_recall = metrics.recall_score(anglo_test['anglosphere'], anglo_test_predict)\n",
    "anglo_train_F1 = metrics.f1_score(anglo_train['anglosphere'], anglo_train_predict) \n",
    "anglo_test_F1 = metrics.f1_score(anglo_test['anglosphere'], anglo_test_predict)\n",
    "\n",
    "print(\"The train accuracy is: \" + str(anglo_train_acc))\n",
    "print(\"The test accuracy is: \" + str(anglo_test_acc))\n",
    "print(\"The train precision is: \" + str(anglo_train_prec))\n",
    "print(\"The test precision is: \" + str(anglo_test_prec))\n",
    "print(\"The train recall is: \" + str(anglo_train_recall))\n",
    "print(\"The test recall is: \" + str(anglo_test_recall))\n",
    "print(\"The train F1 is: \" + str(anglo_train_F1))\n",
    "print(\"The test F1 is: \" + str(anglo_test_F1))"
   ]
  },
  {
   "cell_type": "markdown",
   "id": "fb3c20db",
   "metadata": {},
   "source": [
    "The test metrics are slightly higher than the training metrics. For example, the test F1 is around 0.97 while the train F1 is around 0.96. The test accuracy shows that the model is performing better compared to the baseline. Indeed, we seem to be able to effectively predict whether a country is a part of the Anglosphere from the number of laureates said country has claim to."
   ]
  },
  {
   "cell_type": "markdown",
   "id": "d411d256",
   "metadata": {},
   "source": [
    "We then plot this regression, to get a visual sense of the relationship: "
   ]
  },
  {
   "cell_type": "code",
   "execution_count": 133,
   "id": "5cb4fe59",
   "metadata": {},
   "outputs": [
    {
     "data": {
      "image/png": "[encoded data removed]",
      "text/plain": [
       "<Figure size 432x288 with 1 Axes>"
      ]
     },
     "metadata": {
      "needs_background": "light"
     },
     "output_type": "display_data"
    }
   ],
   "source": [
    "reg_anglo_count = seaborn.regplot(data=nobel_data_countries, x='country_count', y='anglosphere', logistic=True, fit_reg= True)\n",
    "reg_anglo_count.set(yticks = [0, 1], ylabel = 'Origin', xlabel = 'Number of Laureates', title = 'Predicting Anglosphere Status, from Number of Laureates')\n",
    "reg_anglo_count.set_yticklabels(['Non-Anglosphere', 'Anglosphere'])\n",
    "pyplot.show()"
   ]
  },
  {
   "cell_type": "markdown",
   "id": "98da57c8",
   "metadata": {},
   "source": [
    "The curve visualizes the proability that a country belongs in the Anglosphere based on how many laureates were born there. If the number of laureates increases, the probability that the country is a part of the Anglosphere increases. As the number of laureates increases in a given country increases, the probability that the country is a part of the Anglosphere increases. For example, the probability is much higher when there are 250 laureates compared to 50 laureates born in a country."
   ]
  },
  {
   "cell_type": "markdown",
   "id": "fdb0f7f4",
   "metadata": {},
   "source": [
    "We then find summary statistics for the logistic regression:"
   ]
  },
  {
   "cell_type": "code",
   "execution_count": 125,
   "id": "56750089",
   "metadata": {},
   "outputs": [
    {
     "name": "stdout",
     "output_type": "stream",
     "text": [
      "Optimization terminated successfully.\n",
      "         Current function value: 0.565594\n",
      "         Iterations 5\n",
      "                           Logit Regression Results                           \n",
      "==============================================================================\n",
      "Dep. Variable:            anglosphere   No. Observations:                  941\n",
      "Model:                          Logit   Df Residuals:                      940\n",
      "Method:                           MLE   Df Model:                            0\n",
      "Date:                Fri, 09 Dec 2022   Pseudo R-squ.:                  0.1738\n",
      "Time:                        21:50:46   Log-Likelihood:                -532.22\n",
      "converged:                       True   LL-Null:                       -644.19\n",
      "Covariance Type:            nonrobust   LLR p-value:                       nan\n",
      "=================================================================================\n",
      "                    coef    std err          z      P>|z|      [0.025      0.975]\n",
      "---------------------------------------------------------------------------------\n",
      "country_count     0.0082      0.001     12.268      0.000       0.007       0.009\n",
      "=================================================================================\n"
     ]
    }
   ],
   "source": [
    "anglo_logit_model=sm.Logit(nobel_data_countries['anglosphere'],nobel_data_countries[['country_count']])\n",
    "result = anglo_logit_model.fit()\n",
    "print(result.summary())"
   ]
  },
  {
   "cell_type": "markdown",
   "id": "e9feeeeb",
   "metadata": {},
   "source": [
    "This regression returns a P-value of 0.000: though it is unlikely that this is a \"true\" zero, the P-value is apparently quite small, indicating a significant result. As such, it is fair to conclude that Nobel laureates are more likely to come from English-speaking countries. "
   ]
  },
  {
   "cell_type": "markdown",
   "id": "0349bc2c",
   "metadata": {},
   "source": [
    "## Interpretation and Conclusions"
   ]
  },
  {
   "cell_type": "markdown",
   "id": "021b9ccc",
   "metadata": {},
   "source": [
    "**Hypothesis 1**\n",
    "\n",
    "Our hypothesis was not supported by our data analysis. Age has bearing on the likelihood of winning a Nobel Prize. A typical age of Nobel Prize laureate at the time of win is 59.46. However, when we looked closer at the mean of age in the five categories, there are differences in the age of a typical laureate. We noticed that Nobel Prize laureates are more likely to win in late 60s for Economics and Literature, but winning at late 50s is more likely for Medicine, Physics, and Chemistry. During our analysis, we also discovered that gender was a factor in at what age laureates won, with male laureates tending to be older. "
   ]
  },
  {
   "cell_type": "markdown",
   "id": "3bc13548",
   "metadata": {},
   "source": [
    "**Hypothesis 2**\n",
    "\n",
    "This hypothesis was supported by our data analysis. There is strong evidence of a relationship between the number of Nobel laureates hailing from a given country and the probability that said country is one of the five that make up the Anglosphere. Winners from these five countries make up more than two-fifths of laureates since the inception of the Nobel Prize, more than half of which are from the United States alone. Our analysis points to the Nobel committee holding a bias (conscious or otherwise) toward awarding accomplished figures from the Anglosphere, a group of wealthy, majority-white, English-speaking nations. "
   ]
  },
  {
   "cell_type": "markdown",
   "id": "dbdb21fe",
   "metadata": {},
   "source": [
    "## Limitations"
   ]
  },
  {
   "cell_type": "markdown",
   "id": "0efccbc1",
   "metadata": {},
   "source": [
    "One primary limitation of our data is that it was collected in 2016: there have been 6 years' worth of laureates since then, and thus 6 years of data we cannot work with. It is specifically concerning that the most recent years are the ones missing: if there are any trends over time in our data, this might limit our ability to accurately model those trends or make predictions. \n",
    "\n",
    "For example, with the raising awareness of gender equality and female awakening efforts in academia, a notable increase in female laureates occurred in the 6 years (2016-2022). 12 women won Nobel in that 6 years, and the total number of female laureates before 2016 is around 60. Therefore, we weren’t able to analyze the rapid change in gender bias. \n",
    "\n",
    "Additionally, a big health challenge, COVID, happened in the three years of the six years with missing data, so we couldn’t analyze how COVID played a role in scientific breakthroughs. Additionally, all the organizations and some people have missing data, such as birth dates, which means that we have to work around those missing data to complete our data analysis."
   ]
  },
  {
   "cell_type": "markdown",
   "id": "238c70e0",
   "metadata": {},
   "source": [
    "## Source Code"
   ]
  },
  {
   "cell_type": "markdown",
   "id": "3bf37141",
   "metadata": {},
   "source": [
    "The shared repository for our project (which holds our source data as well as files for each phase of the project) can be found at: \n",
    "\n",
    "https://github.com/qbello22/2950-Project\n",
    "\n",
    "We also completed additional cleaning after Phase II based on feedback, documentation of which can be found in a file called \"Appendix I - Data Cleaning.ipynb\" on GitHub."
   ]
  },
  {
   "cell_type": "markdown",
   "id": "50e5ef84",
   "metadata": {},
   "source": [
    "## References"
   ]
  },
  {
   "cell_type": "markdown",
   "id": "726c46cc",
   "metadata": {},
   "source": [
    "Aprilliant, Audhi. “The K-prototype as Clustering Algorithm for Mixed Data Type (Categorical and Numerical).” Medium, 31 Mar. 2022, towardsdatascience.com/the-k-prototype-as-clustering-algorithm-for-mixed-data-type-categorical-and-numerical-fe7c50538ebb.\n",
    "\n",
    "Kuzmenko, Maryna, 2016, \"Nobel Prize - Dataset with Information about Prizes, Laureates and Countries\", https://doi.org/10.7910/DVN/AGAFAQ, Harvard Dataverse, V1, UNF:6:McdDh+ldUTGgZDs5XVOQUA== [fileUNF]\n",
    "\n",
    "Python ValueError: Time data 'Date' does not match format '%Y/%m/%d %H:%M:%S.%f'. (n.d.). Stack Overflow. Retrieved November 20, 2022, from https://stackoverflow.com/questions/42390293/python-valueerror-time-data-date-does-not-match-format-y-m-d-hms-f\n",
    "\n",
    "Seaborn.Swarmplot — Seaborn 0.12.1 Documentation. seaborn.pydata.org/generated/seaborn.swarmplot.html.\n",
    "\n",
    "“How to Change the Position of a Legend in Matplotlib.” Statology, 1 Apr. 2022, www.statology.org/matplotlib-legend-position. Accessed 9 Dec. 2022."
   ]
  },
  {
   "cell_type": "markdown",
   "id": "4e3a8f15",
   "metadata": {},
   "source": [
    "## Acknowledgements"
   ]
  },
  {
   "cell_type": "markdown",
   "id": "aed8395f",
   "metadata": {},
   "source": [
    "We would like to thank Sam Meisner, Anya Gert, Sarah Langleben, and Roz Thalken for their help in addressing our questions and concerns. We would also like to thank Professor Mimno and Professor Koenecke for helping us get in the right direction for our data analysis."
   ]
  }
 ],
 "metadata": {
  "kernelspec": {
   "display_name": "Python 3 (ipykernel)",
   "language": "python",
   "name": "python3"
  },
  "language_info": {
   "codemirror_mode": {
    "name": "ipython",
    "version": 3
   },
   "file_extension": ".py",
   "mimetype": "text/x-python",
   "name": "python",
   "nbconvert_exporter": "python",
   "pygments_lexer": "ipython3",
   "version": "3.8.8"
  },
  "vscode": {
   "interpreter": {
    "hash": "2ca7599ec655074b9585b3d423579b04116d3b2a93d04538267c67ce0c059495"
   }
  }
 },
 "nbformat": 4,
 "nbformat_minor": 5
}
