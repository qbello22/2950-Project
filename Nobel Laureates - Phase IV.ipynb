{
 "cells": [
  {
   "cell_type": "markdown",
   "id": "a3cc51d9",
   "metadata": {},
   "source": [
    "# INFO 2950 Group Project: What Makes a Nobel Prize Laureate?"
   ]
  },
  {
   "cell_type": "markdown",
   "id": "05d54950",
   "metadata": {},
   "source": [
    "## Introduction"
   ]
  },
  {
   "cell_type": "markdown",
   "id": "feca7ca4",
   "metadata": {},
   "source": [
    "Nobel prizes represent the highest standards of excellence and is the most prestigious recognition for scholars in the fields of physics, chemistry, physiology or medicine, literature, economics, and peace. Nobel laureates made groundbreaking discoveries for mankind with unprecedented collaboration and unimaginable efforts. Judging from the 121 years (first Nobel was awarded in 1901) of Nobel history, we should applaud for the fairness and integrity of the Nobel committee, but we also have to recognize the need to promote changes that encourage inclusion in gender, age, geography in the Nobel landscape. The inclusion of different groups could be an indicator of what the academic community is paying attention to, encouraging more demographics to pursue excellence in academics. It is possible that due to the lack of female scientists - for example - it is reflected in the Nobel landscape by the imbalance ratio of female and male laureates. This study aims to examine whether there are underrepresented groups in the Nobel landscape and whether there is bias towards certain groups - if so, what groups should the Nobel committee pay more attention to.\n",
    "\n",
    "We will be looking at a dataset that encompasses Nobel Prize laureates from 1901 to 2016. In other words, our data analysis will focus on those who won the Nobel Prize."
   ]
  },
  {
   "cell_type": "markdown",
   "id": "bed12114",
   "metadata": {},
   "source": [
    "The main question we were interested in exploring was: what characteristics are likely among Nobel laureates, and what biases do those characteristics potentially reveal within the Nobel committee?\n",
    "\n",
    "Due to the scope of this project, we focused on a few more specific areas for our analysis:  \n",
    "    \n",
    "What countries produce the most Nobel laureates? \n",
    "    \n",
    "Are Nobel laureates more likely to hail from the Anglosphere? \n",
    "    \n",
    "Does age have any bearing on the awarding of a Nobel Prize? \n",
    "    \n",
    "Are Nobel Prize laureates getting older?"
   ]
  },
  {
   "cell_type": "markdown",
   "id": "3c71f120",
   "metadata": {},
   "source": [
    "We found that Nobel Prizes tend to be awarded at a later age, around when laureates are in their 60s. There is a normal distribution when ages of laureates are looked across all the five categories of prizes combined. Also, laureates tend to come from English-speaking countries with very small p value that is close to 0. "
   ]
  },
  {
   "cell_type": "markdown",
   "id": "f18b7283",
   "metadata": {},
   "source": [
    "## Data Description"
   ]
  },
  {
   "cell_type": "markdown",
   "id": "0f25741f",
   "metadata": {},
   "source": [
    "#### What are the observations (rows) and the attributes (columns)?\n",
    "\n",
    "The observations in our data frame are 937 Nobel Prize laureates, representing all winners from the first prizes awarded through the year 2016. In other words, each row represents a single laureate.\n",
    "\n",
    "The attributes are:\n",
    "\n",
    "- id - identifies each laureate \n",
    "- firstname - laureate's first name \n",
    "- surname - laureate's surname \n",
    "- born - laureate's birth date \n",
    "- died - laureate's death date \n",
    "- bornCountry - laureate's birth place \n",
    "- bornCountryCode - the country code of the laureate's country of origin\n",
    "- bornCity - the name of the city where the laureate was born\n",
    "- diedCountry - the name of the country where the laureate died\n",
    "- diedCountryCode - the country code of the laureate's country of death\n",
    "- diedCity - the name of the city where the laureate died\n",
    "- gender - laureate's gender or laureate's organization ('male,' 'female,' or 'org' - organization)\n",
    "- year - the year that the laureate won their prize\n",
    "- category - the category in which the laureate won their prize ('physics,' 'chemistry,' 'peace,' 'medicine,' 'literature,' 'economics')\n",
    "- overallMotivation - overall motivation for being awarded the prize\n",
    "- share - number of other laureates who share the prize \n",
    "- motivation - the motivation behind being awarded the prize\n",
    "\n",
    "#### Why was this dataset created?\n",
    "\n",
    "The dataset was assembled by Maryna Kuzmenko in 2016, and intended to be a starting point for social sciences research into the characteristics of Nobel prize awards and laureates (both quantitative and categorical). It is available through the Harvard Dataverse Repository. \n",
    "\n",
    "#### Who funded the creation of the dataset?\n",
    "\n",
    "Harvard's Dataverse Repository is free and open to researchers for sharing and archiving research data. Maryna Kuzmenko holds a Doctorate of Philosophy; no information on the funding for the creation of this particular dataset is available, but it appears to have been created while she was pursuing her doctorate at Kyiv University. \n",
    "\n",
    "#### Are there any errors, sources of noise, or redundancies in the dataset?\n",
    "\n",
    "We were able to identify one section of rows that seemed to be included erroneously (containing no data except for the gender characteristic, and not matching with any potential missing data that we could find). As such, we removed those rows from the dataset before continuing with our own analysis.\n",
    "\n",
    "#### Is it possible to identify individuals (i.e., one or more natural persons), either directly or indirectly (i.e., in combination with other data) from the dataset? If so, please describe how.\n",
    "\n",
    "By the nature of our dataset, each instance is identifiable as a specific person, by name, location, age, and more. This was determined not to be a privacy concern, because of the public nature of the Nobel Prize and its laureates.  \n",
    "\n",
    "#### What processes might have influenced what data was observed and recorded and what was not?\n",
    "\n",
    "Fortunately for us, the Nobel Prize is a prestigious and public-facing award for excellence in a field; as such, information about each year's awards, and the laureates who received them, is generally well-documented. We are reassured by the completeness of our dataset: though not every row is perfectly complete, as a whole data on each laureate is present and accurate (by our appraisal). \n",
    "\n",
    "#### What preprocessing was done, and how did the data come to be in the form that you are using?\n",
    "\n",
    "The data on each laureate was collected into a single .csv file, with each instance representing a single Nobel Prize winner, and columns with characteristics about each of those instances. The entire population of laureates (through 2016) is represented, and no transformations or further processing was done to the data once collected. \n",
    "\n",
    "#### If people are involved, were they aware of the data collection and if so, what purpose did they expect the data to be used for?\n",
    "\n",
    "Though there is no record that the Nobel laureates that were living at the time this dataset was assembled were notified, the data collected about them (as at least semi-public figures) is publicly available. \n",
    "\n",
    "#### Where can your raw source data be found, if applicable? Provide a link to the raw data (hosted in a Cornell Google Drive or Cornell Box)\n",
    "\n",
    "https://drive.google.com/file/d/1x30zuyFBpWepBgc7cQt9x1yU46Qscgtg/view?usp=sharing"
   ]
  },
  {
   "cell_type": "markdown",
   "id": "93751f1a",
   "metadata": {},
   "source": [
    "## Preregistration Statement"
   ]
  },
  {
   "cell_type": "markdown",
   "id": "9246077b",
   "metadata": {},
   "source": [
    "##### Hypothesis 1:\n",
    "**Age has no bearing on becoming a Nobel Prize laureate. ($\\beta_{age}$ = 0)**\n",
    "\n",
    "It seemed that most recent discoveries are not usually recognized by the Nobel Prize right away. We wanted to look into the potential relationship that might exist between age and win. We will also consider outliers that may exist in our data to get a full scope of how age is distributed among laureates.\n",
    "\n",
    "##### Hypothesis 2:\n",
    "**Nobel Laureates are more likely to come from English-speaking countries. ($\\beta_{English-speaking}$ > 0)**\n",
    "\n",
    "Nobel Prizes are one of the most prestigious awards around the world. We wanted to test how well the Nobel Prize recognizes contributions made globally, not just by some people in select countries. "
   ]
  },
  {
   "cell_type": "markdown",
   "id": "2a6bcedb",
   "metadata": {},
   "source": [
    "## Data Analysis"
   ]
  },
  {
   "cell_type": "code",
   "execution_count": 28,
   "id": "a0b1ca33",
   "metadata": {},
   "outputs": [
    {
     "ename": "ModuleNotFoundError",
     "evalue": "No module named 'gower'",
     "output_type": "error",
     "traceback": [
      "\u001b[0;31m---------------------------------------------------------------------------\u001b[0m",
      "\u001b[0;31mModuleNotFoundError\u001b[0m                       Traceback (most recent call last)",
      "\u001b[1;32m/Users/ricacraig/Documents/GitHub/2950-Project/Nobel Laureates - Phase IV.ipynb Cell 11'\u001b[0m in \u001b[0;36m<cell line: 13>\u001b[0;34m()\u001b[0m\n\u001b[1;32m     <a href='vscode-notebook-cell:/Users/ricacraig/Documents/GitHub/2950-Project/Nobel%20Laureates%20-%20Phase%20IV.ipynb#ch0000010?line=10'>11</a>\u001b[0m \u001b[39mfrom\u001b[39;00m \u001b[39msklearn\u001b[39;00m\u001b[39m.\u001b[39;00m\u001b[39mnaive_bayes\u001b[39;00m \u001b[39mimport\u001b[39;00m GaussianNB\n\u001b[1;32m     <a href='vscode-notebook-cell:/Users/ricacraig/Documents/GitHub/2950-Project/Nobel%20Laureates%20-%20Phase%20IV.ipynb#ch0000010?line=11'>12</a>\u001b[0m \u001b[39mfrom\u001b[39;00m \u001b[39mscipy\u001b[39;00m\u001b[39m.\u001b[39;00m\u001b[39mstats\u001b[39;00m \u001b[39mimport\u001b[39;00m pearsonr\n\u001b[0;32m---> <a href='vscode-notebook-cell:/Users/ricacraig/Documents/GitHub/2950-Project/Nobel%20Laureates%20-%20Phase%20IV.ipynb#ch0000010?line=12'>13</a>\u001b[0m \u001b[39mimport\u001b[39;00m \u001b[39mgower\u001b[39;00m\n\u001b[1;32m     <a href='vscode-notebook-cell:/Users/ricacraig/Documents/GitHub/2950-Project/Nobel%20Laureates%20-%20Phase%20IV.ipynb#ch0000010?line=14'>15</a>\u001b[0m nobel_data \u001b[39m=\u001b[39m pd\u001b[39m.\u001b[39mread_csv(\u001b[39m'\u001b[39m\u001b[39mnobel_data_final.csv\u001b[39m\u001b[39m'\u001b[39m)\n\u001b[1;32m     <a href='vscode-notebook-cell:/Users/ricacraig/Documents/GitHub/2950-Project/Nobel%20Laureates%20-%20Phase%20IV.ipynb#ch0000010?line=16'>17</a>\u001b[0m \u001b[39mimport\u001b[39;00m \u001b[39mstatsmodels\u001b[39;00m\u001b[39m.\u001b[39;00m\u001b[39mapi\u001b[39;00m \u001b[39mas\u001b[39;00m \u001b[39msm\u001b[39;00m\n",
      "\u001b[0;31mModuleNotFoundError\u001b[0m: No module named 'gower'"
     ]
    }
   ],
   "source": [
    "import pandas as pd \n",
    "import numpy as np\n",
    "import seaborn \n",
    "from sklearn.linear_model import LinearRegression, LogisticRegression\n",
    "from sklearn import metrics\n",
    "from matplotlib import pyplot\n",
    "from datetime import datetime, date\n",
    "from sklearn.model_selection import train_test_split, KFold, cross_val_score\n",
    "from sklearn.metrics import precision_score, recall_score, mean_absolute_error, accuracy_score, confusion_matrix\n",
    "from sklearn.neighbors import KNeighborsClassifier\n",
    "from sklearn.naive_bayes import GaussianNB\n",
    "from scipy.stats import pearsonr\n",
    "import gower\n",
    "\n",
    "nobel_data = pd.read_csv('nobel_data_final.csv')\n",
    "\n",
    "import statsmodels.api as sm"
   ]
  },
  {
   "cell_type": "markdown",
   "id": "e30dc911",
   "metadata": {},
   "source": [
    "#### Section 1: Age of a Nobel laureate"
   ]
  },
  {
   "cell_type": "markdown",
   "id": "9d0ef6c9",
   "metadata": {},
   "source": [
    "To begin analysis of Nobel laureate age, we created a new dataframe, nobel_data_valid, without any \"age\" values that are 0 so that we can create models using the \"age\" column without instances that are missing their ages. Nearly all of these rows represent organizational winners, rather than individuals, so the age data for these instances would not be relevant to our analysis."
   ]
  },
  {
   "cell_type": "code",
   "execution_count": null,
   "id": "5c7c599f",
   "metadata": {},
   "outputs": [],
   "source": [
    "nobel_data_valid = nobel_data.loc[nobel_data['age']!=0]"
   ]
  },
  {
   "cell_type": "markdown",
   "id": "e2addf24",
   "metadata": {},
   "source": [
    "We made a histogram by using .histplot from Seaborn, a data visualization library. A histogram is applicable for displaying the distribution of Nobel Prizes awarded across age because we wanted to summarize a continuous data that shows the relationship between age and number of Nobel Prizes. The labels were added to make it clear that the histogram shows the number of Nobel Prizes won in each age interval. "
   ]
  },
  {
   "cell_type": "code",
   "execution_count": null,
   "id": "a5851edb",
   "metadata": {},
   "outputs": [
    {
     "data": {
      "text/plain": [
       "Text(0.5, 1.0, 'Number of Nobel Prizes Awarded, by Age at Time of Award')"
      ]
     },
     "execution_count": 11,
     "metadata": {},
     "output_type": "execute_result"
    },
    {
     "data": {
      "image/png": "[encoded data removed]",
      "text/plain": [
       "<Figure size 432x288 with 1 Axes>"
      ]
     },
     "metadata": {
      "needs_background": "light"
     },
     "output_type": "display_data"
    }
   ],
   "source": [
    "histplot = seaborn.histplot(nobel_data_valid['age'], kde=True)\n",
    "histplot.set_xlabel('Age')\n",
    "histplot.set_ylabel('Number of Nobel Prizes')\n",
    "histplot.set_title('Number of Nobel Prizes Awarded, by Age at Time of Award')"
   ]
  },
  {
   "cell_type": "markdown",
   "id": "09711140",
   "metadata": {},
   "source": [
    "The mean age of a Nobel Prize laureate was printed to show the general trend in the histogram. The standard deviation was also printed to show that some laureates deviate from the mean age. "
   ]
  },
  {
   "cell_type": "code",
   "execution_count": null,
   "id": "c36bdb92",
   "metadata": {},
   "outputs": [
    {
     "name": "stdout",
     "output_type": "stream",
     "text": [
      "The mean age of a Nobel laureate is 59.4593147751606, with a standard deviation of 12.384339675481367.\n"
     ]
    }
   ],
   "source": [
    "print(\"The mean age of a Nobel laureate is \"+str(nobel_data_valid['age'].mean())+\", with a standard deviation of \"+str(nobel_data_valid['age'].std())+\".\")"
   ]
  },
  {
   "cell_type": "markdown",
   "id": "86f57521",
   "metadata": {},
   "source": [
    "The histogram and the mean age of a Nobel laureate show that Nobel Prize laureates usually win at around the age of 60. On the histogram, as Age increases to around 60, there is an overall increase in the Count of Nobel Prizes. However, after around age of 60, as Age increases, there is an overall decrease in the Count of Nobel Prizes. There are some peaks around the age of 60, so we decided to look into how the mean age of a Nobel laureate varies across categories."
   ]
  },
  {
   "cell_type": "markdown",
   "id": "33791481",
   "metadata": {},
   "source": [
    "Across medicine, physics, chemistry, economics, and literature, the mean age of a Nobel laureate was calculated by using .loc to access the column with the rows that indicate the specific category we were focusing on. For example, for the medicine category, we used .loc to locate the rows having 'medicine' as their values for the 'category' column and finding the value in the 'age' column for each of those rows. By using .mean() in the same line of code helped us to calculate the mean across all the 'age' values in the rows found."
   ]
  },
  {
   "cell_type": "code",
   "execution_count": null,
   "id": "2dd99649",
   "metadata": {},
   "outputs": [
    {
     "name": "stdout",
     "output_type": "stream",
     "text": [
      "The mean age of a Nobel laureate in Medicine is 57.57333333333333\n",
      "The mean age of a Nobel laureate in Physics is 55.351351351351354\n",
      "The mean age of a Nobel laureate in Chemistry is 57.83505154639175\n",
      "The mean age of a Nobel laureate in Economics is 66.34939759036145\n",
      "The mean age of a Nobel laureate in Literature is 64.67256637168141\n"
     ]
    }
   ],
   "source": [
    "medicine = nobel_data.loc[nobel_data['category']=='medicine','age'].mean()\n",
    "print(\"The mean age of a Nobel laureate in Medicine is \"+str(medicine))\n",
    "\n",
    "physics = nobel_data.loc[nobel_data['category']=='physics','age'].mean()\n",
    "print(\"The mean age of a Nobel laureate in Physics is \"+str(physics))\n",
    "\n",
    "chemistry = nobel_data.loc[nobel_data['category']=='chemistry','age'].mean()\n",
    "print(\"The mean age of a Nobel laureate in Chemistry is \"+str(chemistry))\n",
    "\n",
    "economics = nobel_data.loc[nobel_data['category']=='economics','age'].mean()\n",
    "print(\"The mean age of a Nobel laureate in Economics is \"+str(economics))\n",
    "\n",
    "literature = nobel_data.loc[nobel_data['category']=='literature','age'].mean()\n",
    "print(\"The mean age of a Nobel laureate in Literature is \"+str(literature))"
   ]
  },
  {
   "cell_type": "markdown",
   "id": "17876632",
   "metadata": {},
   "source": [
    "There are slight variations in the mean across Medicine, Physics, and Chemistry but the mean age of a Nobel laureate stays around in late 50s. There are also slight variations in the mean across Economics and Literature, but the mean age of a Nobel laureate stays around late 60s. The laureates in Economics and Literature tend to win at a later age compared to laureates in Medicine, Physics, and Chemistry."
   ]
  },
  {
   "cell_type": "markdown",
   "id": "348b4ca5",
   "metadata": {},
   "source": [
    "A historgram was created for each of the five categories to show the mean age of a laureate visually. Again, .histplot from Seaborn helped us to create a histogram. To show the count of Nobel Prizes across age, 'age' was used as the x-axis and count of Nobel Prizes was used as the y-axis. We implemented pyplot.figure() for each code representing a different category to make all the histograms appear in the same output. "
   ]
  },
  {
   "cell_type": "code",
   "execution_count": null,
   "id": "df5284c4",
   "metadata": {},
   "outputs": [
    {
     "data": {
      "text/plain": [
       "<AxesSubplot:xlabel='age', ylabel='Count'>"
      ]
     },
     "execution_count": 14,
     "metadata": {},
     "output_type": "execute_result"
    },
    {
     "data": {
      "image/png": "[encoded data removed]",
      "text/plain": [
       "<Figure size 432x288 with 1 Axes>"
      ]
     },
     "metadata": {
      "needs_background": "light"
     },
     "output_type": "display_data"
    },
    {
     "data": {
      "image/png": "[encoded data removed]",
      "text/plain": [
       "<Figure size 432x288 with 1 Axes>"
      ]
     },
     "metadata": {
      "needs_background": "light"
     },
     "output_type": "display_data"
    },
    {
     "data": {
      "image/png": "[encoded data removed]",
      "text/plain": [
       "<Figure size 432x288 with 1 Axes>"
      ]
     },
     "metadata": {
      "needs_background": "light"
     },
     "output_type": "display_data"
    },
    {
     "data": {
      "image/png": "[encoded data removed]",
      "text/plain": [
       "<Figure size 432x288 with 1 Axes>"
      ]
     },
     "metadata": {
      "needs_background": "light"
     },
     "output_type": "display_data"
    },
    {
     "data": {
      "image/png": "[encoded data removed]",
      "text/plain": [
       "<Figure size 432x288 with 1 Axes>"
      ]
     },
     "metadata": {
      "needs_background": "light"
     },
     "output_type": "display_data"
    }
   ],
   "source": [
    "pyplot.figure()\n",
    "seaborn.histplot(data=nobel_data_valid[nobel_data_valid[\"category\"]=='medicine'], x= 'age')\n",
    "pyplot.figure()\n",
    "seaborn.histplot(data=nobel_data_valid[nobel_data_valid[\"category\"]=='physics'], x= 'age')\n",
    "pyplot.figure()\n",
    "seaborn.histplot(data=nobel_data_valid[nobel_data_valid[\"category\"]=='chemistry'], x= 'age')\n",
    "pyplot.figure()\n",
    "seaborn.histplot(data=nobel_data_valid[nobel_data_valid[\"category\"]=='economics'], x= 'age')\n",
    "pyplot.figure()\n",
    "seaborn.histplot(data=nobel_data_valid[nobel_data_valid[\"category\"]=='literature'], x= 'age')\n"
   ]
  },
  {
   "cell_type": "markdown",
   "id": "af9478e1",
   "metadata": {},
   "source": [
    "The histograms visually indicate the patterns found through the calculated mean age of a laureate across five categories in the previous step. The first histogram, representing the medicine category, shows that the count of Nobel Prizes peak around ages of 50s and 60s. The second histogram, representing the physics category, shows that the count of Nobel Prizes peak around ages of late 40s and late 60s. The third histogram, representing the chemistry category, shows that the count of Nobel Prizes peak around ages of mid-50s. The fourth historgram, representing the economics category, shows that the count of Nobel Prizes peak around 60s. The fifth histogram, representing the lierature category, shows that the count of Nobel Prizes peak between late 50s and early 70s. "
   ]
  },
  {
   "cell_type": "markdown",
   "id": "0127a942",
   "metadata": {},
   "source": [
    "We decided to create a scatterplot to show the relationsship between age and year of the laureates. A scatterplot makes it easier to see a trend and outliers that may exist in the data."
   ]
  },
  {
   "cell_type": "code",
   "execution_count": null,
   "id": "4e1677b4",
   "metadata": {},
   "outputs": [
    {
     "data": {
      "text/plain": [
       "<seaborn.axisgrid.FacetGrid at 0x7fbce09214f0>"
      ]
     },
     "execution_count": 15,
     "metadata": {},
     "output_type": "execute_result"
    },
    {
     "data": {
      "image/png": "[encoded data removed]",
      "text/plain": [
       "<Figure size 360x360 with 1 Axes>"
      ]
     },
     "metadata": {
      "needs_background": "light"
     },
     "output_type": "display_data"
    }
   ],
   "source": [
    "seaborn.lmplot(data = nobel_data_valid, x = 'year', y = 'age')"
   ]
  },
  {
   "cell_type": "markdown",
   "id": "379eb452",
   "metadata": {},
   "source": [
    "There is an increasing trend above, showing that Nobel Prize laureates are winning at a later age over time with some outliers. There are few outliers that stand out, such as a laureate who seemed to have won their prize at an age of around 25 close to the year 1915 and anoher who seemed to won their prize at an age of around 15 close to the year 2016."
   ]
  },
  {
   "cell_type": "markdown",
   "id": "8a3ad3be",
   "metadata": {},
   "source": [
    "A train_test_split from sklearn was used to split our arrays into random training and testing sets. This allows us to test if how our model is performing, which is important when it comes to determining the significance of our findings for this hypothesis. "
   ]
  },
  {
   "cell_type": "markdown",
   "id": "4a5fcde1",
   "metadata": {},
   "source": [
    "We defined a function called run_regression to create a linear regression model that uses our training and testing sets to calculate evaluation metrics. RMSE stands for root mean squared error and MAE stands for mean absolute error. Both are used to show if the predictions made by the model are accurate or not. "
   ]
  },
  {
   "cell_type": "code",
   "execution_count": null,
   "id": "1172c1f9",
   "metadata": {},
   "outputs": [],
   "source": [
    "nobel_data_train, nobel_data_test = train_test_split(nobel_data,test_size = 0.20)"
   ]
  },
  {
   "cell_type": "code",
   "execution_count": null,
   "id": "836646f8",
   "metadata": {},
   "outputs": [],
   "source": [
    "def run_regression(variables, train, test, target):\n",
    "    model = LinearRegression().fit(train[variables], train[target])\n",
    "    \n",
    "    predictions_for_train = model.predict(train[variables])\n",
    "    predictions_for_test = model.predict(test[variables])\n",
    "    \n",
    "    rmse_train = np.sqrt(np.mean((predictions_for_train - train[target])**2))\n",
    "    rmse_test = np.sqrt(np.mean((predictions_for_test - test[target])**2))\n",
    "\n",
    "    mae_train = np.mean(np.abs(predictions_for_train - train[target]))\n",
    "    mae_test = np.mean(np.abs(predictions_for_test - test[target]))\n",
    "\n",
    "    print(f\"The variable is: {variables}\")\n",
    "    print(f\"The coefficient is: {model.coef_}\")\n",
    "    print(f\"The intercept is: {model.intercept_}\")\n",
    "    print(f\"The RMSE of the training set is: {rmse_train}\")\n",
    "    print(f\"The RMSE of the testing set is: {rmse_test}\")\n",
    "    print(f\"The MAE of the training set is: {mae_train}\")\n",
    "    print(f\"The MAE of the testing set is: {mae_test}\")"
   ]
  },
  {
   "cell_type": "code",
   "execution_count": null,
   "id": "4ce42fbc",
   "metadata": {},
   "outputs": [
    {
     "name": "stdout",
     "output_type": "stream",
     "text": [
      "The variable is: ['anglosphere']\n",
      "The coefficient is: [1.59211137]\n",
      "The intercept is: 56.27069351230425\n",
      "The RMSE of the training set is: 16.776291731604488\n",
      "The RMSE of the testing set is: 14.980556070778736\n",
      "The MAE of the training set is: 12.085833751366325\n",
      "The MAE of the testing set is: 11.836280684686386\n",
      "The variable is: ['gender_binary']\n",
      "The coefficient is: [22.67891183]\n",
      "The intercept is: 36.1969696969697\n",
      "The RMSE of the training set is: 15.556080315985795\n",
      "The RMSE of the testing set is: 15.318443649703031\n",
      "The MAE of the training set is: 11.711347002028106\n",
      "The MAE of the testing set is: 12.274442291262117\n"
     ]
    }
   ],
   "source": [
    "for variable in [\"anglosphere\", \"gender_binary\"]:\n",
    "    run_regression([variable], nobel_data_train, nobel_data_test, \"age\")"
   ]
  },
  {
   "cell_type": "code",
   "execution_count": null,
   "id": "9c4319f4",
   "metadata": {},
   "outputs": [
    {
     "ename": "ModuleNotFoundError",
     "evalue": "No module named 'gower'",
     "output_type": "error",
     "traceback": [
      "\u001b[0;31m---------------------------------------------------------------------------\u001b[0m",
      "\u001b[0;31mModuleNotFoundError\u001b[0m                       Traceback (most recent call last)",
      "\u001b[1;32m/Users/ricacraig/Documents/GitHub/2950-Project/Nobel Laureates - Phase IV.ipynb Cell 34'\u001b[0m in \u001b[0;36m<cell line: 1>\u001b[0;34m()\u001b[0m\n\u001b[0;32m----> <a href='vscode-notebook-cell:/Users/ricacraig/Documents/GitHub/2950-Project/Nobel%20Laureates%20-%20Phase%20IV.ipynb#ch0000078?line=0'>1</a>\u001b[0m \u001b[39mimport\u001b[39;00m \u001b[39mgower\u001b[39;00m\n\u001b[1;32m      <a href='vscode-notebook-cell:/Users/ricacraig/Documents/GitHub/2950-Project/Nobel%20Laureates%20-%20Phase%20IV.ipynb#ch0000078?line=1'>2</a>\u001b[0m nobel_data_simplified \u001b[39m=\u001b[39m nobel_data[[\u001b[39m'\u001b[39m\u001b[39mage\u001b[39m\u001b[39m'\u001b[39m,\u001b[39m'\u001b[39m\u001b[39mcategory\u001b[39m\u001b[39m'\u001b[39m]]\u001b[39m.\u001b[39mcopy()\n\u001b[1;32m      <a href='vscode-notebook-cell:/Users/ricacraig/Documents/GitHub/2950-Project/Nobel%20Laureates%20-%20Phase%20IV.ipynb#ch0000078?line=2'>3</a>\u001b[0m distance_matrix \u001b[39m=\u001b[39m gower\u001b[39m.\u001b[39mgower_matrix(nobel_data_simplified)\n",
      "\u001b[0;31mModuleNotFoundError\u001b[0m: No module named 'gower'"
     ]
    }
   ],
   "source": [
    "\n",
    "nobel_data_simplified = nobel_data[['age','category']].copy()\n",
    "distance_matrix = gower.gower_matrix(nobel_data_simplified)"
   ]
  },
  {
   "cell_type": "code",
   "execution_count": null,
   "id": "889adb3b",
   "metadata": {},
   "outputs": [
    {
     "ename": "NameError",
     "evalue": "name 'sm' is not defined",
     "output_type": "error",
     "traceback": [
      "\u001b[0;31m---------------------------------------------------------------------------\u001b[0m",
      "\u001b[0;31mNameError\u001b[0m                                 Traceback (most recent call last)",
      "\u001b[1;32m/Users/ricacraig/Documents/GitHub/2950-Project/Nobel Laureates - Phase IV.ipynb Cell 34'\u001b[0m in \u001b[0;36m<cell line: 3>\u001b[0;34m()\u001b[0m\n\u001b[1;32m      <a href='vscode-notebook-cell:/Users/ricacraig/Documents/GitHub/2950-Project/Nobel%20Laureates%20-%20Phase%20IV.ipynb#ch0000036?line=0'>1</a>\u001b[0m x \u001b[39m=\u001b[39m nobel_data\u001b[39m.\u001b[39mdrop(\u001b[39m'\u001b[39m\u001b[39myear\u001b[39m\u001b[39m'\u001b[39m, axis\u001b[39m=\u001b[39m\u001b[39m1\u001b[39m)\n\u001b[1;32m      <a href='vscode-notebook-cell:/Users/ricacraig/Documents/GitHub/2950-Project/Nobel%20Laureates%20-%20Phase%20IV.ipynb#ch0000036?line=1'>2</a>\u001b[0m y \u001b[39m=\u001b[39m nobel_data[\u001b[39m'\u001b[39m\u001b[39mage\u001b[39m\u001b[39m'\u001b[39m]\n\u001b[0;32m----> <a href='vscode-notebook-cell:/Users/ricacraig/Documents/GitHub/2950-Project/Nobel%20Laureates%20-%20Phase%20IV.ipynb#ch0000036?line=2'>3</a>\u001b[0m x \u001b[39m=\u001b[39m sm\u001b[39m.\u001b[39madd_constant(x, prepend \u001b[39m=\u001b[39m \u001b[39mFalse\u001b[39;00m)\n\u001b[1;32m      <a href='vscode-notebook-cell:/Users/ricacraig/Documents/GitHub/2950-Project/Nobel%20Laureates%20-%20Phase%20IV.ipynb#ch0000036?line=4'>5</a>\u001b[0m mnlogit_mod \u001b[39m=\u001b[39m sm\u001b[39m.\u001b[39mMNLogit(y, x)\n\u001b[1;32m      <a href='vscode-notebook-cell:/Users/ricacraig/Documents/GitHub/2950-Project/Nobel%20Laureates%20-%20Phase%20IV.ipynb#ch0000036?line=5'>6</a>\u001b[0m mnlogit_fit \u001b[39m=\u001b[39m mnlogit_mod\u001b[39m.\u001b[39mfit()\n",
      "\u001b[0;31mNameError\u001b[0m: name 'sm' is not defined"
     ]
    }
   ],
   "source": [
    "x = nobel_data.drop('year', axis=1)\n",
    "y = nobel_data['age']\n",
    "x = sm.add_constant(x, prepend = False)\n",
    "\n",
    "mnlogit_mod = sm.MNLogit(y, x)\n",
    "mnlogit_fit = mnlogit_mod.fit()\n",
    "\n",
    "print (mnlogit_fit.summary())"
   ]
  },
  {
   "cell_type": "markdown",
   "id": "f6e10391",
   "metadata": {},
   "source": [
    "The coefficients reveal that gender has more influence on the age of a laureate compared to being born in an English-speaking country. RMSE and MAE of the training set is slightly greater than the RMSE and MAE of the testing set for both variables, 'anglosphere' and 'gender_binary.' This indicates that there is no overfitting nor underfitting of the model, and the predictions are more likely to be accurate. "
   ]
  },
  {
   "cell_type": "markdown",
   "id": "1e5047e0",
   "metadata": {},
   "source": [
    "A regression plot using Seaborn's .regplot was created to show the significance of the relationship that exists between a laureate being born in an English-speaking country and age. Specifically, we looked at the values from the 'age' and 'anglosphere' columns separately by gender, male and female. This allowed us to also test being born a different gender could influence the age someone wins a Nobel Prize. "
   ]
  },
  {
   "cell_type": "code",
   "execution_count": null,
   "id": "ed96c6df",
   "metadata": {},
   "outputs": [
    {
     "ename": "NameError",
     "evalue": "name 'nobel_data' is not defined",
     "output_type": "error",
     "traceback": [
      "\u001b[0;31m---------------------------------------------------------------------------\u001b[0m",
      "\u001b[0;31mNameError\u001b[0m                                 Traceback (most recent call last)",
      "\u001b[1;32m/Users/ricacraig/Documents/GitHub/2950-Project/Nobel Laureates - Phase IV.ipynb Cell 37'\u001b[0m in \u001b[0;36m<cell line: 1>\u001b[0;34m()\u001b[0m\n\u001b[0;32m----> <a href='vscode-notebook-cell:/Users/ricacraig/Documents/GitHub/2950-Project/Nobel%20Laureates%20-%20Phase%20IV.ipynb#ch0000077?line=0'>1</a>\u001b[0m data1 \u001b[39m=\u001b[39m nobel_data[\u001b[39m'\u001b[39m\u001b[39manglosphere\u001b[39m\u001b[39m'\u001b[39m]\n\u001b[1;32m      <a href='vscode-notebook-cell:/Users/ricacraig/Documents/GitHub/2950-Project/Nobel%20Laureates%20-%20Phase%20IV.ipynb#ch0000077?line=1'>2</a>\u001b[0m data2 \u001b[39m=\u001b[39m nobel_data[\u001b[39m'\u001b[39m\u001b[39mage\u001b[39m\u001b[39m'\u001b[39m]\n\u001b[1;32m      <a href='vscode-notebook-cell:/Users/ricacraig/Documents/GitHub/2950-Project/Nobel%20Laureates%20-%20Phase%20IV.ipynb#ch0000077?line=2'>3</a>\u001b[0m stat, p \u001b[39m=\u001b[39m pearsonr(data1,data2)\n",
      "\u001b[0;31mNameError\u001b[0m: name 'nobel_data' is not defined"
     ]
    }
   ],
   "source": [
    "data1 = nobel_data['anglosphere']\n",
    "data2 = nobel_data['age']\n",
    "stat, p = pearsonr(data1,data2)\n",
    "print(p)"
   ]
  },
  {
   "cell_type": "markdown",
   "id": "66d2f3ef",
   "metadata": {},
   "source": [
    "There is a strong positive correlation between being born in an English-speaking country and age at win because the p value of around 0.07 is over 0.05. We can conclude that being born in an English-speaking country can help to predict age at win."
   ]
  },
  {
   "cell_type": "code",
   "execution_count": null,
   "id": "d961e79b",
   "metadata": {},
   "outputs": [
    {
     "name": "stdout",
     "output_type": "stream",
     "text": [
      "5.427236219407555e-27\n"
     ]
    }
   ],
   "source": [
    "data1 = nobel_data['gender_binary']\n",
    "data2 = nobel_data['age']\n",
    "stat, p = pearsonr(data1,data2)\n",
    "print(p)"
   ]
  },
  {
   "cell_type": "markdown",
   "id": "7ca70fc9",
   "metadata": {},
   "source": [
    "There is a strong negative correlation between being born a male and age at win because the p value of around 5.43e-27 is below 0.05. We can conclude that being male or female is not a good predictor for age at win. "
   ]
  },
  {
   "cell_type": "markdown",
   "id": "c75a987e",
   "metadata": {},
   "source": [
    "#### Section 2: Nobel Awards by country"
   ]
  },
  {
   "cell_type": "markdown",
   "id": "cc8e82a1",
   "metadata": {},
   "source": [
    "First, we print out the list of the 5 countries home to the most laureates: "
   ]
  },
  {
   "cell_type": "code",
   "execution_count": null,
   "id": "eb40e5c7",
   "metadata": {},
   "outputs": [
    {
     "data": {
      "text/plain": [
       "US    275\n",
       "GB    102\n",
       "DE     89\n",
       "FR     56\n",
       "PL     30\n",
       "Name: bornCountryCode, dtype: int64"
      ]
     },
     "execution_count": 399,
     "metadata": {},
     "output_type": "execute_result"
    }
   ],
   "source": [
    "laur_countries = nobel_data['bornCountryCode'].value_counts()\n",
    "laur_countries.head()"
   ]
  },
  {
   "cell_type": "markdown",
   "id": "7e619790",
   "metadata": {},
   "source": [
    "The five countries that produced the most Nobel laureates are the United States, the United Kingdom, Germany, France, and Poland. The presence of two Anglosphere countries in the top 5 indicates that our Hypothesis 2 may be proven correct, with some further analysis.\n",
    "\n",
    "Next, we find the number of countries that are represented by only a single laureate: "
   ]
  },
  {
   "cell_type": "code",
   "execution_count": null,
   "id": "1c95d53a",
   "metadata": {},
   "outputs": [
    {
     "data": {
      "text/plain": [
       "27"
      ]
     },
     "execution_count": 400,
     "metadata": {},
     "output_type": "execute_result"
    }
   ],
   "source": [
    "least_laur_countries = laur_countries.sort_values(ascending = True)\n",
    "least_laur_countries.value_counts()[1]"
   ]
  },
  {
   "cell_type": "markdown",
   "id": "b33af748",
   "metadata": {},
   "source": [
    "There are 27 countries (of the 76 represented by a Nobel laureate) home to only a single Nobel Prize winner. Combined with the high award counts for the top 5 countries, this seems to indicate a fairly strong preference for a small set of countries. \n",
    "\n",
    "To get a sense of the shape of this distribution, we plot a histogram of each country's laureates: "
   ]
  },
  {
   "cell_type": "code",
   "execution_count": null,
   "id": "aa60f7d9",
   "metadata": {},
   "outputs": [
    {
     "data": {
      "image/png": "[encoded data removed]",
      "text/plain": [
       "<Figure size 432x288 with 1 Axes>"
      ]
     },
     "metadata": {
      "needs_background": "light"
     },
     "output_type": "display_data"
    }
   ],
   "source": [
    "ax = seaborn.countplot(x = 'bornCountryCode', data=nobel_data, order=laur_countries.index)\n",
    "ax.set(xticks = [])\n",
    "pyplot.show()"
   ]
  },
  {
   "cell_type": "markdown",
   "id": "6ea8b627",
   "metadata": {},
   "source": [
    "This plot shows an immense disparity between countries, with the sharp (negative) logarithmic relationship that was indicated by the above statistics. Clearly, figures from certain countries appear to be favored by the Nobel committee for nomination and awards; we now move to examine whether a country being a part of the Anglosphere makes its scholars and public figures more likely to win Nobel Prizes. "
   ]
  },
  {
   "cell_type": "code",
   "execution_count": null,
   "id": "e2970a0b",
   "metadata": {},
   "outputs": [
    {
     "name": "stdout",
     "output_type": "stream",
     "text": [
      "409 out of the total 969 Nobel Prize laureates, or 42.21 percent, are from one of the five Anglosphere countries.\n"
     ]
    }
   ],
   "source": [
    "print(str(nobel_data['anglosphere'].sum()) + \" out of the total \" + str(len(nobel_data)) + \" Nobel Prize laureates, or \" + str(round((nobel_data['anglosphere'].sum()/len(nobel_data))*100, 2)) + \" percent, are from one of the five Anglosphere countries.\")"
   ]
  },
  {
   "cell_type": "code",
   "execution_count": null,
   "id": "214bcb07",
   "metadata": {},
   "outputs": [
    {
     "name": "stdout",
     "output_type": "stream",
     "text": [
      "Of those, 275, or 28.38 percent of all laureates, are from the United States.\n"
     ]
    }
   ],
   "source": [
    "print(\"Of those, \" + str((nobel_data['bornCountryCode'] == 'US').sum()) + \", or \" + str(round((nobel_data['bornCountryCode'] == 'US').sum()/len(nobel_data)*100, 2)) + \" percent of all laureates, are from the United States.\")"
   ]
  },
  {
   "cell_type": "code",
   "execution_count": null,
   "id": "4db8c930",
   "metadata": {},
   "outputs": [
    {
     "name": "stdout",
     "output_type": "stream",
     "text": [
      "134, or 13.83 percent of all laureates, are from a non-US Anglosphere country.\n"
     ]
    }
   ],
   "source": [
    "non_us_anglo = (nobel_data['bornCountryCode'] == 'GB').sum() + (nobel_data['bornCountryCode'] == 'CA').sum() + (nobel_data['bornCountryCode'] == 'NZ').sum() + (nobel_data['bornCountryCode'] == 'AU').sum()\n",
    "print(str(non_us_anglo) + \", or \" + str(round(non_us_anglo/len(nobel_data)*100, 2)) + \" percent of all laureates, are from a non-US Anglosphere country.\")"
   ]
  },
  {
   "cell_type": "code",
   "execution_count": null,
   "id": "5bc3bfe7",
   "metadata": {},
   "outputs": [
    {
     "data": {
      "text/plain": [
       "<AxesSubplot:xlabel='anglosphere', ylabel='count'>"
      ]
     },
     "execution_count": 405,
     "metadata": {},
     "output_type": "execute_result"
    },
    {
     "data": {
      "image/png": "[encoded data removed]",
      "text/plain": [
       "<Figure size 432x288 with 1 Axes>"
      ]
     },
     "metadata": {
      "needs_background": "light"
     },
     "output_type": "display_data"
    }
   ],
   "source": [
    "seaborn.countplot(x = 'anglosphere', data=nobel_data)"
   ]
  },
  {
   "cell_type": "code",
   "execution_count": null,
   "id": "392dc6be",
   "metadata": {},
   "outputs": [
    {
     "name": "stdout",
     "output_type": "stream",
     "text": [
      "There are 28 laureates without a single country of origin, due to their status as an international organization.\n"
     ]
    },
    {
     "data": {
      "text/html": [
       "<div>\n",
       "<style scoped>\n",
       "    .dataframe tbody tr th:only-of-type {\n",
       "        vertical-align: middle;\n",
       "    }\n",
       "\n",
       "    .dataframe tbody tr th {\n",
       "        vertical-align: top;\n",
       "    }\n",
       "\n",
       "    .dataframe thead th {\n",
       "        text-align: right;\n",
       "    }\n",
       "</style>\n",
       "<table border=\"1\" class=\"dataframe\">\n",
       "  <thead>\n",
       "    <tr style=\"text-align: right;\">\n",
       "      <th></th>\n",
       "      <th>Unnamed: 0</th>\n",
       "      <th>id</th>\n",
       "      <th>firstname</th>\n",
       "      <th>surname</th>\n",
       "      <th>born</th>\n",
       "      <th>died</th>\n",
       "      <th>bornCountry</th>\n",
       "      <th>bornCountryCode</th>\n",
       "      <th>bornCity</th>\n",
       "      <th>diedCountry</th>\n",
       "      <th>...</th>\n",
       "      <th>category</th>\n",
       "      <th>overallMotivation</th>\n",
       "      <th>share</th>\n",
       "      <th>motivation</th>\n",
       "      <th>name</th>\n",
       "      <th>city</th>\n",
       "      <th>country</th>\n",
       "      <th>age</th>\n",
       "      <th>anglosphere</th>\n",
       "      <th>gender_binary</th>\n",
       "    </tr>\n",
       "  </thead>\n",
       "  <tbody>\n",
       "    <tr>\n",
       "      <th>489</th>\n",
       "      <td>489</td>\n",
       "      <td>467</td>\n",
       "      <td>Institut de droit international (Institute of ...</td>\n",
       "      <td>NaN</td>\n",
       "      <td>NaN</td>\n",
       "      <td>NaN</td>\n",
       "      <td>NaN</td>\n",
       "      <td>NaN</td>\n",
       "      <td>NaN</td>\n",
       "      <td>NaN</td>\n",
       "      <td>...</td>\n",
       "      <td>peace</td>\n",
       "      <td>NaN</td>\n",
       "      <td>1.0</td>\n",
       "      <td>NaN</td>\n",
       "      <td>NaN</td>\n",
       "      <td>NaN</td>\n",
       "      <td>NaN</td>\n",
       "      <td>0</td>\n",
       "      <td>0</td>\n",
       "      <td>0</td>\n",
       "    </tr>\n",
       "    <tr>\n",
       "      <th>498</th>\n",
       "      <td>498</td>\n",
       "      <td>477</td>\n",
       "      <td>Bureau international permanent de la Paix (Per...</td>\n",
       "      <td>NaN</td>\n",
       "      <td>NaN</td>\n",
       "      <td>NaN</td>\n",
       "      <td>NaN</td>\n",
       "      <td>NaN</td>\n",
       "      <td>NaN</td>\n",
       "      <td>NaN</td>\n",
       "      <td>...</td>\n",
       "      <td>peace</td>\n",
       "      <td>NaN</td>\n",
       "      <td>1.0</td>\n",
       "      <td>NaN</td>\n",
       "      <td>NaN</td>\n",
       "      <td>NaN</td>\n",
       "      <td>NaN</td>\n",
       "      <td>0</td>\n",
       "      <td>0</td>\n",
       "      <td>0</td>\n",
       "    </tr>\n",
       "    <tr>\n",
       "      <th>503</th>\n",
       "      <td>503</td>\n",
       "      <td>482</td>\n",
       "      <td>Comité international de la Croix Rouge (Intern...</td>\n",
       "      <td>NaN</td>\n",
       "      <td>NaN</td>\n",
       "      <td>NaN</td>\n",
       "      <td>NaN</td>\n",
       "      <td>NaN</td>\n",
       "      <td>NaN</td>\n",
       "      <td>NaN</td>\n",
       "      <td>...</td>\n",
       "      <td>peace</td>\n",
       "      <td>NaN</td>\n",
       "      <td>1.0</td>\n",
       "      <td>NaN</td>\n",
       "      <td>NaN</td>\n",
       "      <td>NaN</td>\n",
       "      <td>NaN</td>\n",
       "      <td>0</td>\n",
       "      <td>0</td>\n",
       "      <td>0</td>\n",
       "    </tr>\n",
       "    <tr>\n",
       "      <th>504</th>\n",
       "      <td>504</td>\n",
       "      <td>482</td>\n",
       "      <td>Comité international de la Croix Rouge (Intern...</td>\n",
       "      <td>NaN</td>\n",
       "      <td>NaN</td>\n",
       "      <td>NaN</td>\n",
       "      <td>NaN</td>\n",
       "      <td>NaN</td>\n",
       "      <td>NaN</td>\n",
       "      <td>NaN</td>\n",
       "      <td>...</td>\n",
       "      <td>peace</td>\n",
       "      <td>NaN</td>\n",
       "      <td>1.0</td>\n",
       "      <td>NaN</td>\n",
       "      <td>NaN</td>\n",
       "      <td>NaN</td>\n",
       "      <td>NaN</td>\n",
       "      <td>0</td>\n",
       "      <td>0</td>\n",
       "      <td>0</td>\n",
       "    </tr>\n",
       "    <tr>\n",
       "      <th>505</th>\n",
       "      <td>505</td>\n",
       "      <td>482</td>\n",
       "      <td>Comité international de la Croix Rouge (Intern...</td>\n",
       "      <td>NaN</td>\n",
       "      <td>NaN</td>\n",
       "      <td>NaN</td>\n",
       "      <td>NaN</td>\n",
       "      <td>NaN</td>\n",
       "      <td>NaN</td>\n",
       "      <td>NaN</td>\n",
       "      <td>...</td>\n",
       "      <td>peace</td>\n",
       "      <td>NaN</td>\n",
       "      <td>2.0</td>\n",
       "      <td>NaN</td>\n",
       "      <td>NaN</td>\n",
       "      <td>NaN</td>\n",
       "      <td>NaN</td>\n",
       "      <td>0</td>\n",
       "      <td>0</td>\n",
       "      <td>0</td>\n",
       "    </tr>\n",
       "  </tbody>\n",
       "</table>\n",
       "<p>5 rows × 24 columns</p>\n",
       "</div>"
      ],
      "text/plain": [
       "     Unnamed: 0   id                                          firstname  \\\n",
       "489         489  467  Institut de droit international (Institute of ...   \n",
       "498         498  477  Bureau international permanent de la Paix (Per...   \n",
       "503         503  482  Comité international de la Croix Rouge (Intern...   \n",
       "504         504  482  Comité international de la Croix Rouge (Intern...   \n",
       "505         505  482  Comité international de la Croix Rouge (Intern...   \n",
       "\n",
       "    surname born died bornCountry bornCountryCode bornCity diedCountry  ...  \\\n",
       "489     NaN  NaN  NaN         NaN             NaN      NaN         NaN  ...   \n",
       "498     NaN  NaN  NaN         NaN             NaN      NaN         NaN  ...   \n",
       "503     NaN  NaN  NaN         NaN             NaN      NaN         NaN  ...   \n",
       "504     NaN  NaN  NaN         NaN             NaN      NaN         NaN  ...   \n",
       "505     NaN  NaN  NaN         NaN             NaN      NaN         NaN  ...   \n",
       "\n",
       "    category overallMotivation share  motivation name city  country age  \\\n",
       "489    peace               NaN   1.0         NaN  NaN  NaN      NaN   0   \n",
       "498    peace               NaN   1.0         NaN  NaN  NaN      NaN   0   \n",
       "503    peace               NaN   1.0         NaN  NaN  NaN      NaN   0   \n",
       "504    peace               NaN   1.0         NaN  NaN  NaN      NaN   0   \n",
       "505    peace               NaN   2.0         NaN  NaN  NaN      NaN   0   \n",
       "\n",
       "    anglosphere gender_binary  \n",
       "489           0             0  \n",
       "498           0             0  \n",
       "503           0             0  \n",
       "504           0             0  \n",
       "505           0             0  \n",
       "\n",
       "[5 rows x 24 columns]"
      ]
     },
     "execution_count": 88,
     "metadata": {},
     "output_type": "execute_result"
    }
   ],
   "source": [
    "nobel_data_countries = nobel_data\n",
    "print(\"There are \" + str(nobel_data_countries['bornCountryCode'].isna().sum()) + \" laureates without a single country of origin, due to their status as an international organization.\")\n",
    "nobel_data_countries.loc[nobel_data_countries['bornCountryCode'].isna()].head()"
   ]
  },
  {
   "cell_type": "markdown",
   "id": "65d20e91",
   "metadata": {},
   "source": [
    "As such, we fit a logistic regression to a dataset without these observations, to predict whether a country is a part of the Anglosphere based on how many Nobel laureates were born there."
   ]
  },
  {
   "cell_type": "code",
   "execution_count": null,
   "id": "da2ab2fc",
   "metadata": {},
   "outputs": [
    {
     "name": "stdout",
     "output_type": "stream",
     "text": [
      "The coefficient of the logistic regression is 0.041\n",
      "The intercept of the logistic regression is -3.7305\n"
     ]
    }
   ],
   "source": [
    "nobel_data_countries = nobel_data_countries.loc[nobel_data_countries['bornCountryCode'].notna()]\n",
    "nobel_data_countries['country_count'] = nobel_data_countries.groupby('bornCountryCode')['bornCountryCode'].transform('count')\n",
    "\n",
    "anglo_train, anglo_test = train_test_split(nobel_data_countries, test_size = 0.2)\n",
    "anglo_model = LogisticRegression().fit(anglo_train[['country_count']], anglo_train['anglosphere'])\n",
    "print(\"The coefficient of the logistic regression is \" + str(round(float(anglo_model.coef_), 4)))\n",
    "print(\"The intercept of the logistic regression is \" + str(round(float(anglo_model.intercept_), 4)))"
   ]
  },
  {
   "cell_type": "markdown",
   "id": "6b0d8c06",
   "metadata": {},
   "source": [
    "This coefficient value implies that for each instance of a person from a given country winning a Nobel Prize, the probability that said country is a part of the Anglosphere increases by a factor of $e^{0.041}$, or 1.04. \n",
    "\n",
    "The probability that a country with no Nobel laureates would be part of the Anglosphere is $e^{-3.7305}$, or 0.024. "
   ]
  },
  {
   "cell_type": "markdown",
   "id": "e71a3cb9",
   "metadata": {},
   "source": [
    "Next, we calculate the metrics of the model: test and train accuracy, precision, recall, and F1. "
   ]
  },
  {
   "cell_type": "code",
   "execution_count": null,
   "id": "feba749e",
   "metadata": {},
   "outputs": [
    {
     "name": "stdout",
     "output_type": "stream",
     "text": [
      "The train accuracy is: 0.9707446808510638\n",
      "The test accuracy is: 0.9470899470899471\n",
      "The train precision is: 1.0\n",
      "The test precision is: 1.0\n",
      "The train recall is: 0.9325153374233128\n",
      "The test recall is: 0.8795180722891566\n",
      "The train F1 is: 0.9650793650793651\n",
      "The test F1 is: 0.9358974358974359\n"
     ]
    }
   ],
   "source": [
    "anglo_train_predict = anglo_model.predict(anglo_train[['country_count']])\n",
    "anglo_test_predict = anglo_model.predict(anglo_test[['country_count']])\n",
    "anglo_train_acc = metrics.accuracy_score(anglo_train['anglosphere'], anglo_train_predict) \n",
    "anglo_test_acc = metrics.accuracy_score(anglo_test['anglosphere'], anglo_test_predict)\n",
    "anglo_train_prec = metrics.precision_score(anglo_train['anglosphere'], anglo_train_predict) \n",
    "anglo_test_prec = metrics.precision_score(anglo_test['anglosphere'], anglo_test_predict)\n",
    "anglo_train_recall = metrics.recall_score(anglo_train['anglosphere'], anglo_train_predict) \n",
    "anglo_test_recall = metrics.recall_score(anglo_test['anglosphere'], anglo_test_predict)\n",
    "anglo_train_F1 = metrics.f1_score(anglo_train['anglosphere'], anglo_train_predict) \n",
    "anglo_test_F1 = metrics.f1_score(anglo_test['anglosphere'], anglo_test_predict)\n",
    "\n",
    "print(\"The train accuracy is: \" + str(anglo_train_acc))\n",
    "print(\"The test accuracy is: \" + str(anglo_test_acc))\n",
    "print(\"The train precision is: \" + str(anglo_train_prec))\n",
    "print(\"The test precision is: \" + str(anglo_test_prec))\n",
    "print(\"The train recall is: \" + str(anglo_train_recall))\n",
    "print(\"The test recall is: \" + str(anglo_test_recall))\n",
    "print(\"The train F1 is: \" + str(anglo_train_F1))\n",
    "print(\"The test F1 is: \" + str(anglo_test_F1))"
   ]
  },
  {
   "cell_type": "markdown",
   "id": "fb3c20db",
   "metadata": {},
   "source": [
    "Each of these metrics is quite high [NOTE: will be re-examining this model before final submission]. The test metrics are slightly lower than the training metrics, but not so much that they seem to indicate overfitting. Indeed, we seem to be able to effectively predict whether a country is a part of the Anglosphere from the number of laureates said country has claim to."
   ]
  },
  {
   "cell_type": "markdown",
   "id": "d411d256",
   "metadata": {},
   "source": [
    "We then plot this regression, to get a visual sense of the relationship: "
   ]
  },
  {
   "cell_type": "code",
   "execution_count": null,
   "id": "5cb4fe59",
   "metadata": {},
   "outputs": [
    {
     "data": {
      "text/plain": [
       "<AxesSubplot:xlabel='country_count', ylabel='anglosphere'>"
      ]
     },
     "execution_count": 92,
     "metadata": {},
     "output_type": "execute_result"
    },
    {
     "data": {
      "image/png": "[encoded data removed]",
      "text/plain": [
       "<Figure size 432x288 with 1 Axes>"
      ]
     },
     "metadata": {
      "needs_background": "light"
     },
     "output_type": "display_data"
    }
   ],
   "source": [
    "seaborn.regplot(data=nobel_data_countries, x='country_count', y='anglosphere', logistic=True, fit_reg= True)"
   ]
  },
  {
   "cell_type": "markdown",
   "id": "fdb0f7f4",
   "metadata": {},
   "source": [
    "We then find summary statistics for a logistic regression on the same data, completed through the statsmodels package:"
   ]
  },
  {
   "cell_type": "code",
   "execution_count": null,
   "id": "56750089",
   "metadata": {},
   "outputs": [
    {
     "ename": "NameError",
     "evalue": "name 'sm' is not defined",
     "output_type": "error",
     "traceback": [
      "\u001b[0;31m---------------------------------------------------------------------------\u001b[0m",
      "\u001b[0;31mNameError\u001b[0m                                 Traceback (most recent call last)",
      "\u001b[1;32m/Users/ricacraig/Documents/GitHub/2950-Project/Nobel Laureates - Phase IV.ipynb Cell 65'\u001b[0m in \u001b[0;36m<cell line: 1>\u001b[0;34m()\u001b[0m\n\u001b[0;32m----> <a href='vscode-notebook-cell:/Users/ricacraig/Documents/GitHub/2950-Project/Nobel%20Laureates%20-%20Phase%20IV.ipynb#ch0000067?line=0'>1</a>\u001b[0m anglo_logit_model\u001b[39m=\u001b[39msm\u001b[39m.\u001b[39mLogit(nobel_data_countries[\u001b[39m'\u001b[39m\u001b[39manglosphere\u001b[39m\u001b[39m'\u001b[39m],nobel_data_countries[[\u001b[39m'\u001b[39m\u001b[39mcountry_count\u001b[39m\u001b[39m'\u001b[39m]])\n\u001b[1;32m      <a href='vscode-notebook-cell:/Users/ricacraig/Documents/GitHub/2950-Project/Nobel%20Laureates%20-%20Phase%20IV.ipynb#ch0000067?line=1'>2</a>\u001b[0m result \u001b[39m=\u001b[39m anglo_logit_model\u001b[39m.\u001b[39mfit()\n\u001b[1;32m      <a href='vscode-notebook-cell:/Users/ricacraig/Documents/GitHub/2950-Project/Nobel%20Laureates%20-%20Phase%20IV.ipynb#ch0000067?line=2'>3</a>\u001b[0m \u001b[39mprint\u001b[39m(result\u001b[39m.\u001b[39msummary())\n",
      "\u001b[0;31mNameError\u001b[0m: name 'sm' is not defined"
     ]
    }
   ],
   "source": [
    "anglo_logit_model=sm.Logit(nobel_data_countries['anglosphere'],nobel_data_countries[['country_count']])\n",
    "result = anglo_logit_model.fit()\n",
    "print(result.summary())"
   ]
  },
  {
   "cell_type": "code",
   "execution_count": null,
   "id": "9b4548a9",
   "metadata": {},
   "outputs": [
    {
     "ename": "NameError",
     "evalue": "name 'anglo_logit_model' is not defined",
     "output_type": "error",
     "traceback": [
      "\u001b[0;31m---------------------------------------------------------------------------\u001b[0m",
      "\u001b[0;31mNameError\u001b[0m                                 Traceback (most recent call last)",
      "\u001b[1;32m/Users/ricacraig/Documents/GitHub/2950-Project/Nobel Laureates - Phase IV.ipynb Cell 66'\u001b[0m in \u001b[0;36m<cell line: 1>\u001b[0;34m()\u001b[0m\n\u001b[0;32m----> <a href='vscode-notebook-cell:/Users/ricacraig/Documents/GitHub/2950-Project/Nobel%20Laureates%20-%20Phase%20IV.ipynb#ch0000081?line=0'>1</a>\u001b[0m anglo_logit_model\u001b[39m.\u001b[39mpvalues[\u001b[39m'\u001b[39m\u001b[39manglosphere\u001b[39m\u001b[39m'\u001b[39m]\n",
      "\u001b[0;31mNameError\u001b[0m: name 'anglo_logit_model' is not defined"
     ]
    }
   ],
   "source": [
    "anglo_logit_model.pvalues.loc['anglosphere']"
   ]
  },
  {
   "cell_type": "markdown",
   "id": "e9feeeeb",
   "metadata": {},
   "source": [
    "This regression returns a P-value of 0.000: though it is unlikely that this is a \"true\" zero, the P-value is apparently quite small, indicating a significant result. As such, it is fair to conclude that Nobel laureates are more likely to come from English-speaking countries. "
   ]
  },
  {
   "cell_type": "markdown",
   "id": "0349bc2c",
   "metadata": {},
   "source": [
    "## Interpretation and Conclusions"
   ]
  },
  {
   "cell_type": "markdown",
   "id": "021b9ccc",
   "metadata": {},
   "source": [
    "**Hypothesis 1**\n",
    "\n",
    "Our hypothesis was not supported by our data analysis. Age has bearing on the likelihood of winning a Nobel Prize. A typical age of Nobel Prize laureate at the time of win is 59.4593147751606. When we looked closer at the mean of age in the five categories, there are differences in the age of a typical laureate. We noticed that Nobel Prize laureates are more likely to win in late 60s for Economics and Literature, but winning at late 50s is more likely for Medicine, Physics, and Chemistry. Gender is more influential on predicting the age at the time of winning the Nobel Prize than being from an English-speaking country."
   ]
  },
  {
   "cell_type": "markdown",
   "id": "3bc13548",
   "metadata": {},
   "source": [
    "**Hypothesis 2**\n",
    "\n",
    "This hypothesis was supported by our data analysis. There is strong evidence of a relationship between the number of Nobel laureates hailing from a given country and the probability that said country is one of the five that make up the Anglosphere. Winners from these five countries make up more than two-fifths of laureates since the inception of the Nobel Prize, more than half of which are from the United States alone. Our analysis points to the Nobel committee holding a bias (conscious or otherwise) toward awarding accomplished figures from the Anglosphere, a group of wealthy, English-speaking nations. "
   ]
  },
  {
   "cell_type": "markdown",
   "id": "dbdb21fe",
   "metadata": {},
   "source": [
    "## Limitations"
   ]
  },
  {
   "cell_type": "markdown",
   "id": "0efccbc1",
   "metadata": {},
   "source": [
    "One primary limitation of our data is that it was collected in 2016: there have been 6 years' worth of laureates since then, and thus 6 years of data we cannot work with. It is specifically concerning that the most recent years are the ones missing: if there are any trends over time in our data, this might limit our ability to accurately model those trends or make predictions. \n",
    "\n",
    "For example, with the raising awareness of gender equality and female awakening efforts in academia, a notable increase in female laureates occurred in the 6 years (2016-2022). 12 women won Nobel in that 6 years, and the total number of female laureates before 2016 is around 60. Therefore, we weren’t able to analyze the rapid change in gender bias. \n",
    "\n",
    "Additionally, a big health challenge, COVID, happened in the three years of the six years with missing data, so we couldn’t analyze how COVID played a role in scientific breakthroughs. Additionally, all the organizations and some people have missing data, such as birth dates, which means that we have to work around those missing data to complete our data analysis."
   ]
  },
  {
   "cell_type": "markdown",
   "id": "238c70e0",
   "metadata": {},
   "source": [
    "## Source Code"
   ]
  },
  {
   "cell_type": "markdown",
   "id": "3bf37141",
   "metadata": {},
   "source": [
    "The shared repository for our project (which holds our source data as well as files for each phase of the project) can be found at: \n",
    "\n",
    "https://github.com/qbello22/2950-Project"
   ]
  },
  {
   "cell_type": "markdown",
   "id": "50e5ef84",
   "metadata": {},
   "source": [
    "## Acknowledgements"
   ]
  },
  {
   "cell_type": "markdown",
   "id": "726c46cc",
   "metadata": {},
   "source": [
    "Kuzmenko, Maryna, 2016, \"Nobel Prize - Dataset with Information about Prizes, Laureates and Countries\", https://doi.org/10.7910/DVN/AGAFAQ, Harvard Dataverse, V1, UNF:6:McdDh+ldUTGgZDs5XVOQUA== [fileUNF]\n",
    "\n",
    "Python ValueError: Time data 'Date' does not match format '%Y/%m/%d %H:%M:%S.%f'. (n.d.). Stack Overflow. Retrieved November 20, 2022, from https://stackoverflow.com/questions/42390293/python-valueerror-time-data-date-does-not-match-format-y-m-d-hms-f"
   ]
  },
  {
   "cell_type": "markdown",
   "id": "3c76f212",
   "metadata": {},
   "source": [
    "## Questions for Reviewers?\n",
    "- Any suggestions to improve the model for first hypothesis?\n",
    "- Is the writing clear? Do we need to explain more in-depth?\n",
    "- Any feedback on improvements we could make before the final submission are greatly appreciated. Thank you.\n",
    "\n"
   ]
  }
 ],
 "metadata": {
  "interpreter": {
   "hash": "4f30da6fd141dcec1f686a2d3870ea3fbe3345d19df0b7c05e23f27c1e7c07e3"
  },
  "kernelspec": {
   "display_name": "Python 3.8.13 ('info2950')",
   "language": "python",
   "name": "python3"
  },
  "language_info": {
   "codemirror_mode": {
    "name": "ipython",
    "version": 3
   },
   "file_extension": ".py",
   "mimetype": "text/x-python",
   "name": "python",
   "nbconvert_exporter": "python",
   "pygments_lexer": "ipython3",
   "version": "3.8.13"
  },
  "vscode": {
   "interpreter": {
    "hash": "2ca7599ec655074b9585b3d423579b04116d3b2a93d04538267c67ce0c059495"
   }
  }
 },
 "nbformat": 4,
 "nbformat_minor": 5
}
