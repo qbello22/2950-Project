{
 "cells": [
  {
   "cell_type": "markdown",
   "metadata": {},
   "source": [
    "# INFO 2950 Group Project: What Makes a Nobel Prize Laureate?\n",
    "\n",
    "## Research Questions:\n",
    "1. What region of the world produces the most Nobel Prize laureates?\n",
    "2. At what age is your likelihood of winning the highest?\n",
    "3. Does age at the time of winning the Nobel Prize vary between prize categories?\n",
    "3. Is there a relationship between being affliated with a higher-ranked university and winning the Nobel Prize?\n",
    "    a. Which universities have dominance in each of the prize categories?\n",
    "4. Does Nobel Prize favor one gender over another?\n",
    "5. What proportion of laureates won the Nobel Prize twice or more?\n",
    "6. What proportion of laureates are family members?"
   ]
  },
  {
   "cell_type": "markdown",
   "metadata": {},
   "source": [
    "## Data & Data Cleaning"
   ]
  },
  {
   "cell_type": "code",
   "execution_count": 5,
   "metadata": {},
   "outputs": [],
   "source": [
    "import pandas as pd \n",
    "import numpy as np\n",
    "import seaborn \n",
    "from matplotlib import pyplot"
   ]
  },
  {
   "cell_type": "code",
   "execution_count": 21,
   "metadata": {},
   "outputs": [
    {
     "name": "stdout",
     "output_type": "stream",
     "text": [
      "      id       firstname    surname        born        died  \\\n",
      "0      1  Wilhelm Conrad    Röntgen  1845-03-27  1923-02-10   \n",
      "1      2  Hendrik Antoon    Lorentz  1853-07-18  1928-02-04   \n",
      "2      3          Pieter     Zeeman  1865-05-25  1943-10-09   \n",
      "3      4   Antoine Henri  Becquerel  1852-12-15  1908-08-25   \n",
      "4      5          Pierre      Curie  1859-05-15  1906-04-19   \n",
      "..   ...             ...        ...         ...         ...   \n",
      "970  933      Bernard L.    Feringa  1951-05-18  0000-00-00   \n",
      "971  934     Juan Manuel     Santos  0000-00-00  0000-00-00   \n",
      "972  935          Oliver       Hart  1948-10-09  0000-00-00   \n",
      "973  936           Bengt  Holmström  1949-04-18  0000-00-00   \n",
      "974  937             Bob      Dylan  1941-05-24  0000-00-00   \n",
      "\n",
      "               bornCountry bornCountryCode                bornCity  \\\n",
      "0    Prussia (now Germany)              DE  Lennep (now Remscheid)   \n",
      "1          the Netherlands              NL                  Arnhem   \n",
      "2          the Netherlands              NL              Zonnemaire   \n",
      "3                   France              FR                   Paris   \n",
      "4                   France              FR                   Paris   \n",
      "..                     ...             ...                     ...   \n",
      "970        the Netherlands              NL       Barger-Compascuum   \n",
      "971               Colombia              CO                  Bogotá   \n",
      "972         United Kingdom              GB                  London   \n",
      "973                Finland              FI                Helsinki   \n",
      "974                    USA              US              Duluth, MN   \n",
      "\n",
      "         diedCountry diedCountryCode   diedCity gender    year    category  \\\n",
      "0            Germany              DE     Munich   male  1901.0     physics   \n",
      "1    the Netherlands              NL        NaN   male  1902.0     physics   \n",
      "2    the Netherlands              NL  Amsterdam   male  1902.0     physics   \n",
      "3             France              FR        NaN   male  1903.0     physics   \n",
      "4             France              FR      Paris   male  1903.0     physics   \n",
      "..               ...             ...        ...    ...     ...         ...   \n",
      "970              NaN             NaN        NaN   male  2016.0   chemistry   \n",
      "971              NaN             NaN        NaN   male  2016.0       peace   \n",
      "972              NaN             NaN        NaN   male  2016.0   economics   \n",
      "973              NaN             NaN        NaN   male  2016.0   economics   \n",
      "974              NaN             NaN        NaN   male  2016.0  literature   \n",
      "\n",
      "    overallMotivation  share  \\\n",
      "0                 NaN    1.0   \n",
      "1                 NaN    2.0   \n",
      "2                 NaN    2.0   \n",
      "3                 NaN    2.0   \n",
      "4                 NaN    4.0   \n",
      "..                ...    ...   \n",
      "970               NaN    3.0   \n",
      "971               NaN    1.0   \n",
      "972               NaN    2.0   \n",
      "973               NaN    2.0   \n",
      "974               NaN    1.0   \n",
      "\n",
      "                                            motivation  \\\n",
      "0    \"in recognition of the extraordinary services ...   \n",
      "1    \"in recognition of the extraordinary service t...   \n",
      "2    \"in recognition of the extraordinary service t...   \n",
      "3    \"in recognition of the extraordinary services ...   \n",
      "4    \"in recognition of the extraordinary services ...   \n",
      "..                                                 ...   \n",
      "970  \"for the design and synthesis of molecular mac...   \n",
      "971  \"for his resolute efforts to bring the country...   \n",
      "972       \"for their contributions to contract theory\"   \n",
      "973       \"for their contributions to contract theory\"   \n",
      "974  \"for having created new poetic expressions wit...   \n",
      "\n",
      "                                                  name           city  \\\n",
      "0                                    Munich University         Munich   \n",
      "1                                    Leiden University         Leiden   \n",
      "2                                 Amsterdam University      Amsterdam   \n",
      "3                                  École Polytechnique          Paris   \n",
      "4    École municipale de physique et de chimie indu...          Paris   \n",
      "..                                                 ...            ...   \n",
      "970                            University of Groningen      Groningen   \n",
      "971                                                NaN            NaN   \n",
      "972                                 Harvard University  Cambridge, MA   \n",
      "973        Massachusetts Institute of Technology (MIT)  Cambridge, MA   \n",
      "974                                                NaN            NaN   \n",
      "\n",
      "             country  \n",
      "0            Germany  \n",
      "1    the Netherlands  \n",
      "2    the Netherlands  \n",
      "3             France  \n",
      "4             France  \n",
      "..               ...  \n",
      "970  the Netherlands  \n",
      "971              NaN  \n",
      "972              USA  \n",
      "973              USA  \n",
      "974              NaN  \n",
      "\n",
      "[975 rows x 20 columns]\n"
     ]
    }
   ],
   "source": [
    "nobel_data_raw = pd.read_csv(\"laureate.csv\")\n",
    "print(nobel_data_raw)"
   ]
  },
  {
   "cell_type": "code",
   "execution_count": 25,
   "metadata": {},
   "outputs": [
    {
     "name": "stdout",
     "output_type": "stream",
     "text": [
      "object\n"
     ]
    }
   ],
   "source": [
    "print(nobel_data_raw['born'].dtypes)"
   ]
  },
  {
   "cell_type": "markdown",
   "metadata": {},
   "source": [
    "## Data Description \n",
    "### What are the observations (rows) and the attributes (columns)?\n",
    "\n",
    "### Why was this dataset created?\n",
    "\n",
    "Who created the dataset (e.g., which team, research group) and on behalf of which entity (e.g., company, institution, organization)?\n",
    "\n",
    "### Who funded the creation of the dataset?\n",
    "\n",
    "What do the instances that comprise the dataset represent (e.g., documents, photos, people, countries)?\n",
    "\n",
    "How many instances are there in total (of each type, if appropriate)?\n",
    "\n",
    "Does the dataset contain all possible instances or is it a sample (not necessarily random) of instances from a larger set?\n",
    "\n",
    "What data does each instance consist of?\n",
    "\n",
    "Is any information missing from individual instances?\n",
    "\n",
    "Are there any errors, sources of noise, or redundancies in the dataset?\n",
    "\n",
    "Does the dataset identify any subpopulations (e.g., by age, gender)? If so, please describe how these subpopulations are identified and provide a description of their respective distributions within the dataset.\n",
    "\n",
    "Is it possible to identify individuals (i.e., one or more natural persons), either directly or indirectly (i.e., in combination with other data) from the dataset? If so, please describe how.\n",
    "\n",
    "How was the data associated with each instance acquired?\n",
    "\n",
    "### What processes might have influenced what data was observed and recorded and what was not?\n",
    "\n",
    "### What preprocessing was done, and how did the data come to be in the form that you are using?\n",
    "\n",
    "### If people are involved, were they aware of the data collection and if so, what purpose did they expect the data to be used for?\n",
    "\n",
    "### Where can your raw source data be found, if applicable? Provide a link to the raw data (hosted in a Cornell Google Drive or Cornell Box)\n"
   ]
  },
  {
   "cell_type": "markdown",
   "metadata": {},
   "source": [
    "## Data Limitations\n",
    "\n",
    "One primary limitation of our data is that it was collected in 2016: there have been 6 years' worth of laureates since then, data about whom we were not able to work with. "
   ]
  },
  {
   "cell_type": "markdown",
   "metadata": {},
   "source": [
    "## Exploratory Data Analysis"
   ]
  }
 ],
 "metadata": {
  "kernelspec": {
   "display_name": "Python 3.9.12 ('info2950test')",
   "language": "python",
   "name": "python3"
  },
  "language_info": {
   "codemirror_mode": {
    "name": "ipython",
    "version": 3
   },
   "file_extension": ".py",
   "mimetype": "text/x-python",
   "name": "python",
   "nbconvert_exporter": "python",
   "pygments_lexer": "ipython3",
   "version": "3.9.12"
  },
  "orig_nbformat": 4,
  "vscode": {
   "interpreter": {
    "hash": "2ca7599ec655074b9585b3d423579b04116d3b2a93d04538267c67ce0c059495"
   }
  }
 },
 "nbformat": 4,
 "nbformat_minor": 2
}
