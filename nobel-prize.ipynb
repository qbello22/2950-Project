{
 "cells": [
  {
   "cell_type": "markdown",
   "metadata": {},
   "source": [
    "# INFO 2950 Group Project: What Makes a Nobel Prize Laureate?\n",
    "\n",
    "## Research Questions:\n",
    "1. What region of the world produces the most Nobel Prize laureates?\n",
    "2. At what age is your likelihood of winning the highest?\n",
    "3. Does age at the time of winning the Nobel Prize vary between prize categories?\n",
    "3. Is there a relationship between being affliated with a higher-ranked university and winning the Nobel Prize?\n",
    "    a. Which universities have dominance in each of the prize categories?\n",
    "4. Does Nobel Prize favor one gender over another?\n",
    "5. What proportion of laureates won the Nobel Prize twice or more?\n",
    "6. What proportion of laureates are family members?"
   ]
  },
  {
   "cell_type": "markdown",
   "metadata": {},
   "source": [
    "## Data & Data Cleaning"
   ]
  },
  {
   "cell_type": "code",
   "execution_count": 1,
   "metadata": {},
   "outputs": [],
   "source": [
    "import pandas as pd \n",
    "import numpy as np\n",
    "import seaborn \n",
    "from matplotlib import pyplot"
   ]
  },
  {
   "cell_type": "code",
   "execution_count": 4,
   "metadata": {},
   "outputs": [
    {
     "name": "stdout",
     "output_type": "stream",
     "text": [
      "   id       firstname    surname        born        died  \\\n",
      "0   1  Wilhelm Conrad    Röntgen  1845-03-27  1923-02-10   \n",
      "1   2  Hendrik Antoon    Lorentz  1853-07-18  1928-02-04   \n",
      "2   3          Pieter     Zeeman  1865-05-25  1943-10-09   \n",
      "3   4   Antoine Henri  Becquerel  1852-12-15  1908-08-25   \n",
      "4   5          Pierre      Curie  1859-05-15  1906-04-19   \n",
      "\n",
      "             bornCountry bornCountryCode                bornCity  \\\n",
      "0  Prussia (now Germany)              DE  Lennep (now Remscheid)   \n",
      "1        the Netherlands              NL                  Arnhem   \n",
      "2        the Netherlands              NL              Zonnemaire   \n",
      "3                 France              FR                   Paris   \n",
      "4                 France              FR                   Paris   \n",
      "\n",
      "       diedCountry diedCountryCode   diedCity gender    year category  \\\n",
      "0          Germany              DE     Munich   male  1901.0  physics   \n",
      "1  the Netherlands              NL        NaN   male  1902.0  physics   \n",
      "2  the Netherlands              NL  Amsterdam   male  1902.0  physics   \n",
      "3           France              FR        NaN   male  1903.0  physics   \n",
      "4           France              FR      Paris   male  1903.0  physics   \n",
      "\n",
      "  overallMotivation  share                                         motivation  \\\n",
      "0               NaN    1.0  \"in recognition of the extraordinary services ...   \n",
      "1               NaN    2.0  \"in recognition of the extraordinary service t...   \n",
      "2               NaN    2.0  \"in recognition of the extraordinary service t...   \n",
      "3               NaN    2.0  \"in recognition of the extraordinary services ...   \n",
      "4               NaN    4.0  \"in recognition of the extraordinary services ...   \n",
      "\n",
      "                                                name       city  \\\n",
      "0                                  Munich University     Munich   \n",
      "1                                  Leiden University     Leiden   \n",
      "2                               Amsterdam University  Amsterdam   \n",
      "3                                École Polytechnique      Paris   \n",
      "4  École municipale de physique et de chimie indu...      Paris   \n",
      "\n",
      "           country  \n",
      "0          Germany  \n",
      "1  the Netherlands  \n",
      "2  the Netherlands  \n",
      "3           France  \n",
      "4           France  \n"
     ]
    }
   ],
   "source": [
    "nobel_data_raw = pd.read_csv(\"laureate.csv\")\n",
    "print(nobel_data_raw.head())"
   ]
  },
  {
   "cell_type": "markdown",
   "metadata": {},
   "source": [
    "## Data Description "
   ]
  },
  {
   "cell_type": "markdown",
   "metadata": {},
   "source": [
    "## Data Limitations"
   ]
  },
  {
   "cell_type": "markdown",
   "metadata": {},
   "source": [
    "## Exploratory Data Analysis\n"
   ]
  },
  {
   "cell_type": "markdown",
   "metadata": {},
   "source": [
    "## Questions For Reviewers\n"
   ]
  },
  {
   "cell_type": "markdown",
   "metadata": {},
   "source": [
    "- Since our data is collected from the Harvard Dataverse site in 2016, we are missing data from 2017 to 2022. Should we keep the dataset as is or add the missing ones manually? "
   ]
  }
 ],
 "metadata": {
  "kernelspec": {
   "display_name": "Python 3.9.12 ('info2950')",
   "language": "python",
   "name": "python3"
  },
  "language_info": {
   "codemirror_mode": {
    "name": "ipython",
    "version": 3
   },
   "file_extension": ".py",
   "mimetype": "text/x-python",
   "name": "python",
   "nbconvert_exporter": "python",
   "pygments_lexer": "ipython3",
   "version": "3.9.12"
  },
  "orig_nbformat": 4,
  "vscode": {
   "interpreter": {
    "hash": "204c63c1b6806855fef21e58e73cf709c3fbc33098e484dfa2bbf50512e9ce9c"
   }
  }
 },
 "nbformat": 4,
 "nbformat_minor": 2
}
