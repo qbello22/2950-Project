{
 "cells": [
  {
   "cell_type": "markdown",
   "metadata": {},
   "source": [
    "# INFO 2950 Group Project: What Makes a Nobel Prize Laureate?\n",
    "\n",
    "## Research Questions:\n",
    "1. What region of the world produces the most Nobel Prize laureates?\n",
    "2. At what age is your likelihood of winning the highest?\n",
    "3. Are Nobel Prize laureates getting older?\n",
    "4. Which universities dominate the Nobel Prize?\n",
    "5. Does Nobel Prize favor one gender over another?\n",
    "6. What proportion of laureates won the Nobel Prize more than once?\n",
    "7. What proportion of laureates are family members?"
   ]
  },
  {
   "cell_type": "markdown",
   "metadata": {},
   "source": [
    "## Data & Data Cleaning"
   ]
  },
  {
   "cell_type": "markdown",
   "metadata": {},
   "source": [
    "We were able to locate a dataset available through the Harvard Dataverse Repository, containing data on the characteristics of individual Nobel Prize laureates. We downloaded that initial .csv file, and then pursued the following process to clean up that data and turn it into a dataframe suitable for our research: "
   ]
  },
  {
   "cell_type": "markdown",
   "metadata": {},
   "source": [
    "**Step 1:** Imported libraries for our data analysis."
   ]
  },
  {
   "cell_type": "code",
   "execution_count": 1,
   "metadata": {},
   "outputs": [],
   "source": [
    "import pandas as pd \n",
    "import numpy as np\n",
    "import seaborn \n",
    "from matplotlib import pyplot\n",
    "from datetime import datetime, date"
   ]
  },
  {
   "cell_type": "code",
   "execution_count": 16,
   "metadata": {},
   "outputs": [
    {
     "name": "stdout",
     "output_type": "stream",
     "text": [
      "The sql extension is already loaded. To reload it, use:\n",
      "  %reload_ext sql\n"
     ]
    }
   ],
   "source": [
    "%load_ext sql\n",
    "\n",
    "%config SqlMagic.autopandas = True\n",
    "%config SqlMagic.feedback = False\n",
    "%config SqlMagic.displaycon = False\n",
    "\n",
    "%sql duckdb:///:memory:"
   ]
  },
  {
   "cell_type": "markdown",
   "metadata": {},
   "source": [
    "**Step 2:** Loaded the CSV file, laureate.csv, into a pandas data frame called nobel_data_raw and printed nobel_data_raw to check laureate.csv was loaded correctly into the data frame."
   ]
  },
  {
   "cell_type": "code",
   "execution_count": 3,
   "metadata": {},
   "outputs": [
    {
     "name": "stdout",
     "output_type": "stream",
     "text": [
      "      id       firstname    surname        born        died  \\\n",
      "0      1  Wilhelm Conrad    Röntgen  1845-03-27  1923-02-10   \n",
      "1      2  Hendrik Antoon    Lorentz  1853-07-18  1928-02-04   \n",
      "2      3          Pieter     Zeeman  1865-05-25  1943-10-09   \n",
      "3      4   Antoine Henri  Becquerel  1852-12-15  1908-08-25   \n",
      "4      5          Pierre      Curie  1859-05-15  1906-04-19   \n",
      "..   ...             ...        ...         ...         ...   \n",
      "970  933      Bernard L.    Feringa  1951-05-18  0000-00-00   \n",
      "971  934     Juan Manuel     Santos  0000-00-00  0000-00-00   \n",
      "972  935          Oliver       Hart  1948-10-09  0000-00-00   \n",
      "973  936           Bengt  Holmström  1949-04-18  0000-00-00   \n",
      "974  937             Bob      Dylan  1941-05-24  0000-00-00   \n",
      "\n",
      "               bornCountry bornCountryCode                bornCity  \\\n",
      "0    Prussia (now Germany)              DE  Lennep (now Remscheid)   \n",
      "1          the Netherlands              NL                  Arnhem   \n",
      "2          the Netherlands              NL              Zonnemaire   \n",
      "3                   France              FR                   Paris   \n",
      "4                   France              FR                   Paris   \n",
      "..                     ...             ...                     ...   \n",
      "970        the Netherlands              NL       Barger-Compascuum   \n",
      "971               Colombia              CO                  Bogotá   \n",
      "972         United Kingdom              GB                  London   \n",
      "973                Finland              FI                Helsinki   \n",
      "974                    USA              US              Duluth, MN   \n",
      "\n",
      "         diedCountry diedCountryCode   diedCity gender    year    category  \\\n",
      "0            Germany              DE     Munich   male  1901.0     physics   \n",
      "1    the Netherlands              NL        NaN   male  1902.0     physics   \n",
      "2    the Netherlands              NL  Amsterdam   male  1902.0     physics   \n",
      "3             France              FR        NaN   male  1903.0     physics   \n",
      "4             France              FR      Paris   male  1903.0     physics   \n",
      "..               ...             ...        ...    ...     ...         ...   \n",
      "970              NaN             NaN        NaN   male  2016.0   chemistry   \n",
      "971              NaN             NaN        NaN   male  2016.0       peace   \n",
      "972              NaN             NaN        NaN   male  2016.0   economics   \n",
      "973              NaN             NaN        NaN   male  2016.0   economics   \n",
      "974              NaN             NaN        NaN   male  2016.0  literature   \n",
      "\n",
      "    overallMotivation  share  \\\n",
      "0                 NaN    1.0   \n",
      "1                 NaN    2.0   \n",
      "2                 NaN    2.0   \n",
      "3                 NaN    2.0   \n",
      "4                 NaN    4.0   \n",
      "..                ...    ...   \n",
      "970               NaN    3.0   \n",
      "971               NaN    1.0   \n",
      "972               NaN    2.0   \n",
      "973               NaN    2.0   \n",
      "974               NaN    1.0   \n",
      "\n",
      "                                            motivation  \\\n",
      "0    \"in recognition of the extraordinary services ...   \n",
      "1    \"in recognition of the extraordinary service t...   \n",
      "2    \"in recognition of the extraordinary service t...   \n",
      "3    \"in recognition of the extraordinary services ...   \n",
      "4    \"in recognition of the extraordinary services ...   \n",
      "..                                                 ...   \n",
      "970  \"for the design and synthesis of molecular mac...   \n",
      "971  \"for his resolute efforts to bring the country...   \n",
      "972       \"for their contributions to contract theory\"   \n",
      "973       \"for their contributions to contract theory\"   \n",
      "974  \"for having created new poetic expressions wit...   \n",
      "\n",
      "                                                  name           city  \\\n",
      "0                                    Munich University         Munich   \n",
      "1                                    Leiden University         Leiden   \n",
      "2                                 Amsterdam University      Amsterdam   \n",
      "3                                  École Polytechnique          Paris   \n",
      "4    École municipale de physique et de chimie indu...          Paris   \n",
      "..                                                 ...            ...   \n",
      "970                            University of Groningen      Groningen   \n",
      "971                                                NaN            NaN   \n",
      "972                                 Harvard University  Cambridge, MA   \n",
      "973        Massachusetts Institute of Technology (MIT)  Cambridge, MA   \n",
      "974                                                NaN            NaN   \n",
      "\n",
      "             country  \n",
      "0            Germany  \n",
      "1    the Netherlands  \n",
      "2    the Netherlands  \n",
      "3             France  \n",
      "4             France  \n",
      "..               ...  \n",
      "970  the Netherlands  \n",
      "971              NaN  \n",
      "972              USA  \n",
      "973              USA  \n",
      "974              NaN  \n",
      "\n",
      "[975 rows x 20 columns]\n"
     ]
    }
   ],
   "source": [
    "nobel_data_raw = pd.read_csv(\"laureate.csv\")\n",
    "print(nobel_data_raw)"
   ]
  },
  {
   "cell_type": "markdown",
   "metadata": {},
   "source": [
    "**Step 3:** Printed out the number of rows and columns in nobel_data_raw to make sure that it matches the number of rows and columns of laureate.csv from the original source."
   ]
  },
  {
   "cell_type": "code",
   "execution_count": 4,
   "metadata": {},
   "outputs": [
    {
     "data": {
      "text/plain": [
       "(975, 20)"
      ]
     },
     "execution_count": 4,
     "metadata": {},
     "output_type": "execute_result"
    }
   ],
   "source": [
    "nobel_data_raw.shape"
   ]
  },
  {
   "cell_type": "markdown",
   "metadata": {},
   "source": [
    "**Step 4:** Printed out the type of each column so that we know if we need to convert to another type in our upcoming data analysis."
   ]
  },
  {
   "cell_type": "code",
   "execution_count": 5,
   "metadata": {},
   "outputs": [
    {
     "data": {
      "text/plain": [
       "id                     int64\n",
       "firstname             object\n",
       "surname               object\n",
       "born                  object\n",
       "died                  object\n",
       "bornCountry           object\n",
       "bornCountryCode       object\n",
       "bornCity              object\n",
       "diedCountry           object\n",
       "diedCountryCode       object\n",
       "diedCity              object\n",
       "gender                object\n",
       "year                 float64\n",
       "category              object\n",
       "overallMotivation     object\n",
       "share                float64\n",
       "motivation            object\n",
       "name                  object\n",
       "city                  object\n",
       "country               object\n",
       "dtype: object"
      ]
     },
     "execution_count": 5,
     "metadata": {},
     "output_type": "execute_result"
    }
   ],
   "source": [
    "nobel_data_raw.dtypes"
   ]
  },
  {
   "cell_type": "markdown",
   "metadata": {},
   "source": [
    "**Step 5:** We converted values in 'born' and 'died' columns to datetime. If the values were not formatted to be able to convert to datetime, such as \"0000-00-00,\" we renamed those values as \"NaT\". We also printed out the data frame to check if the columns were displaying values in datetime and in NaT properly."
   ]
  },
  {
   "cell_type": "code",
   "execution_count": 6,
   "metadata": {},
   "outputs": [
    {
     "name": "stdout",
     "output_type": "stream",
     "text": [
      "      id       firstname    surname       born       died  \\\n",
      "0      1  Wilhelm Conrad    Röntgen 1845-03-27 1923-02-10   \n",
      "1      2  Hendrik Antoon    Lorentz 1853-07-18 1928-02-04   \n",
      "2      3          Pieter     Zeeman 1865-05-25 1943-10-09   \n",
      "3      4   Antoine Henri  Becquerel 1852-12-15 1908-08-25   \n",
      "4      5          Pierre      Curie 1859-05-15 1906-04-19   \n",
      "..   ...             ...        ...        ...        ...   \n",
      "970  933      Bernard L.    Feringa 1951-05-18        NaT   \n",
      "971  934     Juan Manuel     Santos        NaT        NaT   \n",
      "972  935          Oliver       Hart 1948-10-09        NaT   \n",
      "973  936           Bengt  Holmström 1949-04-18        NaT   \n",
      "974  937             Bob      Dylan 1941-05-24        NaT   \n",
      "\n",
      "               bornCountry bornCountryCode                bornCity  \\\n",
      "0    Prussia (now Germany)              DE  Lennep (now Remscheid)   \n",
      "1          the Netherlands              NL                  Arnhem   \n",
      "2          the Netherlands              NL              Zonnemaire   \n",
      "3                   France              FR                   Paris   \n",
      "4                   France              FR                   Paris   \n",
      "..                     ...             ...                     ...   \n",
      "970        the Netherlands              NL       Barger-Compascuum   \n",
      "971               Colombia              CO                  Bogotá   \n",
      "972         United Kingdom              GB                  London   \n",
      "973                Finland              FI                Helsinki   \n",
      "974                    USA              US              Duluth, MN   \n",
      "\n",
      "         diedCountry diedCountryCode   diedCity gender    year    category  \\\n",
      "0            Germany              DE     Munich   male  1901.0     physics   \n",
      "1    the Netherlands              NL        NaN   male  1902.0     physics   \n",
      "2    the Netherlands              NL  Amsterdam   male  1902.0     physics   \n",
      "3             France              FR        NaN   male  1903.0     physics   \n",
      "4             France              FR      Paris   male  1903.0     physics   \n",
      "..               ...             ...        ...    ...     ...         ...   \n",
      "970              NaN             NaN        NaN   male  2016.0   chemistry   \n",
      "971              NaN             NaN        NaN   male  2016.0       peace   \n",
      "972              NaN             NaN        NaN   male  2016.0   economics   \n",
      "973              NaN             NaN        NaN   male  2016.0   economics   \n",
      "974              NaN             NaN        NaN   male  2016.0  literature   \n",
      "\n",
      "    overallMotivation  share  \\\n",
      "0                 NaN    1.0   \n",
      "1                 NaN    2.0   \n",
      "2                 NaN    2.0   \n",
      "3                 NaN    2.0   \n",
      "4                 NaN    4.0   \n",
      "..                ...    ...   \n",
      "970               NaN    3.0   \n",
      "971               NaN    1.0   \n",
      "972               NaN    2.0   \n",
      "973               NaN    2.0   \n",
      "974               NaN    1.0   \n",
      "\n",
      "                                            motivation  \\\n",
      "0    \"in recognition of the extraordinary services ...   \n",
      "1    \"in recognition of the extraordinary service t...   \n",
      "2    \"in recognition of the extraordinary service t...   \n",
      "3    \"in recognition of the extraordinary services ...   \n",
      "4    \"in recognition of the extraordinary services ...   \n",
      "..                                                 ...   \n",
      "970  \"for the design and synthesis of molecular mac...   \n",
      "971  \"for his resolute efforts to bring the country...   \n",
      "972       \"for their contributions to contract theory\"   \n",
      "973       \"for their contributions to contract theory\"   \n",
      "974  \"for having created new poetic expressions wit...   \n",
      "\n",
      "                                                  name           city  \\\n",
      "0                                    Munich University         Munich   \n",
      "1                                    Leiden University         Leiden   \n",
      "2                                 Amsterdam University      Amsterdam   \n",
      "3                                  École Polytechnique          Paris   \n",
      "4    École municipale de physique et de chimie indu...          Paris   \n",
      "..                                                 ...            ...   \n",
      "970                            University of Groningen      Groningen   \n",
      "971                                                NaN            NaN   \n",
      "972                                 Harvard University  Cambridge, MA   \n",
      "973        Massachusetts Institute of Technology (MIT)  Cambridge, MA   \n",
      "974                                                NaN            NaN   \n",
      "\n",
      "             country  \n",
      "0            Germany  \n",
      "1    the Netherlands  \n",
      "2    the Netherlands  \n",
      "3             France  \n",
      "4             France  \n",
      "..               ...  \n",
      "970  the Netherlands  \n",
      "971              NaN  \n",
      "972              USA  \n",
      "973              USA  \n",
      "974              NaN  \n",
      "\n",
      "[975 rows x 20 columns]\n"
     ]
    }
   ],
   "source": [
    "nobel_data_raw['born'] = pd.to_datetime(nobel_data_raw['born'], format = '%Y-%m-%d', errors = 'coerce')\n",
    "nobel_data_raw['died'] = pd.to_datetime(nobel_data_raw['died'], format = '%Y-%m-%d', errors = 'coerce')\n",
    "print(nobel_data_raw)"
   ]
  },
  {
   "cell_type": "markdown",
   "metadata": {},
   "source": [
    "**Step 6:** We found the age in days of each laureate in the dataframe by using the \"year\" and year extracted from datetime values in the 'born' column. We made a new column called \"age\" because it will help us answer a few of our research questions. The values in the 'age' column were rounded down using np.floor to accurately represent each laureate's age at the time of their win. We also used .fillna() to fill missing \"age\" values with 0 to create models in the future without any errors involving NaN. Lastly, we used .head() to check if our data frame includes the new column."
   ]
  },
  {
   "cell_type": "code",
   "execution_count": 7,
   "metadata": {},
   "outputs": [
    {
     "data": {
      "text/html": [
       "<div>\n",
       "<style scoped>\n",
       "    .dataframe tbody tr th:only-of-type {\n",
       "        vertical-align: middle;\n",
       "    }\n",
       "\n",
       "    .dataframe tbody tr th {\n",
       "        vertical-align: top;\n",
       "    }\n",
       "\n",
       "    .dataframe thead th {\n",
       "        text-align: right;\n",
       "    }\n",
       "</style>\n",
       "<table border=\"1\" class=\"dataframe\">\n",
       "  <thead>\n",
       "    <tr style=\"text-align: right;\">\n",
       "      <th></th>\n",
       "      <th>id</th>\n",
       "      <th>firstname</th>\n",
       "      <th>surname</th>\n",
       "      <th>born</th>\n",
       "      <th>died</th>\n",
       "      <th>bornCountry</th>\n",
       "      <th>bornCountryCode</th>\n",
       "      <th>bornCity</th>\n",
       "      <th>diedCountry</th>\n",
       "      <th>diedCountryCode</th>\n",
       "      <th>...</th>\n",
       "      <th>gender</th>\n",
       "      <th>year</th>\n",
       "      <th>category</th>\n",
       "      <th>overallMotivation</th>\n",
       "      <th>share</th>\n",
       "      <th>motivation</th>\n",
       "      <th>name</th>\n",
       "      <th>city</th>\n",
       "      <th>country</th>\n",
       "      <th>age</th>\n",
       "    </tr>\n",
       "  </thead>\n",
       "  <tbody>\n",
       "    <tr>\n",
       "      <th>0</th>\n",
       "      <td>1</td>\n",
       "      <td>Wilhelm Conrad</td>\n",
       "      <td>Röntgen</td>\n",
       "      <td>1845-03-27</td>\n",
       "      <td>1923-02-10</td>\n",
       "      <td>Prussia (now Germany)</td>\n",
       "      <td>DE</td>\n",
       "      <td>Lennep (now Remscheid)</td>\n",
       "      <td>Germany</td>\n",
       "      <td>DE</td>\n",
       "      <td>...</td>\n",
       "      <td>male</td>\n",
       "      <td>1901.0</td>\n",
       "      <td>physics</td>\n",
       "      <td>NaN</td>\n",
       "      <td>1.0</td>\n",
       "      <td>\"in recognition of the extraordinary services ...</td>\n",
       "      <td>Munich University</td>\n",
       "      <td>Munich</td>\n",
       "      <td>Germany</td>\n",
       "      <td>56</td>\n",
       "    </tr>\n",
       "    <tr>\n",
       "      <th>1</th>\n",
       "      <td>2</td>\n",
       "      <td>Hendrik Antoon</td>\n",
       "      <td>Lorentz</td>\n",
       "      <td>1853-07-18</td>\n",
       "      <td>1928-02-04</td>\n",
       "      <td>the Netherlands</td>\n",
       "      <td>NL</td>\n",
       "      <td>Arnhem</td>\n",
       "      <td>the Netherlands</td>\n",
       "      <td>NL</td>\n",
       "      <td>...</td>\n",
       "      <td>male</td>\n",
       "      <td>1902.0</td>\n",
       "      <td>physics</td>\n",
       "      <td>NaN</td>\n",
       "      <td>2.0</td>\n",
       "      <td>\"in recognition of the extraordinary service t...</td>\n",
       "      <td>Leiden University</td>\n",
       "      <td>Leiden</td>\n",
       "      <td>the Netherlands</td>\n",
       "      <td>49</td>\n",
       "    </tr>\n",
       "    <tr>\n",
       "      <th>2</th>\n",
       "      <td>3</td>\n",
       "      <td>Pieter</td>\n",
       "      <td>Zeeman</td>\n",
       "      <td>1865-05-25</td>\n",
       "      <td>1943-10-09</td>\n",
       "      <td>the Netherlands</td>\n",
       "      <td>NL</td>\n",
       "      <td>Zonnemaire</td>\n",
       "      <td>the Netherlands</td>\n",
       "      <td>NL</td>\n",
       "      <td>...</td>\n",
       "      <td>male</td>\n",
       "      <td>1902.0</td>\n",
       "      <td>physics</td>\n",
       "      <td>NaN</td>\n",
       "      <td>2.0</td>\n",
       "      <td>\"in recognition of the extraordinary service t...</td>\n",
       "      <td>Amsterdam University</td>\n",
       "      <td>Amsterdam</td>\n",
       "      <td>the Netherlands</td>\n",
       "      <td>37</td>\n",
       "    </tr>\n",
       "    <tr>\n",
       "      <th>3</th>\n",
       "      <td>4</td>\n",
       "      <td>Antoine Henri</td>\n",
       "      <td>Becquerel</td>\n",
       "      <td>1852-12-15</td>\n",
       "      <td>1908-08-25</td>\n",
       "      <td>France</td>\n",
       "      <td>FR</td>\n",
       "      <td>Paris</td>\n",
       "      <td>France</td>\n",
       "      <td>FR</td>\n",
       "      <td>...</td>\n",
       "      <td>male</td>\n",
       "      <td>1903.0</td>\n",
       "      <td>physics</td>\n",
       "      <td>NaN</td>\n",
       "      <td>2.0</td>\n",
       "      <td>\"in recognition of the extraordinary services ...</td>\n",
       "      <td>École Polytechnique</td>\n",
       "      <td>Paris</td>\n",
       "      <td>France</td>\n",
       "      <td>51</td>\n",
       "    </tr>\n",
       "    <tr>\n",
       "      <th>4</th>\n",
       "      <td>5</td>\n",
       "      <td>Pierre</td>\n",
       "      <td>Curie</td>\n",
       "      <td>1859-05-15</td>\n",
       "      <td>1906-04-19</td>\n",
       "      <td>France</td>\n",
       "      <td>FR</td>\n",
       "      <td>Paris</td>\n",
       "      <td>France</td>\n",
       "      <td>FR</td>\n",
       "      <td>...</td>\n",
       "      <td>male</td>\n",
       "      <td>1903.0</td>\n",
       "      <td>physics</td>\n",
       "      <td>NaN</td>\n",
       "      <td>4.0</td>\n",
       "      <td>\"in recognition of the extraordinary services ...</td>\n",
       "      <td>École municipale de physique et de chimie indu...</td>\n",
       "      <td>Paris</td>\n",
       "      <td>France</td>\n",
       "      <td>44</td>\n",
       "    </tr>\n",
       "  </tbody>\n",
       "</table>\n",
       "<p>5 rows × 21 columns</p>\n",
       "</div>"
      ],
      "text/plain": [
       "   id       firstname    surname       born       died            bornCountry  \\\n",
       "0   1  Wilhelm Conrad    Röntgen 1845-03-27 1923-02-10  Prussia (now Germany)   \n",
       "1   2  Hendrik Antoon    Lorentz 1853-07-18 1928-02-04        the Netherlands   \n",
       "2   3          Pieter     Zeeman 1865-05-25 1943-10-09        the Netherlands   \n",
       "3   4   Antoine Henri  Becquerel 1852-12-15 1908-08-25                 France   \n",
       "4   5          Pierre      Curie 1859-05-15 1906-04-19                 France   \n",
       "\n",
       "  bornCountryCode                bornCity      diedCountry diedCountryCode  \\\n",
       "0              DE  Lennep (now Remscheid)          Germany              DE   \n",
       "1              NL                  Arnhem  the Netherlands              NL   \n",
       "2              NL              Zonnemaire  the Netherlands              NL   \n",
       "3              FR                   Paris           France              FR   \n",
       "4              FR                   Paris           France              FR   \n",
       "\n",
       "   ... gender    year  category overallMotivation share  \\\n",
       "0  ...   male  1901.0   physics               NaN   1.0   \n",
       "1  ...   male  1902.0   physics               NaN   2.0   \n",
       "2  ...   male  1902.0   physics               NaN   2.0   \n",
       "3  ...   male  1903.0   physics               NaN   2.0   \n",
       "4  ...   male  1903.0   physics               NaN   4.0   \n",
       "\n",
       "                                          motivation  \\\n",
       "0  \"in recognition of the extraordinary services ...   \n",
       "1  \"in recognition of the extraordinary service t...   \n",
       "2  \"in recognition of the extraordinary service t...   \n",
       "3  \"in recognition of the extraordinary services ...   \n",
       "4  \"in recognition of the extraordinary services ...   \n",
       "\n",
       "                                                name       city  \\\n",
       "0                                  Munich University     Munich   \n",
       "1                                  Leiden University     Leiden   \n",
       "2                               Amsterdam University  Amsterdam   \n",
       "3                                École Polytechnique      Paris   \n",
       "4  École municipale de physique et de chimie indu...      Paris   \n",
       "\n",
       "           country age  \n",
       "0          Germany  56  \n",
       "1  the Netherlands  49  \n",
       "2  the Netherlands  37  \n",
       "3           France  51  \n",
       "4           France  44  \n",
       "\n",
       "[5 rows x 21 columns]"
      ]
     },
     "execution_count": 7,
     "metadata": {},
     "output_type": "execute_result"
    }
   ],
   "source": [
    "nobel_data_raw['age'] = nobel_data_raw['year'] - nobel_data_raw['born'].dt.year\n",
    "nobel_data_raw['age'] = nobel_data_raw['age'].apply(np.floor)\n",
    "nobel_data_raw['age'] = nobel_data_raw['age'].fillna(0)\n",
    "nobel_data_raw['age'] = nobel_data_raw['age'].astype(int)\n",
    "nobel_data_raw.head()"
   ]
  },
  {
   "cell_type": "markdown",
   "metadata": {},
   "source": [
    "**Step 7:** Created a new dataframe, nobel_data_valid, without any \"age\" values that are 0 so that we can create models using the \"age\" column without laureates who are missing their ages."
   ]
  },
  {
   "cell_type": "code",
   "execution_count": 8,
   "metadata": {},
   "outputs": [
    {
     "data": {
      "text/html": [
       "<div>\n",
       "<style scoped>\n",
       "    .dataframe tbody tr th:only-of-type {\n",
       "        vertical-align: middle;\n",
       "    }\n",
       "\n",
       "    .dataframe tbody tr th {\n",
       "        vertical-align: top;\n",
       "    }\n",
       "\n",
       "    .dataframe thead th {\n",
       "        text-align: right;\n",
       "    }\n",
       "</style>\n",
       "<table border=\"1\" class=\"dataframe\">\n",
       "  <thead>\n",
       "    <tr style=\"text-align: right;\">\n",
       "      <th></th>\n",
       "      <th>id</th>\n",
       "      <th>firstname</th>\n",
       "      <th>surname</th>\n",
       "      <th>born</th>\n",
       "      <th>died</th>\n",
       "      <th>bornCountry</th>\n",
       "      <th>bornCountryCode</th>\n",
       "      <th>bornCity</th>\n",
       "      <th>diedCountry</th>\n",
       "      <th>diedCountryCode</th>\n",
       "      <th>...</th>\n",
       "      <th>gender</th>\n",
       "      <th>year</th>\n",
       "      <th>category</th>\n",
       "      <th>overallMotivation</th>\n",
       "      <th>share</th>\n",
       "      <th>motivation</th>\n",
       "      <th>name</th>\n",
       "      <th>city</th>\n",
       "      <th>country</th>\n",
       "      <th>age</th>\n",
       "    </tr>\n",
       "  </thead>\n",
       "  <tbody>\n",
       "    <tr>\n",
       "      <th>0</th>\n",
       "      <td>1</td>\n",
       "      <td>Wilhelm Conrad</td>\n",
       "      <td>Röntgen</td>\n",
       "      <td>1845-03-27</td>\n",
       "      <td>1923-02-10</td>\n",
       "      <td>Prussia (now Germany)</td>\n",
       "      <td>DE</td>\n",
       "      <td>Lennep (now Remscheid)</td>\n",
       "      <td>Germany</td>\n",
       "      <td>DE</td>\n",
       "      <td>...</td>\n",
       "      <td>male</td>\n",
       "      <td>1901.0</td>\n",
       "      <td>physics</td>\n",
       "      <td>NaN</td>\n",
       "      <td>1.0</td>\n",
       "      <td>\"in recognition of the extraordinary services ...</td>\n",
       "      <td>Munich University</td>\n",
       "      <td>Munich</td>\n",
       "      <td>Germany</td>\n",
       "      <td>56</td>\n",
       "    </tr>\n",
       "    <tr>\n",
       "      <th>1</th>\n",
       "      <td>2</td>\n",
       "      <td>Hendrik Antoon</td>\n",
       "      <td>Lorentz</td>\n",
       "      <td>1853-07-18</td>\n",
       "      <td>1928-02-04</td>\n",
       "      <td>the Netherlands</td>\n",
       "      <td>NL</td>\n",
       "      <td>Arnhem</td>\n",
       "      <td>the Netherlands</td>\n",
       "      <td>NL</td>\n",
       "      <td>...</td>\n",
       "      <td>male</td>\n",
       "      <td>1902.0</td>\n",
       "      <td>physics</td>\n",
       "      <td>NaN</td>\n",
       "      <td>2.0</td>\n",
       "      <td>\"in recognition of the extraordinary service t...</td>\n",
       "      <td>Leiden University</td>\n",
       "      <td>Leiden</td>\n",
       "      <td>the Netherlands</td>\n",
       "      <td>49</td>\n",
       "    </tr>\n",
       "    <tr>\n",
       "      <th>2</th>\n",
       "      <td>3</td>\n",
       "      <td>Pieter</td>\n",
       "      <td>Zeeman</td>\n",
       "      <td>1865-05-25</td>\n",
       "      <td>1943-10-09</td>\n",
       "      <td>the Netherlands</td>\n",
       "      <td>NL</td>\n",
       "      <td>Zonnemaire</td>\n",
       "      <td>the Netherlands</td>\n",
       "      <td>NL</td>\n",
       "      <td>...</td>\n",
       "      <td>male</td>\n",
       "      <td>1902.0</td>\n",
       "      <td>physics</td>\n",
       "      <td>NaN</td>\n",
       "      <td>2.0</td>\n",
       "      <td>\"in recognition of the extraordinary service t...</td>\n",
       "      <td>Amsterdam University</td>\n",
       "      <td>Amsterdam</td>\n",
       "      <td>the Netherlands</td>\n",
       "      <td>37</td>\n",
       "    </tr>\n",
       "    <tr>\n",
       "      <th>3</th>\n",
       "      <td>4</td>\n",
       "      <td>Antoine Henri</td>\n",
       "      <td>Becquerel</td>\n",
       "      <td>1852-12-15</td>\n",
       "      <td>1908-08-25</td>\n",
       "      <td>France</td>\n",
       "      <td>FR</td>\n",
       "      <td>Paris</td>\n",
       "      <td>France</td>\n",
       "      <td>FR</td>\n",
       "      <td>...</td>\n",
       "      <td>male</td>\n",
       "      <td>1903.0</td>\n",
       "      <td>physics</td>\n",
       "      <td>NaN</td>\n",
       "      <td>2.0</td>\n",
       "      <td>\"in recognition of the extraordinary services ...</td>\n",
       "      <td>École Polytechnique</td>\n",
       "      <td>Paris</td>\n",
       "      <td>France</td>\n",
       "      <td>51</td>\n",
       "    </tr>\n",
       "    <tr>\n",
       "      <th>4</th>\n",
       "      <td>5</td>\n",
       "      <td>Pierre</td>\n",
       "      <td>Curie</td>\n",
       "      <td>1859-05-15</td>\n",
       "      <td>1906-04-19</td>\n",
       "      <td>France</td>\n",
       "      <td>FR</td>\n",
       "      <td>Paris</td>\n",
       "      <td>France</td>\n",
       "      <td>FR</td>\n",
       "      <td>...</td>\n",
       "      <td>male</td>\n",
       "      <td>1903.0</td>\n",
       "      <td>physics</td>\n",
       "      <td>NaN</td>\n",
       "      <td>4.0</td>\n",
       "      <td>\"in recognition of the extraordinary services ...</td>\n",
       "      <td>École municipale de physique et de chimie indu...</td>\n",
       "      <td>Paris</td>\n",
       "      <td>France</td>\n",
       "      <td>44</td>\n",
       "    </tr>\n",
       "  </tbody>\n",
       "</table>\n",
       "<p>5 rows × 21 columns</p>\n",
       "</div>"
      ],
      "text/plain": [
       "   id       firstname    surname       born       died            bornCountry  \\\n",
       "0   1  Wilhelm Conrad    Röntgen 1845-03-27 1923-02-10  Prussia (now Germany)   \n",
       "1   2  Hendrik Antoon    Lorentz 1853-07-18 1928-02-04        the Netherlands   \n",
       "2   3          Pieter     Zeeman 1865-05-25 1943-10-09        the Netherlands   \n",
       "3   4   Antoine Henri  Becquerel 1852-12-15 1908-08-25                 France   \n",
       "4   5          Pierre      Curie 1859-05-15 1906-04-19                 France   \n",
       "\n",
       "  bornCountryCode                bornCity      diedCountry diedCountryCode  \\\n",
       "0              DE  Lennep (now Remscheid)          Germany              DE   \n",
       "1              NL                  Arnhem  the Netherlands              NL   \n",
       "2              NL              Zonnemaire  the Netherlands              NL   \n",
       "3              FR                   Paris           France              FR   \n",
       "4              FR                   Paris           France              FR   \n",
       "\n",
       "   ... gender    year  category overallMotivation share  \\\n",
       "0  ...   male  1901.0   physics               NaN   1.0   \n",
       "1  ...   male  1902.0   physics               NaN   2.0   \n",
       "2  ...   male  1902.0   physics               NaN   2.0   \n",
       "3  ...   male  1903.0   physics               NaN   2.0   \n",
       "4  ...   male  1903.0   physics               NaN   4.0   \n",
       "\n",
       "                                          motivation  \\\n",
       "0  \"in recognition of the extraordinary services ...   \n",
       "1  \"in recognition of the extraordinary service t...   \n",
       "2  \"in recognition of the extraordinary service t...   \n",
       "3  \"in recognition of the extraordinary services ...   \n",
       "4  \"in recognition of the extraordinary services ...   \n",
       "\n",
       "                                                name       city  \\\n",
       "0                                  Munich University     Munich   \n",
       "1                                  Leiden University     Leiden   \n",
       "2                               Amsterdam University  Amsterdam   \n",
       "3                                École Polytechnique      Paris   \n",
       "4  École municipale de physique et de chimie indu...      Paris   \n",
       "\n",
       "           country age  \n",
       "0          Germany  56  \n",
       "1  the Netherlands  49  \n",
       "2  the Netherlands  37  \n",
       "3           France  51  \n",
       "4           France  44  \n",
       "\n",
       "[5 rows x 21 columns]"
      ]
     },
     "execution_count": 8,
     "metadata": {},
     "output_type": "execute_result"
    }
   ],
   "source": [
    "nobel_data_valid = nobel_data_raw.loc[nobel_data_raw['age']!=0]\n",
    "nobel_data_valid.head()"
   ]
  },
  {
   "cell_type": "code",
   "execution_count": 9,
   "metadata": {},
   "outputs": [
    {
     "data": {
      "text/plain": [
       "id                            int64\n",
       "firstname                    object\n",
       "surname                      object\n",
       "born                 datetime64[ns]\n",
       "died                 datetime64[ns]\n",
       "bornCountry                  object\n",
       "bornCountryCode              object\n",
       "bornCity                     object\n",
       "diedCountry                  object\n",
       "diedCountryCode              object\n",
       "diedCity                     object\n",
       "gender                       object\n",
       "year                        float64\n",
       "category                     object\n",
       "overallMotivation            object\n",
       "share                       float64\n",
       "motivation                   object\n",
       "name                         object\n",
       "city                         object\n",
       "country                      object\n",
       "age                           int64\n",
       "dtype: object"
      ]
     },
     "execution_count": 9,
     "metadata": {},
     "output_type": "execute_result"
    }
   ],
   "source": [
    "nobel_data_raw.dtypes"
   ]
  },
  {
   "cell_type": "markdown",
   "metadata": {},
   "source": [
    "### Question 3: Are Nobel Prize laureates getting older?"
   ]
  },
  {
   "cell_type": "code",
   "execution_count": 10,
   "metadata": {},
   "outputs": [
    {
     "data": {
      "text/html": [
       "<div>\n",
       "<style scoped>\n",
       "    .dataframe tbody tr th:only-of-type {\n",
       "        vertical-align: middle;\n",
       "    }\n",
       "\n",
       "    .dataframe tbody tr th {\n",
       "        vertical-align: top;\n",
       "    }\n",
       "\n",
       "    .dataframe thead th {\n",
       "        text-align: right;\n",
       "    }\n",
       "</style>\n",
       "<table border=\"1\" class=\"dataframe\">\n",
       "  <thead>\n",
       "    <tr style=\"text-align: right;\">\n",
       "      <th></th>\n",
       "      <th>year</th>\n",
       "      <th>age</th>\n",
       "    </tr>\n",
       "  </thead>\n",
       "  <tbody>\n",
       "    <tr>\n",
       "      <th>0</th>\n",
       "      <td>1901.0</td>\n",
       "      <td>61.000000</td>\n",
       "    </tr>\n",
       "    <tr>\n",
       "      <th>1</th>\n",
       "      <td>1902.0</td>\n",
       "      <td>56.285714</td>\n",
       "    </tr>\n",
       "    <tr>\n",
       "      <th>2</th>\n",
       "      <td>1903.0</td>\n",
       "      <td>52.000000</td>\n",
       "    </tr>\n",
       "    <tr>\n",
       "      <th>3</th>\n",
       "      <td>1904.0</td>\n",
       "      <td>63.000000</td>\n",
       "    </tr>\n",
       "    <tr>\n",
       "      <th>4</th>\n",
       "      <td>1905.0</td>\n",
       "      <td>59.200000</td>\n",
       "    </tr>\n",
       "    <tr>\n",
       "      <th>...</th>\n",
       "      <td>...</td>\n",
       "      <td>...</td>\n",
       "    </tr>\n",
       "    <tr>\n",
       "      <th>108</th>\n",
       "      <td>2012.0</td>\n",
       "      <td>65.285714</td>\n",
       "    </tr>\n",
       "    <tr>\n",
       "      <th>109</th>\n",
       "      <td>2013.0</td>\n",
       "      <td>70.866667</td>\n",
       "    </tr>\n",
       "    <tr>\n",
       "      <th>110</th>\n",
       "      <td>2014.0</td>\n",
       "      <td>59.200000</td>\n",
       "    </tr>\n",
       "    <tr>\n",
       "      <th>111</th>\n",
       "      <td>2015.0</td>\n",
       "      <td>73.000000</td>\n",
       "    </tr>\n",
       "    <tr>\n",
       "      <th>112</th>\n",
       "      <td>2016.0</td>\n",
       "      <td>71.333333</td>\n",
       "    </tr>\n",
       "  </tbody>\n",
       "</table>\n",
       "<p>113 rows × 2 columns</p>\n",
       "</div>"
      ],
      "text/plain": [
       "       year        age\n",
       "0    1901.0  61.000000\n",
       "1    1902.0  56.285714\n",
       "2    1903.0  52.000000\n",
       "3    1904.0  63.000000\n",
       "4    1905.0  59.200000\n",
       "..      ...        ...\n",
       "108  2012.0  65.285714\n",
       "109  2013.0  70.866667\n",
       "110  2014.0  59.200000\n",
       "111  2015.0  73.000000\n",
       "112  2016.0  71.333333\n",
       "\n",
       "[113 rows x 2 columns]"
      ]
     },
     "execution_count": 10,
     "metadata": {},
     "output_type": "execute_result"
    }
   ],
   "source": [
    "nobel_data_valid.groupby('year', as_index = False)[\"age\"].mean()"
   ]
  },
  {
   "cell_type": "code",
   "execution_count": 11,
   "metadata": {},
   "outputs": [
    {
     "data": {
      "text/plain": [
       "<seaborn.axisgrid.FacetGrid at 0x7fe857504640>"
      ]
     },
     "execution_count": 11,
     "metadata": {},
     "output_type": "execute_result"
    },
    {
     "data": {
      "image/png": "[encoded data removed]",
      "text/plain": [
       "<Figure size 500x500 with 1 Axes>"
      ]
     },
     "metadata": {},
     "output_type": "display_data"
    }
   ],
   "source": [
    "seaborn.lmplot(data = nobel_data_valid, x = 'year', y = 'age')"
   ]
  },
  {
   "cell_type": "code",
   "execution_count": 12,
   "metadata": {},
   "outputs": [
    {
     "data": {
      "text/plain": [
       "<seaborn.axisgrid.FacetGrid at 0x7fe851ba0f70>"
      ]
     },
     "execution_count": 12,
     "metadata": {},
     "output_type": "execute_result"
    }
   ],
   "source": [
    "seaborn.lmplot(data = nobel_data_valid, x = 'year', y = 'age', row = 'category', hue = 'category')"
   ]
  },
  {
   "cell_type": "markdown",
   "metadata": {},
   "source": [
    "### Question 4: Which universities dominate the Nobel Prize?"
   ]
  },
  {
   "cell_type": "code",
   "execution_count": 13,
   "metadata": {},
   "outputs": [
    {
     "data": {
      "text/plain": [
       "name                                          country       \n",
       "University of California                      USA               34\n",
       "Harvard University                            USA               27\n",
       "Massachusetts Institute of Technology (MIT)   USA               18\n",
       "Stanford University                           USA               18\n",
       "California Institute of Technology (Caltech)  USA               17\n",
       "University of Cambridge                       United Kingdom    17\n",
       "University of Chicago                         USA               17\n",
       "Columbia University                           USA               16\n",
       "Princeton University                          USA               14\n",
       "Rockefeller University                        USA               11\n",
       "Name: share, dtype: int64"
      ]
     },
     "execution_count": 13,
     "metadata": {},
     "output_type": "execute_result"
    }
   ],
   "source": [
    "university_data = nobel_data_raw.groupby(['name', 'country'])['share'].count().sort_values(ascending = False).head(10)\n",
    "university_data"
   ]
  },
  {
   "cell_type": "code",
   "execution_count": 14,
   "metadata": {},
   "outputs": [],
   "source": [
    "university_data_plot = university_data.plot.barh(y = 'name')"
   ]
  },
  {
   "cell_type": "markdown",
   "metadata": {},
   "source": [
    "After finding which 10 universities dominate the Nobel Prize, we discovered that all the top 10 universities except one are located in the United States. There is a tie for a third place among MIT and Stanford University. There is also another tie for 4th place among Caltech, University of Cambridge, and University of Chicago. As shown by the horizontal bar graph, after University of California and Harvard University, the margin among universities becomes smaller. "
   ]
  },
  {
   "cell_type": "markdown",
   "metadata": {},
   "source": [
    "### Question 6: What proportion of laureates won the Nobel Prize more than once?"
   ]
  },
  {
   "cell_type": "code",
   "execution_count": 19,
   "metadata": {},
   "outputs": [
    {
     "ename": "SyntaxError",
     "evalue": "invalid syntax (3004420244.py, line 2)",
     "output_type": "error",
     "traceback": [
      "\u001b[0;36m  Input \u001b[0;32mIn [19]\u001b[0;36m\u001b[0m\n\u001b[0;31m    SELECT *\u001b[0m\n\u001b[0m            ^\u001b[0m\n\u001b[0;31mSyntaxError\u001b[0m\u001b[0;31m:\u001b[0m invalid syntax\n"
     ]
    }
   ],
   "source": [
    "%sql\n",
    "SELECT *\n",
    "FROM nobel_data_raw\n",
    "WHERE firstname,surname IN\n",
    "    (     SELECT firstanme,surname\n",
    "          FROM nobel_data_raw\n",
    "          GROUP BY firstname,surname\n",
    "          HAVING COUNT(*) > 1\n",
    "    )\n",
    "ORDER BY firstanme,surname"
   ]
  },
  {
   "cell_type": "markdown",
   "metadata": {},
   "source": [
    "We are interested in learning the proportion of laureates who won the Nobel Prize more than once. "
   ]
  },
  {
   "cell_type": "markdown",
   "metadata": {},
   "source": [
    "### Question 7: What proportion of laureates are family members?"
   ]
  },
  {
   "cell_type": "code",
   "execution_count": null,
   "metadata": {},
   "outputs": [],
   "source": []
  },
  {
   "cell_type": "markdown",
   "metadata": {},
   "source": [
    "Adding on to previous question, we would also like to see how many laureates are family members. "
   ]
  },
  {
   "cell_type": "markdown",
   "metadata": {},
   "source": [
    "## Data Description \n",
    "### What are the observations (rows) and the attributes (columns)?\n",
    "\n",
    "The observations in our data frame are 937 Nobel Prize laureates, representing all winners from the first prizes awarded through the year 2016. In other words, each row represents a single laureate.\n",
    "\n",
    "The attributes are:\n",
    "\n",
    "- id - identifies each laureate \n",
    "- firstname - laureate's first name \n",
    "- surname - laureate's surname \n",
    "- born - laureate's birth date \n",
    "- died - laureate's death date \n",
    "- bornCountry - laureate's birth place \n",
    "- bornCountryCode - the country code of the laureate's country of origin\n",
    "- bornCity - the name of the city where the laureate was born\n",
    "- diedCountry - the name of the country where the laureate died\n",
    "- diedCountryCode - the country code of the laureate's country of death\n",
    "- diedCity - the name of the city where the laureate died\n",
    "- gender - laureate's gender or laureate's organization ('male,' 'female,' or 'org' - organization)\n",
    "- year - the year that the laureate won their prize\n",
    "- category - the category in which the laureate won their prize ('physics,' 'chemistry,' 'peace,' 'medicine,' 'literature,' 'economics')\n",
    "- overallMotivation - overall motivation for being awarded the prize\n",
    "- share - number of other laureates who share the prize \n",
    "- motivation - the motivation behind being awarded the prize\n",
    "\n",
    "### Why was this dataset created?\n",
    "\n",
    "The dataset was assembled by Maryna Kuzmenko in 2016, and intended to be a starting point for social sciences research into the characteristics of Nobel prize awards and laureates (both quantitative and categorical). It is available through the Harvard Dataverse Repository. \n",
    "\n",
    "### Who funded the creation of the dataset?\n",
    "\n",
    "\n",
    "Are there any errors, sources of noise, or redundancies in the dataset?\n",
    "\n",
    "\n",
    "#### Is it possible to identify individuals (i.e., one or more natural persons), either directly or indirectly (i.e., in combination with other data) from the dataset? If so, please describe how.\n",
    "\n",
    "By the nature of our dataset, each instance is identifiable as a specific person, by name, location, age, and more. This was determined not to be a privacy concern, because of the public nature of the Nobel Prize and its laureates.  \n",
    "\n",
    "### What processes might have influenced what data was observed and recorded and what was not?\n",
    "\n",
    "Fortunately for us, the Nobel Prize is a prestigious and public-facing award for excellence in a field; as such, information about each year's awards, and the laureates who received them, is generally well-documented. We are reassured by the completeness of our dataset: though not every row is perfectly complete, as a whole data on each laureate is present and accurate (by our appraisal). \n",
    "\n",
    "### What preprocessing was done, and how did the data come to be in the form that you are using?\n",
    "\n",
    "The data on each laureate was collected into a single .csv file, with each instance representing a single Nobel Prize winner, and columns with characteristics about each of those instances. The entire population of laureates (through 2016) is represented, and no transformations or further processing was done to the data once collected. \n",
    "\n",
    "### If people are involved, were they aware of the data collection and if so, what purpose did they expect the data to be used for?\n",
    "\n",
    "Though there is no record that the Nobel laureates that were living at the time this dataset was assembled were notified, the data collected about them (as at least semi-public figures) is publicly available. \n",
    "\n",
    "### Where can your raw source data be found, if applicable? Provide a link to the raw data (hosted in a Cornell Google Drive or Cornell Box)\n",
    "\n"
   ]
  },
  {
   "cell_type": "markdown",
   "metadata": {},
   "source": [
    "## Data Limitations\n",
    "\n",
    "One primary limitation of our data is that it was collected in 2016: there have been 6 years' worth of laureates since then, and thus 6 years of data we cannot work with. It is also of some concern that the most recent years are missing: if there are any trends over time in our data, this might limit our ability to accurately model those trends or make predictions. "
   ]
  },
  {
   "cell_type": "markdown",
   "metadata": {},
   "source": [
    "## Exploratory Data Analysis"
   ]
  }
 ],
 "metadata": {
  "kernelspec": {
   "display_name": "Python 3.9.12 ('info2950')",
   "language": "python",
   "name": "python3"
  },
  "language_info": {
   "codemirror_mode": {
    "name": "ipython",
    "version": 3
   },
   "file_extension": ".py",
   "mimetype": "text/x-python",
   "name": "python",
   "nbconvert_exporter": "python",
   "pygments_lexer": "ipython3",
   "version": "3.9.12"
  },
  "orig_nbformat": 4,
  "vscode": {
   "interpreter": {
    "hash": "204c63c1b6806855fef21e58e73cf709c3fbc33098e484dfa2bbf50512e9ce9c"
   }
  }
 },
 "nbformat": 4,
 "nbformat_minor": 2
}
