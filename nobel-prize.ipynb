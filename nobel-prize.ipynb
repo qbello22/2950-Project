{
 "cells": [
  {
   "cell_type": "markdown",
   "metadata": {},
   "source": [
    "# INFO 2950 Group Project: What Makes a Nobel Prize Laureate?\n",
    "\n",
    "## Research Questions:\n",
    "What characteristics are likely among Nobel laureates, and what biases do those characteristics reveal within the Nobel committee? \n",
    "\n",
    "Some areas we are particularly interested in exploring include: \n",
    "1. What countries produce the most Nobel Prize laureates?\n",
    "2. At what age is your likelihood of winning the highest?\n",
    "3. Are Nobel Prize laureates getting older?\n",
    "4. Which universities dominate the Nobel Prize?\n",
    "5. Does Nobel Prize favor one gender over another?\n",
    "6. What proportion of laureates won the Nobel Prize more than once?"
   ]
  },
  {
   "cell_type": "markdown",
   "metadata": {},
   "source": [
    "## Data & Data Cleaning"
   ]
  },
  {
   "cell_type": "markdown",
   "metadata": {},
   "source": [
    "We were able to locate a dataset available through the Harvard Dataverse Repository, containing data on the characteristics of individual Nobel Prize laureates. We downloaded that initial .csv file, and then pursued the following process to clean up that data and turn it into a dataframe suitable for our research: "
   ]
  },
  {
   "cell_type": "markdown",
   "metadata": {},
   "source": [
    "**Step 1:** Imported libraries for our data analysis."
   ]
  },
  {
   "cell_type": "code",
   "execution_count": 75,
   "metadata": {},
   "outputs": [],
   "source": [
    "import pandas as pd \n",
    "import numpy as np\n",
    "import seaborn \n",
    "from matplotlib import pyplot\n",
    "from datetime import datetime, date\n",
    "from sklearn.linear_model import LinearRegression"
   ]
  },
  {
   "cell_type": "markdown",
   "metadata": {},
   "source": [
    "**Step 2:** Loaded the CSV file, laureate.csv, into a pandas data frame called nobel_data_raw and printed nobel_data_raw to check laureate.csv was loaded correctly into the data frame."
   ]
  },
  {
   "cell_type": "code",
   "execution_count": 76,
   "metadata": {},
   "outputs": [
    {
     "data": {
      "text/html": [
       "<div>\n",
       "<style scoped>\n",
       "    .dataframe tbody tr th:only-of-type {\n",
       "        vertical-align: middle;\n",
       "    }\n",
       "\n",
       "    .dataframe tbody tr th {\n",
       "        vertical-align: top;\n",
       "    }\n",
       "\n",
       "    .dataframe thead th {\n",
       "        text-align: right;\n",
       "    }\n",
       "</style>\n",
       "<table border=\"1\" class=\"dataframe\">\n",
       "  <thead>\n",
       "    <tr style=\"text-align: right;\">\n",
       "      <th></th>\n",
       "      <th>id</th>\n",
       "      <th>firstname</th>\n",
       "      <th>surname</th>\n",
       "      <th>born</th>\n",
       "      <th>died</th>\n",
       "      <th>bornCountry</th>\n",
       "      <th>bornCountryCode</th>\n",
       "      <th>bornCity</th>\n",
       "      <th>diedCountry</th>\n",
       "      <th>diedCountryCode</th>\n",
       "      <th>diedCity</th>\n",
       "      <th>gender</th>\n",
       "      <th>year</th>\n",
       "      <th>category</th>\n",
       "      <th>overallMotivation</th>\n",
       "      <th>share</th>\n",
       "      <th>motivation</th>\n",
       "      <th>name</th>\n",
       "      <th>city</th>\n",
       "      <th>country</th>\n",
       "    </tr>\n",
       "  </thead>\n",
       "  <tbody>\n",
       "    <tr>\n",
       "      <th>0</th>\n",
       "      <td>1</td>\n",
       "      <td>Wilhelm Conrad</td>\n",
       "      <td>Röntgen</td>\n",
       "      <td>1845-03-27</td>\n",
       "      <td>1923-02-10</td>\n",
       "      <td>Prussia (now Germany)</td>\n",
       "      <td>DE</td>\n",
       "      <td>Lennep (now Remscheid)</td>\n",
       "      <td>Germany</td>\n",
       "      <td>DE</td>\n",
       "      <td>Munich</td>\n",
       "      <td>male</td>\n",
       "      <td>1901.0</td>\n",
       "      <td>physics</td>\n",
       "      <td>NaN</td>\n",
       "      <td>1.0</td>\n",
       "      <td>\"in recognition of the extraordinary services ...</td>\n",
       "      <td>Munich University</td>\n",
       "      <td>Munich</td>\n",
       "      <td>Germany</td>\n",
       "    </tr>\n",
       "    <tr>\n",
       "      <th>1</th>\n",
       "      <td>2</td>\n",
       "      <td>Hendrik Antoon</td>\n",
       "      <td>Lorentz</td>\n",
       "      <td>1853-07-18</td>\n",
       "      <td>1928-02-04</td>\n",
       "      <td>the Netherlands</td>\n",
       "      <td>NL</td>\n",
       "      <td>Arnhem</td>\n",
       "      <td>the Netherlands</td>\n",
       "      <td>NL</td>\n",
       "      <td>NaN</td>\n",
       "      <td>male</td>\n",
       "      <td>1902.0</td>\n",
       "      <td>physics</td>\n",
       "      <td>NaN</td>\n",
       "      <td>2.0</td>\n",
       "      <td>\"in recognition of the extraordinary service t...</td>\n",
       "      <td>Leiden University</td>\n",
       "      <td>Leiden</td>\n",
       "      <td>the Netherlands</td>\n",
       "    </tr>\n",
       "    <tr>\n",
       "      <th>2</th>\n",
       "      <td>3</td>\n",
       "      <td>Pieter</td>\n",
       "      <td>Zeeman</td>\n",
       "      <td>1865-05-25</td>\n",
       "      <td>1943-10-09</td>\n",
       "      <td>the Netherlands</td>\n",
       "      <td>NL</td>\n",
       "      <td>Zonnemaire</td>\n",
       "      <td>the Netherlands</td>\n",
       "      <td>NL</td>\n",
       "      <td>Amsterdam</td>\n",
       "      <td>male</td>\n",
       "      <td>1902.0</td>\n",
       "      <td>physics</td>\n",
       "      <td>NaN</td>\n",
       "      <td>2.0</td>\n",
       "      <td>\"in recognition of the extraordinary service t...</td>\n",
       "      <td>Amsterdam University</td>\n",
       "      <td>Amsterdam</td>\n",
       "      <td>the Netherlands</td>\n",
       "    </tr>\n",
       "    <tr>\n",
       "      <th>3</th>\n",
       "      <td>4</td>\n",
       "      <td>Antoine Henri</td>\n",
       "      <td>Becquerel</td>\n",
       "      <td>1852-12-15</td>\n",
       "      <td>1908-08-25</td>\n",
       "      <td>France</td>\n",
       "      <td>FR</td>\n",
       "      <td>Paris</td>\n",
       "      <td>France</td>\n",
       "      <td>FR</td>\n",
       "      <td>NaN</td>\n",
       "      <td>male</td>\n",
       "      <td>1903.0</td>\n",
       "      <td>physics</td>\n",
       "      <td>NaN</td>\n",
       "      <td>2.0</td>\n",
       "      <td>\"in recognition of the extraordinary services ...</td>\n",
       "      <td>École Polytechnique</td>\n",
       "      <td>Paris</td>\n",
       "      <td>France</td>\n",
       "    </tr>\n",
       "    <tr>\n",
       "      <th>4</th>\n",
       "      <td>5</td>\n",
       "      <td>Pierre</td>\n",
       "      <td>Curie</td>\n",
       "      <td>1859-05-15</td>\n",
       "      <td>1906-04-19</td>\n",
       "      <td>France</td>\n",
       "      <td>FR</td>\n",
       "      <td>Paris</td>\n",
       "      <td>France</td>\n",
       "      <td>FR</td>\n",
       "      <td>Paris</td>\n",
       "      <td>male</td>\n",
       "      <td>1903.0</td>\n",
       "      <td>physics</td>\n",
       "      <td>NaN</td>\n",
       "      <td>4.0</td>\n",
       "      <td>\"in recognition of the extraordinary services ...</td>\n",
       "      <td>École municipale de physique et de chimie indu...</td>\n",
       "      <td>Paris</td>\n",
       "      <td>France</td>\n",
       "    </tr>\n",
       "  </tbody>\n",
       "</table>\n",
       "</div>"
      ],
      "text/plain": [
       "   id       firstname    surname        born        died  \\\n",
       "0   1  Wilhelm Conrad    Röntgen  1845-03-27  1923-02-10   \n",
       "1   2  Hendrik Antoon    Lorentz  1853-07-18  1928-02-04   \n",
       "2   3          Pieter     Zeeman  1865-05-25  1943-10-09   \n",
       "3   4   Antoine Henri  Becquerel  1852-12-15  1908-08-25   \n",
       "4   5          Pierre      Curie  1859-05-15  1906-04-19   \n",
       "\n",
       "             bornCountry bornCountryCode                bornCity  \\\n",
       "0  Prussia (now Germany)              DE  Lennep (now Remscheid)   \n",
       "1        the Netherlands              NL                  Arnhem   \n",
       "2        the Netherlands              NL              Zonnemaire   \n",
       "3                 France              FR                   Paris   \n",
       "4                 France              FR                   Paris   \n",
       "\n",
       "       diedCountry diedCountryCode   diedCity gender    year category  \\\n",
       "0          Germany              DE     Munich   male  1901.0  physics   \n",
       "1  the Netherlands              NL        NaN   male  1902.0  physics   \n",
       "2  the Netherlands              NL  Amsterdam   male  1902.0  physics   \n",
       "3           France              FR        NaN   male  1903.0  physics   \n",
       "4           France              FR      Paris   male  1903.0  physics   \n",
       "\n",
       "  overallMotivation  share                                         motivation  \\\n",
       "0               NaN    1.0  \"in recognition of the extraordinary services ...   \n",
       "1               NaN    2.0  \"in recognition of the extraordinary service t...   \n",
       "2               NaN    2.0  \"in recognition of the extraordinary service t...   \n",
       "3               NaN    2.0  \"in recognition of the extraordinary services ...   \n",
       "4               NaN    4.0  \"in recognition of the extraordinary services ...   \n",
       "\n",
       "                                                name       city  \\\n",
       "0                                  Munich University     Munich   \n",
       "1                                  Leiden University     Leiden   \n",
       "2                               Amsterdam University  Amsterdam   \n",
       "3                                École Polytechnique      Paris   \n",
       "4  École municipale de physique et de chimie indu...      Paris   \n",
       "\n",
       "           country  \n",
       "0          Germany  \n",
       "1  the Netherlands  \n",
       "2  the Netherlands  \n",
       "3           France  \n",
       "4           France  "
      ]
     },
     "execution_count": 76,
     "metadata": {},
     "output_type": "execute_result"
    }
   ],
   "source": [
    "nobel_data_raw = pd.read_csv(\"laureate.csv\")\n",
    "nobel_data_raw.head()"
   ]
  },
  {
   "cell_type": "markdown",
   "metadata": {},
   "source": [
    "**Step 3:** Printed out the number of rows and columns in nobel_data_raw to make sure that it matches the number of rows and columns of laureate.csv from the original source."
   ]
  },
  {
   "cell_type": "code",
   "execution_count": 77,
   "metadata": {},
   "outputs": [
    {
     "data": {
      "text/plain": [
       "(975, 20)"
      ]
     },
     "execution_count": 77,
     "metadata": {},
     "output_type": "execute_result"
    }
   ],
   "source": [
    "nobel_data_raw.shape"
   ]
  },
  {
   "cell_type": "markdown",
   "metadata": {},
   "source": [
    "**Step 4:** Printed out the type of each column so that we know if we need to convert to another type in our upcoming data analysis."
   ]
  },
  {
   "cell_type": "code",
   "execution_count": 78,
   "metadata": {},
   "outputs": [
    {
     "data": {
      "text/plain": [
       "id                     int64\n",
       "firstname             object\n",
       "surname               object\n",
       "born                  object\n",
       "died                  object\n",
       "bornCountry           object\n",
       "bornCountryCode       object\n",
       "bornCity              object\n",
       "diedCountry           object\n",
       "diedCountryCode       object\n",
       "diedCity              object\n",
       "gender                object\n",
       "year                 float64\n",
       "category              object\n",
       "overallMotivation     object\n",
       "share                float64\n",
       "motivation            object\n",
       "name                  object\n",
       "city                  object\n",
       "country               object\n",
       "dtype: object"
      ]
     },
     "execution_count": 78,
     "metadata": {},
     "output_type": "execute_result"
    }
   ],
   "source": [
    "nobel_data_raw.dtypes"
   ]
  },
  {
   "cell_type": "markdown",
   "metadata": {},
   "source": [
    "**Step 5:** We converted values in 'born' and 'died' columns to datetime. If the values were not formatted to be able to convert to datetime, such as \"0000-00-00,\" we renamed those values as \"NaT\". We also printed out the head of the data frame to check if the columns were displaying values in datetime and in NaT properly."
   ]
  },
  {
   "cell_type": "code",
   "execution_count": 79,
   "metadata": {},
   "outputs": [
    {
     "data": {
      "text/html": [
       "<div>\n",
       "<style scoped>\n",
       "    .dataframe tbody tr th:only-of-type {\n",
       "        vertical-align: middle;\n",
       "    }\n",
       "\n",
       "    .dataframe tbody tr th {\n",
       "        vertical-align: top;\n",
       "    }\n",
       "\n",
       "    .dataframe thead th {\n",
       "        text-align: right;\n",
       "    }\n",
       "</style>\n",
       "<table border=\"1\" class=\"dataframe\">\n",
       "  <thead>\n",
       "    <tr style=\"text-align: right;\">\n",
       "      <th></th>\n",
       "      <th>id</th>\n",
       "      <th>firstname</th>\n",
       "      <th>surname</th>\n",
       "      <th>born</th>\n",
       "      <th>died</th>\n",
       "      <th>bornCountry</th>\n",
       "      <th>bornCountryCode</th>\n",
       "      <th>bornCity</th>\n",
       "      <th>diedCountry</th>\n",
       "      <th>diedCountryCode</th>\n",
       "      <th>diedCity</th>\n",
       "      <th>gender</th>\n",
       "      <th>year</th>\n",
       "      <th>category</th>\n",
       "      <th>overallMotivation</th>\n",
       "      <th>share</th>\n",
       "      <th>motivation</th>\n",
       "      <th>name</th>\n",
       "      <th>city</th>\n",
       "      <th>country</th>\n",
       "    </tr>\n",
       "  </thead>\n",
       "  <tbody>\n",
       "    <tr>\n",
       "      <th>0</th>\n",
       "      <td>1</td>\n",
       "      <td>Wilhelm Conrad</td>\n",
       "      <td>Röntgen</td>\n",
       "      <td>1845-03-27</td>\n",
       "      <td>1923-02-10</td>\n",
       "      <td>Prussia (now Germany)</td>\n",
       "      <td>DE</td>\n",
       "      <td>Lennep (now Remscheid)</td>\n",
       "      <td>Germany</td>\n",
       "      <td>DE</td>\n",
       "      <td>Munich</td>\n",
       "      <td>male</td>\n",
       "      <td>1901.0</td>\n",
       "      <td>physics</td>\n",
       "      <td>NaN</td>\n",
       "      <td>1.0</td>\n",
       "      <td>\"in recognition of the extraordinary services ...</td>\n",
       "      <td>Munich University</td>\n",
       "      <td>Munich</td>\n",
       "      <td>Germany</td>\n",
       "    </tr>\n",
       "    <tr>\n",
       "      <th>1</th>\n",
       "      <td>2</td>\n",
       "      <td>Hendrik Antoon</td>\n",
       "      <td>Lorentz</td>\n",
       "      <td>1853-07-18</td>\n",
       "      <td>1928-02-04</td>\n",
       "      <td>the Netherlands</td>\n",
       "      <td>NL</td>\n",
       "      <td>Arnhem</td>\n",
       "      <td>the Netherlands</td>\n",
       "      <td>NL</td>\n",
       "      <td>NaN</td>\n",
       "      <td>male</td>\n",
       "      <td>1902.0</td>\n",
       "      <td>physics</td>\n",
       "      <td>NaN</td>\n",
       "      <td>2.0</td>\n",
       "      <td>\"in recognition of the extraordinary service t...</td>\n",
       "      <td>Leiden University</td>\n",
       "      <td>Leiden</td>\n",
       "      <td>the Netherlands</td>\n",
       "    </tr>\n",
       "    <tr>\n",
       "      <th>2</th>\n",
       "      <td>3</td>\n",
       "      <td>Pieter</td>\n",
       "      <td>Zeeman</td>\n",
       "      <td>1865-05-25</td>\n",
       "      <td>1943-10-09</td>\n",
       "      <td>the Netherlands</td>\n",
       "      <td>NL</td>\n",
       "      <td>Zonnemaire</td>\n",
       "      <td>the Netherlands</td>\n",
       "      <td>NL</td>\n",
       "      <td>Amsterdam</td>\n",
       "      <td>male</td>\n",
       "      <td>1902.0</td>\n",
       "      <td>physics</td>\n",
       "      <td>NaN</td>\n",
       "      <td>2.0</td>\n",
       "      <td>\"in recognition of the extraordinary service t...</td>\n",
       "      <td>Amsterdam University</td>\n",
       "      <td>Amsterdam</td>\n",
       "      <td>the Netherlands</td>\n",
       "    </tr>\n",
       "    <tr>\n",
       "      <th>3</th>\n",
       "      <td>4</td>\n",
       "      <td>Antoine Henri</td>\n",
       "      <td>Becquerel</td>\n",
       "      <td>1852-12-15</td>\n",
       "      <td>1908-08-25</td>\n",
       "      <td>France</td>\n",
       "      <td>FR</td>\n",
       "      <td>Paris</td>\n",
       "      <td>France</td>\n",
       "      <td>FR</td>\n",
       "      <td>NaN</td>\n",
       "      <td>male</td>\n",
       "      <td>1903.0</td>\n",
       "      <td>physics</td>\n",
       "      <td>NaN</td>\n",
       "      <td>2.0</td>\n",
       "      <td>\"in recognition of the extraordinary services ...</td>\n",
       "      <td>École Polytechnique</td>\n",
       "      <td>Paris</td>\n",
       "      <td>France</td>\n",
       "    </tr>\n",
       "    <tr>\n",
       "      <th>4</th>\n",
       "      <td>5</td>\n",
       "      <td>Pierre</td>\n",
       "      <td>Curie</td>\n",
       "      <td>1859-05-15</td>\n",
       "      <td>1906-04-19</td>\n",
       "      <td>France</td>\n",
       "      <td>FR</td>\n",
       "      <td>Paris</td>\n",
       "      <td>France</td>\n",
       "      <td>FR</td>\n",
       "      <td>Paris</td>\n",
       "      <td>male</td>\n",
       "      <td>1903.0</td>\n",
       "      <td>physics</td>\n",
       "      <td>NaN</td>\n",
       "      <td>4.0</td>\n",
       "      <td>\"in recognition of the extraordinary services ...</td>\n",
       "      <td>École municipale de physique et de chimie indu...</td>\n",
       "      <td>Paris</td>\n",
       "      <td>France</td>\n",
       "    </tr>\n",
       "  </tbody>\n",
       "</table>\n",
       "</div>"
      ],
      "text/plain": [
       "   id       firstname    surname       born       died            bornCountry  \\\n",
       "0   1  Wilhelm Conrad    Röntgen 1845-03-27 1923-02-10  Prussia (now Germany)   \n",
       "1   2  Hendrik Antoon    Lorentz 1853-07-18 1928-02-04        the Netherlands   \n",
       "2   3          Pieter     Zeeman 1865-05-25 1943-10-09        the Netherlands   \n",
       "3   4   Antoine Henri  Becquerel 1852-12-15 1908-08-25                 France   \n",
       "4   5          Pierre      Curie 1859-05-15 1906-04-19                 France   \n",
       "\n",
       "  bornCountryCode                bornCity      diedCountry diedCountryCode  \\\n",
       "0              DE  Lennep (now Remscheid)          Germany              DE   \n",
       "1              NL                  Arnhem  the Netherlands              NL   \n",
       "2              NL              Zonnemaire  the Netherlands              NL   \n",
       "3              FR                   Paris           France              FR   \n",
       "4              FR                   Paris           France              FR   \n",
       "\n",
       "    diedCity gender    year category overallMotivation  share  \\\n",
       "0     Munich   male  1901.0  physics               NaN    1.0   \n",
       "1        NaN   male  1902.0  physics               NaN    2.0   \n",
       "2  Amsterdam   male  1902.0  physics               NaN    2.0   \n",
       "3        NaN   male  1903.0  physics               NaN    2.0   \n",
       "4      Paris   male  1903.0  physics               NaN    4.0   \n",
       "\n",
       "                                          motivation  \\\n",
       "0  \"in recognition of the extraordinary services ...   \n",
       "1  \"in recognition of the extraordinary service t...   \n",
       "2  \"in recognition of the extraordinary service t...   \n",
       "3  \"in recognition of the extraordinary services ...   \n",
       "4  \"in recognition of the extraordinary services ...   \n",
       "\n",
       "                                                name       city  \\\n",
       "0                                  Munich University     Munich   \n",
       "1                                  Leiden University     Leiden   \n",
       "2                               Amsterdam University  Amsterdam   \n",
       "3                                École Polytechnique      Paris   \n",
       "4  École municipale de physique et de chimie indu...      Paris   \n",
       "\n",
       "           country  \n",
       "0          Germany  \n",
       "1  the Netherlands  \n",
       "2  the Netherlands  \n",
       "3           France  \n",
       "4           France  "
      ]
     },
     "execution_count": 79,
     "metadata": {},
     "output_type": "execute_result"
    }
   ],
   "source": [
    "nobel_data = nobel_data_raw\n",
    "nobel_data['born'] = pd.to_datetime(nobel_data_raw['born'], format = '%Y-%m-%d', errors = 'coerce')\n",
    "nobel_data['died'] = pd.to_datetime(nobel_data_raw['died'], format = '%Y-%m-%d', errors = 'coerce')\n",
    "nobel_data.head()"
   ]
  },
  {
   "cell_type": "markdown",
   "metadata": {},
   "source": [
    "**Step 6:** We found the age in days of each laureate in the dataframe by using the \"year\" and year extracted from datetime values in the 'born' column. We made a new column called \"age\" because it will help us answer a few of our research questions. The values in the 'age' column were rounded down using np.floor to accurately represent each laureate's age at the time of their win. We also used .fillna() to fill missing \"age\" values with 0 to create models in the future without any errors involving NaN. Lastly, we used .head() to check if our data frame includes the new column."
   ]
  },
  {
   "cell_type": "code",
   "execution_count": 80,
   "metadata": {},
   "outputs": [
    {
     "data": {
      "text/html": [
       "<div>\n",
       "<style scoped>\n",
       "    .dataframe tbody tr th:only-of-type {\n",
       "        vertical-align: middle;\n",
       "    }\n",
       "\n",
       "    .dataframe tbody tr th {\n",
       "        vertical-align: top;\n",
       "    }\n",
       "\n",
       "    .dataframe thead th {\n",
       "        text-align: right;\n",
       "    }\n",
       "</style>\n",
       "<table border=\"1\" class=\"dataframe\">\n",
       "  <thead>\n",
       "    <tr style=\"text-align: right;\">\n",
       "      <th></th>\n",
       "      <th>id</th>\n",
       "      <th>firstname</th>\n",
       "      <th>surname</th>\n",
       "      <th>born</th>\n",
       "      <th>died</th>\n",
       "      <th>bornCountry</th>\n",
       "      <th>bornCountryCode</th>\n",
       "      <th>bornCity</th>\n",
       "      <th>diedCountry</th>\n",
       "      <th>diedCountryCode</th>\n",
       "      <th>...</th>\n",
       "      <th>gender</th>\n",
       "      <th>year</th>\n",
       "      <th>category</th>\n",
       "      <th>overallMotivation</th>\n",
       "      <th>share</th>\n",
       "      <th>motivation</th>\n",
       "      <th>name</th>\n",
       "      <th>city</th>\n",
       "      <th>country</th>\n",
       "      <th>age</th>\n",
       "    </tr>\n",
       "  </thead>\n",
       "  <tbody>\n",
       "    <tr>\n",
       "      <th>0</th>\n",
       "      <td>1</td>\n",
       "      <td>Wilhelm Conrad</td>\n",
       "      <td>Röntgen</td>\n",
       "      <td>1845-03-27</td>\n",
       "      <td>1923-02-10</td>\n",
       "      <td>Prussia (now Germany)</td>\n",
       "      <td>DE</td>\n",
       "      <td>Lennep (now Remscheid)</td>\n",
       "      <td>Germany</td>\n",
       "      <td>DE</td>\n",
       "      <td>...</td>\n",
       "      <td>male</td>\n",
       "      <td>1901.0</td>\n",
       "      <td>physics</td>\n",
       "      <td>NaN</td>\n",
       "      <td>1.0</td>\n",
       "      <td>\"in recognition of the extraordinary services ...</td>\n",
       "      <td>Munich University</td>\n",
       "      <td>Munich</td>\n",
       "      <td>Germany</td>\n",
       "      <td>56</td>\n",
       "    </tr>\n",
       "    <tr>\n",
       "      <th>1</th>\n",
       "      <td>2</td>\n",
       "      <td>Hendrik Antoon</td>\n",
       "      <td>Lorentz</td>\n",
       "      <td>1853-07-18</td>\n",
       "      <td>1928-02-04</td>\n",
       "      <td>the Netherlands</td>\n",
       "      <td>NL</td>\n",
       "      <td>Arnhem</td>\n",
       "      <td>the Netherlands</td>\n",
       "      <td>NL</td>\n",
       "      <td>...</td>\n",
       "      <td>male</td>\n",
       "      <td>1902.0</td>\n",
       "      <td>physics</td>\n",
       "      <td>NaN</td>\n",
       "      <td>2.0</td>\n",
       "      <td>\"in recognition of the extraordinary service t...</td>\n",
       "      <td>Leiden University</td>\n",
       "      <td>Leiden</td>\n",
       "      <td>the Netherlands</td>\n",
       "      <td>49</td>\n",
       "    </tr>\n",
       "    <tr>\n",
       "      <th>2</th>\n",
       "      <td>3</td>\n",
       "      <td>Pieter</td>\n",
       "      <td>Zeeman</td>\n",
       "      <td>1865-05-25</td>\n",
       "      <td>1943-10-09</td>\n",
       "      <td>the Netherlands</td>\n",
       "      <td>NL</td>\n",
       "      <td>Zonnemaire</td>\n",
       "      <td>the Netherlands</td>\n",
       "      <td>NL</td>\n",
       "      <td>...</td>\n",
       "      <td>male</td>\n",
       "      <td>1902.0</td>\n",
       "      <td>physics</td>\n",
       "      <td>NaN</td>\n",
       "      <td>2.0</td>\n",
       "      <td>\"in recognition of the extraordinary service t...</td>\n",
       "      <td>Amsterdam University</td>\n",
       "      <td>Amsterdam</td>\n",
       "      <td>the Netherlands</td>\n",
       "      <td>37</td>\n",
       "    </tr>\n",
       "    <tr>\n",
       "      <th>3</th>\n",
       "      <td>4</td>\n",
       "      <td>Antoine Henri</td>\n",
       "      <td>Becquerel</td>\n",
       "      <td>1852-12-15</td>\n",
       "      <td>1908-08-25</td>\n",
       "      <td>France</td>\n",
       "      <td>FR</td>\n",
       "      <td>Paris</td>\n",
       "      <td>France</td>\n",
       "      <td>FR</td>\n",
       "      <td>...</td>\n",
       "      <td>male</td>\n",
       "      <td>1903.0</td>\n",
       "      <td>physics</td>\n",
       "      <td>NaN</td>\n",
       "      <td>2.0</td>\n",
       "      <td>\"in recognition of the extraordinary services ...</td>\n",
       "      <td>École Polytechnique</td>\n",
       "      <td>Paris</td>\n",
       "      <td>France</td>\n",
       "      <td>51</td>\n",
       "    </tr>\n",
       "    <tr>\n",
       "      <th>4</th>\n",
       "      <td>5</td>\n",
       "      <td>Pierre</td>\n",
       "      <td>Curie</td>\n",
       "      <td>1859-05-15</td>\n",
       "      <td>1906-04-19</td>\n",
       "      <td>France</td>\n",
       "      <td>FR</td>\n",
       "      <td>Paris</td>\n",
       "      <td>France</td>\n",
       "      <td>FR</td>\n",
       "      <td>...</td>\n",
       "      <td>male</td>\n",
       "      <td>1903.0</td>\n",
       "      <td>physics</td>\n",
       "      <td>NaN</td>\n",
       "      <td>4.0</td>\n",
       "      <td>\"in recognition of the extraordinary services ...</td>\n",
       "      <td>École municipale de physique et de chimie indu...</td>\n",
       "      <td>Paris</td>\n",
       "      <td>France</td>\n",
       "      <td>44</td>\n",
       "    </tr>\n",
       "  </tbody>\n",
       "</table>\n",
       "<p>5 rows × 21 columns</p>\n",
       "</div>"
      ],
      "text/plain": [
       "   id       firstname    surname       born       died            bornCountry  \\\n",
       "0   1  Wilhelm Conrad    Röntgen 1845-03-27 1923-02-10  Prussia (now Germany)   \n",
       "1   2  Hendrik Antoon    Lorentz 1853-07-18 1928-02-04        the Netherlands   \n",
       "2   3          Pieter     Zeeman 1865-05-25 1943-10-09        the Netherlands   \n",
       "3   4   Antoine Henri  Becquerel 1852-12-15 1908-08-25                 France   \n",
       "4   5          Pierre      Curie 1859-05-15 1906-04-19                 France   \n",
       "\n",
       "  bornCountryCode                bornCity      diedCountry diedCountryCode  \\\n",
       "0              DE  Lennep (now Remscheid)          Germany              DE   \n",
       "1              NL                  Arnhem  the Netherlands              NL   \n",
       "2              NL              Zonnemaire  the Netherlands              NL   \n",
       "3              FR                   Paris           France              FR   \n",
       "4              FR                   Paris           France              FR   \n",
       "\n",
       "   ... gender    year  category overallMotivation share  \\\n",
       "0  ...   male  1901.0   physics               NaN   1.0   \n",
       "1  ...   male  1902.0   physics               NaN   2.0   \n",
       "2  ...   male  1902.0   physics               NaN   2.0   \n",
       "3  ...   male  1903.0   physics               NaN   2.0   \n",
       "4  ...   male  1903.0   physics               NaN   4.0   \n",
       "\n",
       "                                          motivation  \\\n",
       "0  \"in recognition of the extraordinary services ...   \n",
       "1  \"in recognition of the extraordinary service t...   \n",
       "2  \"in recognition of the extraordinary service t...   \n",
       "3  \"in recognition of the extraordinary services ...   \n",
       "4  \"in recognition of the extraordinary services ...   \n",
       "\n",
       "                                                name       city  \\\n",
       "0                                  Munich University     Munich   \n",
       "1                                  Leiden University     Leiden   \n",
       "2                               Amsterdam University  Amsterdam   \n",
       "3                                École Polytechnique      Paris   \n",
       "4  École municipale de physique et de chimie indu...      Paris   \n",
       "\n",
       "           country age  \n",
       "0          Germany  56  \n",
       "1  the Netherlands  49  \n",
       "2  the Netherlands  37  \n",
       "3           France  51  \n",
       "4           France  44  \n",
       "\n",
       "[5 rows x 21 columns]"
      ]
     },
     "execution_count": 80,
     "metadata": {},
     "output_type": "execute_result"
    }
   ],
   "source": [
    "nobel_data['age'] = nobel_data['year'] - nobel_data['born'].dt.year\n",
    "nobel_data['age'] = nobel_data['age'].apply(np.floor)\n",
    "nobel_data['age'] = nobel_data['age'].fillna(0)\n",
    "nobel_data['age'] = nobel_data['age'].astype(int)\n",
    "nobel_data.head()"
   ]
  },
  {
   "cell_type": "markdown",
   "metadata": {},
   "source": [
    "**Step 7:** Upon this early analysis, we discovered 6 rows in our dataframe that were empty of all data (except for gender: male), and did not correspond to any potential collection gaps that we could ascertain. As such, we concluded that these rows were erroneously included, and dropped them from the dataframe. "
   ]
  },
  {
   "cell_type": "code",
   "execution_count": 81,
   "metadata": {},
   "outputs": [],
   "source": [
    "nobel_data = nobel_data.drop([932, 933, 934, 935, 936, 937])"
   ]
  },
  {
   "cell_type": "markdown",
   "metadata": {},
   "source": [
    "**Step 8:** Created a new dataframe, nobel_data_valid, without any \"age\" values that are 0 so that we can create models using the \"age\" column without laureates who are missing their ages. Most of these rows represent organizational winners, rather than individuals, so the age data for these instances would not be relevant to our analysis. "
   ]
  },
  {
   "cell_type": "code",
   "execution_count": 82,
   "metadata": {},
   "outputs": [
    {
     "data": {
      "text/html": [
       "<div>\n",
       "<style scoped>\n",
       "    .dataframe tbody tr th:only-of-type {\n",
       "        vertical-align: middle;\n",
       "    }\n",
       "\n",
       "    .dataframe tbody tr th {\n",
       "        vertical-align: top;\n",
       "    }\n",
       "\n",
       "    .dataframe thead th {\n",
       "        text-align: right;\n",
       "    }\n",
       "</style>\n",
       "<table border=\"1\" class=\"dataframe\">\n",
       "  <thead>\n",
       "    <tr style=\"text-align: right;\">\n",
       "      <th></th>\n",
       "      <th>id</th>\n",
       "      <th>firstname</th>\n",
       "      <th>surname</th>\n",
       "      <th>born</th>\n",
       "      <th>died</th>\n",
       "      <th>bornCountry</th>\n",
       "      <th>bornCountryCode</th>\n",
       "      <th>bornCity</th>\n",
       "      <th>diedCountry</th>\n",
       "      <th>diedCountryCode</th>\n",
       "      <th>...</th>\n",
       "      <th>gender</th>\n",
       "      <th>year</th>\n",
       "      <th>category</th>\n",
       "      <th>overallMotivation</th>\n",
       "      <th>share</th>\n",
       "      <th>motivation</th>\n",
       "      <th>name</th>\n",
       "      <th>city</th>\n",
       "      <th>country</th>\n",
       "      <th>age</th>\n",
       "    </tr>\n",
       "  </thead>\n",
       "  <tbody>\n",
       "    <tr>\n",
       "      <th>0</th>\n",
       "      <td>1</td>\n",
       "      <td>Wilhelm Conrad</td>\n",
       "      <td>Röntgen</td>\n",
       "      <td>1845-03-27</td>\n",
       "      <td>1923-02-10</td>\n",
       "      <td>Prussia (now Germany)</td>\n",
       "      <td>DE</td>\n",
       "      <td>Lennep (now Remscheid)</td>\n",
       "      <td>Germany</td>\n",
       "      <td>DE</td>\n",
       "      <td>...</td>\n",
       "      <td>male</td>\n",
       "      <td>1901.0</td>\n",
       "      <td>physics</td>\n",
       "      <td>NaN</td>\n",
       "      <td>1.0</td>\n",
       "      <td>\"in recognition of the extraordinary services ...</td>\n",
       "      <td>Munich University</td>\n",
       "      <td>Munich</td>\n",
       "      <td>Germany</td>\n",
       "      <td>56</td>\n",
       "    </tr>\n",
       "    <tr>\n",
       "      <th>1</th>\n",
       "      <td>2</td>\n",
       "      <td>Hendrik Antoon</td>\n",
       "      <td>Lorentz</td>\n",
       "      <td>1853-07-18</td>\n",
       "      <td>1928-02-04</td>\n",
       "      <td>the Netherlands</td>\n",
       "      <td>NL</td>\n",
       "      <td>Arnhem</td>\n",
       "      <td>the Netherlands</td>\n",
       "      <td>NL</td>\n",
       "      <td>...</td>\n",
       "      <td>male</td>\n",
       "      <td>1902.0</td>\n",
       "      <td>physics</td>\n",
       "      <td>NaN</td>\n",
       "      <td>2.0</td>\n",
       "      <td>\"in recognition of the extraordinary service t...</td>\n",
       "      <td>Leiden University</td>\n",
       "      <td>Leiden</td>\n",
       "      <td>the Netherlands</td>\n",
       "      <td>49</td>\n",
       "    </tr>\n",
       "    <tr>\n",
       "      <th>2</th>\n",
       "      <td>3</td>\n",
       "      <td>Pieter</td>\n",
       "      <td>Zeeman</td>\n",
       "      <td>1865-05-25</td>\n",
       "      <td>1943-10-09</td>\n",
       "      <td>the Netherlands</td>\n",
       "      <td>NL</td>\n",
       "      <td>Zonnemaire</td>\n",
       "      <td>the Netherlands</td>\n",
       "      <td>NL</td>\n",
       "      <td>...</td>\n",
       "      <td>male</td>\n",
       "      <td>1902.0</td>\n",
       "      <td>physics</td>\n",
       "      <td>NaN</td>\n",
       "      <td>2.0</td>\n",
       "      <td>\"in recognition of the extraordinary service t...</td>\n",
       "      <td>Amsterdam University</td>\n",
       "      <td>Amsterdam</td>\n",
       "      <td>the Netherlands</td>\n",
       "      <td>37</td>\n",
       "    </tr>\n",
       "    <tr>\n",
       "      <th>3</th>\n",
       "      <td>4</td>\n",
       "      <td>Antoine Henri</td>\n",
       "      <td>Becquerel</td>\n",
       "      <td>1852-12-15</td>\n",
       "      <td>1908-08-25</td>\n",
       "      <td>France</td>\n",
       "      <td>FR</td>\n",
       "      <td>Paris</td>\n",
       "      <td>France</td>\n",
       "      <td>FR</td>\n",
       "      <td>...</td>\n",
       "      <td>male</td>\n",
       "      <td>1903.0</td>\n",
       "      <td>physics</td>\n",
       "      <td>NaN</td>\n",
       "      <td>2.0</td>\n",
       "      <td>\"in recognition of the extraordinary services ...</td>\n",
       "      <td>École Polytechnique</td>\n",
       "      <td>Paris</td>\n",
       "      <td>France</td>\n",
       "      <td>51</td>\n",
       "    </tr>\n",
       "    <tr>\n",
       "      <th>4</th>\n",
       "      <td>5</td>\n",
       "      <td>Pierre</td>\n",
       "      <td>Curie</td>\n",
       "      <td>1859-05-15</td>\n",
       "      <td>1906-04-19</td>\n",
       "      <td>France</td>\n",
       "      <td>FR</td>\n",
       "      <td>Paris</td>\n",
       "      <td>France</td>\n",
       "      <td>FR</td>\n",
       "      <td>...</td>\n",
       "      <td>male</td>\n",
       "      <td>1903.0</td>\n",
       "      <td>physics</td>\n",
       "      <td>NaN</td>\n",
       "      <td>4.0</td>\n",
       "      <td>\"in recognition of the extraordinary services ...</td>\n",
       "      <td>École municipale de physique et de chimie indu...</td>\n",
       "      <td>Paris</td>\n",
       "      <td>France</td>\n",
       "      <td>44</td>\n",
       "    </tr>\n",
       "  </tbody>\n",
       "</table>\n",
       "<p>5 rows × 21 columns</p>\n",
       "</div>"
      ],
      "text/plain": [
       "   id       firstname    surname       born       died            bornCountry  \\\n",
       "0   1  Wilhelm Conrad    Röntgen 1845-03-27 1923-02-10  Prussia (now Germany)   \n",
       "1   2  Hendrik Antoon    Lorentz 1853-07-18 1928-02-04        the Netherlands   \n",
       "2   3          Pieter     Zeeman 1865-05-25 1943-10-09        the Netherlands   \n",
       "3   4   Antoine Henri  Becquerel 1852-12-15 1908-08-25                 France   \n",
       "4   5          Pierre      Curie 1859-05-15 1906-04-19                 France   \n",
       "\n",
       "  bornCountryCode                bornCity      diedCountry diedCountryCode  \\\n",
       "0              DE  Lennep (now Remscheid)          Germany              DE   \n",
       "1              NL                  Arnhem  the Netherlands              NL   \n",
       "2              NL              Zonnemaire  the Netherlands              NL   \n",
       "3              FR                   Paris           France              FR   \n",
       "4              FR                   Paris           France              FR   \n",
       "\n",
       "   ... gender    year  category overallMotivation share  \\\n",
       "0  ...   male  1901.0   physics               NaN   1.0   \n",
       "1  ...   male  1902.0   physics               NaN   2.0   \n",
       "2  ...   male  1902.0   physics               NaN   2.0   \n",
       "3  ...   male  1903.0   physics               NaN   2.0   \n",
       "4  ...   male  1903.0   physics               NaN   4.0   \n",
       "\n",
       "                                          motivation  \\\n",
       "0  \"in recognition of the extraordinary services ...   \n",
       "1  \"in recognition of the extraordinary service t...   \n",
       "2  \"in recognition of the extraordinary service t...   \n",
       "3  \"in recognition of the extraordinary services ...   \n",
       "4  \"in recognition of the extraordinary services ...   \n",
       "\n",
       "                                                name       city  \\\n",
       "0                                  Munich University     Munich   \n",
       "1                                  Leiden University     Leiden   \n",
       "2                               Amsterdam University  Amsterdam   \n",
       "3                                École Polytechnique      Paris   \n",
       "4  École municipale de physique et de chimie indu...      Paris   \n",
       "\n",
       "           country age  \n",
       "0          Germany  56  \n",
       "1  the Netherlands  49  \n",
       "2  the Netherlands  37  \n",
       "3           France  51  \n",
       "4           France  44  \n",
       "\n",
       "[5 rows x 21 columns]"
      ]
     },
     "execution_count": 82,
     "metadata": {},
     "output_type": "execute_result"
    }
   ],
   "source": [
    "nobel_data_valid = nobel_data.loc[nobel_data_raw['age']!=0]\n",
    "nobel_data_valid.head()"
   ]
  },
  {
   "cell_type": "markdown",
   "metadata": {},
   "source": [
    "**Step 9:** Printed the types of columns again to check to make sure the conversions made above are reflected in our data frame. "
   ]
  },
  {
   "cell_type": "code",
   "execution_count": 83,
   "metadata": {},
   "outputs": [
    {
     "data": {
      "text/plain": [
       "id                            int64\n",
       "firstname                    object\n",
       "surname                      object\n",
       "born                 datetime64[ns]\n",
       "died                 datetime64[ns]\n",
       "bornCountry                  object\n",
       "bornCountryCode              object\n",
       "bornCity                     object\n",
       "diedCountry                  object\n",
       "diedCountryCode              object\n",
       "diedCity                     object\n",
       "gender                       object\n",
       "year                        float64\n",
       "category                     object\n",
       "overallMotivation            object\n",
       "share                       float64\n",
       "motivation                   object\n",
       "name                         object\n",
       "city                         object\n",
       "country                      object\n",
       "age                           int64\n",
       "dtype: object"
      ]
     },
     "execution_count": 83,
     "metadata": {},
     "output_type": "execute_result"
    }
   ],
   "source": [
    "nobel_data.dtypes"
   ]
  },
  {
   "cell_type": "markdown",
   "metadata": {},
   "source": [
    "**Step 10:** Created a list of top ten countries where Nobel Prize laureates were born. As shown below, the top ten birthplaces of Nobel Prize laureates in our dataset are US (United States), GB (Scotland), DE (Germany), FR (France), SE (Sweden), RU (Russia), PL (Poland), JP (Japan), IT (Italy), and NL (the Netherlands)."
   ]
  },
  {
   "cell_type": "code",
   "execution_count": 84,
   "metadata": {},
   "outputs": [
    {
     "data": {
      "text/plain": [
       "bornCountryCode\n",
       "US    275\n",
       "GB    102\n",
       "DE     89\n",
       "FR     56\n",
       "SE     30\n",
       "RU     30\n",
       "PL     30\n",
       "JP     29\n",
       "IT     20\n",
       "NL     19\n",
       "Name: bornCountryCode, dtype: int64"
      ]
     },
     "execution_count": 84,
     "metadata": {},
     "output_type": "execute_result"
    }
   ],
   "source": [
    "top_bornCountryCode = nobel_data.groupby(['bornCountryCode'])['bornCountryCode'].count().sort_values(ascending = False).head(10)\n",
    "top_bornCountryCode"
   ]
  },
  {
   "cell_type": "markdown",
   "metadata": {},
   "source": [
    "## Hypotheses"
   ]
  },
  {
   "cell_type": "markdown",
   "metadata": {},
   "source": [
    "### 1. Age has no bearing on the likelihood of winning a Nobel Prize"
   ]
  },
  {
   "cell_type": "code",
   "execution_count": 85,
   "metadata": {},
   "outputs": [
    {
     "data": {
      "text/plain": [
       "Text(0.5, 1.0, 'Number of Nobel Prizes Across Age')"
      ]
     },
     "execution_count": 85,
     "metadata": {},
     "output_type": "execute_result"
    },
    {
     "data": {
      "image/png": "[encoded data removed]",
      "text/plain": [
       "<Figure size 640x480 with 1 Axes>"
      ]
     },
     "metadata": {},
     "output_type": "display_data"
    }
   ],
   "source": [
    "histplot = seaborn.histplot(nobel_data_valid['age'], kde=True)\n",
    "histplot.set_xlabel('Age')\n",
    "histplot.set_ylabel('Number of Nobel Prizes')\n",
    "histplot.set_title('Number of Nobel Prizes Across Age')"
   ]
  },
  {
   "cell_type": "code",
   "execution_count": 86,
   "metadata": {},
   "outputs": [
    {
     "name": "stdout",
     "output_type": "stream",
     "text": [
      "The mean age of a Nobel laureate is 59.4593147751606, with a standard deviation of 12.384339675481367.\n"
     ]
    }
   ],
   "source": [
    "print(\"The mean age of a Nobel laureate is \"+str(nobel_data_valid['age'].mean())+\", with a standard deviation of \"+str(nobel_data_valid['age'].std())+\".\")"
   ]
  },
  {
   "cell_type": "markdown",
   "metadata": {},
   "source": [
    "The histogram shows that Nobel Prize laureates usually win at around the age of 60. As Age increases to around 60, there is an overall increase in the Count of Nobel Prizes. However, after around age of 60, as Age increases, there is an overall decrease in the Count of Nobel Prizes. There are some peaks around the age of 60, so we could look into how the mean age of a Nobel laureate varies across categories."
   ]
  },
  {
   "cell_type": "code",
   "execution_count": 87,
   "metadata": {},
   "outputs": [
    {
     "name": "stdout",
     "output_type": "stream",
     "text": [
      "The mean age of a Nobel laureate in Medicine is 57.57333333333333\n"
     ]
    }
   ],
   "source": [
    "medicine = nobel_data.loc[nobel_data['category']=='medicine','age'].mean()\n",
    "print(\"The mean age of a Nobel laureate in Medicine is \"+str(medicine))"
   ]
  },
  {
   "cell_type": "code",
   "execution_count": 15,
   "metadata": {},
   "outputs": [
    {
     "name": "stdout",
     "output_type": "stream",
     "text": [
      "The mean age of a Nobel laureate in Physics is 55.351351351351354\n"
     ]
    }
   ],
   "source": [
    "physics = nobel_data.loc[nobel_data['category']=='physics','age'].mean()\n",
    "print(\"The mean age of a Nobel laureate in Physics is \"+str(physics))"
   ]
  },
  {
   "cell_type": "code",
   "execution_count": 16,
   "metadata": {},
   "outputs": [
    {
     "name": "stdout",
     "output_type": "stream",
     "text": [
      "The mean age of a Nobel laureate in Chemistry is 57.83505154639175\n"
     ]
    }
   ],
   "source": [
    "chemistry = nobel_data.loc[nobel_data['category']=='chemistry','age'].mean()\n",
    "print(\"The mean age of a Nobel laureate in Chemistry is \"+str(chemistry))"
   ]
  },
  {
   "cell_type": "code",
   "execution_count": 17,
   "metadata": {},
   "outputs": [
    {
     "name": "stdout",
     "output_type": "stream",
     "text": [
      "The mean age of a Nobel laureate in Economics is 66.34939759036145\n"
     ]
    }
   ],
   "source": [
    "economics = nobel_data.loc[nobel_data['category']=='economics','age'].mean()\n",
    "print(\"The mean age of a Nobel laureate in Economics is \"+str(economics))"
   ]
  },
  {
   "cell_type": "code",
   "execution_count": 18,
   "metadata": {},
   "outputs": [
    {
     "name": "stdout",
     "output_type": "stream",
     "text": [
      "The mean age of a Nobel laureate in Literature is 64.67256637168141\n"
     ]
    }
   ],
   "source": [
    "literature = nobel_data.loc[nobel_data['category']=='literature','age'].mean()\n",
    "print(\"The mean age of a Nobel laureate in Literature is \"+str(literature))"
   ]
  },
  {
   "cell_type": "markdown",
   "metadata": {},
   "source": [
    "There are slight variations in the mean across Medicine, Physics, and Chemistry but the mean age of a Nobel laureate stays around in late 50s. There are also slight variations in the mean across Economics and Literature, but the mean age of a Nobel laureate stays around late 60s."
   ]
  },
  {
   "cell_type": "markdown",
   "metadata": {},
   "source": [
    "As shown above, age has bearing on the likelihood of winning a Nobel Prize. A typical age of Nobel Prize laureate at the time of win is 59.4593147751606. When we looked closer at the mean of age in the five categories, there are differences in the age of a typical laureate. We noticed that Nobel Prize laureates are more likely to win in late 60s for Economics and Literature, but winning at late 50s is more likely for Medicine, Physics, and Chemistry. "
   ]
  },
  {
   "cell_type": "markdown",
   "metadata": {},
   "source": [
    "## Exploratory Analysis"
   ]
  },
  {
   "cell_type": "markdown",
   "metadata": {},
   "source": [
    "### Question 1: What countries produce the most Nobel Prize laureates?"
   ]
  },
  {
   "cell_type": "markdown",
   "metadata": {},
   "source": [
    "To begin to explore this question, we first determined the number of laureates from each country represented in the dataset: "
   ]
  },
  {
   "cell_type": "code",
   "execution_count": 19,
   "metadata": {},
   "outputs": [
    {
     "name": "stdout",
     "output_type": "stream",
     "text": [
      "US    275\n",
      "GB    102\n",
      "DE     89\n",
      "FR     56\n",
      "PL     30\n",
      "     ... \n",
      "CR      1\n",
      "MK      1\n",
      "AZ      1\n",
      "VN      1\n",
      "BG      1\n",
      "Name: bornCountryCode, Length: 76, dtype: int64\n"
     ]
    }
   ],
   "source": [
    "laur_countries = nobel_data['bornCountryCode'].value_counts()\n",
    "print(laur_countries)"
   ]
  },
  {
   "cell_type": "code",
   "execution_count": 34,
   "metadata": {},
   "outputs": [
    {
     "name": "stdout",
     "output_type": "stream",
     "text": [
      "BG      1\n",
      "ZW      1\n",
      "YE      1\n",
      "TW      1\n",
      "CY      1\n",
      "     ... \n",
      "PL     30\n",
      "FR     56\n",
      "DE     89\n",
      "GB    102\n",
      "US    275\n",
      "Name: bornCountryCode, Length: 76, dtype: int64\n"
     ]
    }
   ],
   "source": [
    "print(laur_countries.sort_values(ascending = True))"
   ]
  },
  {
   "cell_type": "markdown",
   "metadata": {},
   "source": [
    "The five countries that produced the most Nobel laureates are the United States, the United Kingdom, Germany, France, and Poland. Two points of interest arise: first, that the United States alone produced more than three times as many laureates as the next most-awarded country, and second, that there are 27 countries (of the 76 represented by a Nobel laureate) with claim to only a single award. Together, these facts indicate a fairly strong preference for a small set of countries. \n",
    "\n",
    "To get a sense of the shape of the distribution, we plotted a histogram of each country's laureates: "
   ]
  },
  {
   "cell_type": "code",
   "execution_count": 21,
   "metadata": {},
   "outputs": [
    {
     "data": {
      "image/png": "[encoded data removed]",
      "text/plain": [
       "<Figure size 432x288 with 1 Axes>"
      ]
     },
     "metadata": {
      "needs_background": "light"
     },
     "output_type": "display_data"
    }
   ],
   "source": [
    "ax = seaborn.countplot(x = 'bornCountryCode', data=nobel_data, order=laur_countries.index)\n",
    "ax.set_xticklabels(ax.get_xticklabels(), rotation=60, fontsize=5)\n",
    "# pyplot.tight_layout()\n",
    "pyplot.show()"
   ]
  },
  {
   "cell_type": "markdown",
   "metadata": {},
   "source": [
    "This plot shows an immense disparity between countries, with a sharp (negative) logarithmic relationship that was indicated by the above statistcs. More analysis regarding regional distributions might be interesting to pursue: how many Nobel laureates come from each geographical region of the world? How has that shifted, if at all, over time? "
   ]
  },
  {
   "cell_type": "markdown",
   "metadata": {},
   "source": [
    "### Question 2: At what age is your likelihood of winning the highest?"
   ]
  },
  {
   "cell_type": "markdown",
   "metadata": {},
   "source": [
    "To start looking into this question, we plotted a histogram of the ages of each Nobel laureate at the time of their award, and calculated the mean over the entire dataset. "
   ]
  },
  {
   "cell_type": "code",
   "execution_count": 88,
   "metadata": {},
   "outputs": [
    {
     "data": {
      "text/plain": [
       "<AxesSubplot:xlabel='age', ylabel='Count'>"
      ]
     },
     "execution_count": 88,
     "metadata": {},
     "output_type": "execute_result"
    },
    {
     "data": {
      "image/png": "[encoded data removed]",
      "text/plain": [
       "<Figure size 640x480 with 1 Axes>"
      ]
     },
     "metadata": {},
     "output_type": "display_data"
    }
   ],
   "source": [
    "seaborn.histplot(nobel_data_valid['age'], kde=True)"
   ]
  },
  {
   "cell_type": "code",
   "execution_count": 89,
   "metadata": {},
   "outputs": [
    {
     "name": "stdout",
     "output_type": "stream",
     "text": [
      "The mean age of a Nobel laureate is 59.4593147751606, with a standard deviation of 12.384339675481367.\n"
     ]
    }
   ],
   "source": [
    "\n",
    "print(\"The mean age of a Nobel laureate is \"+str(nobel_data_valid['age'].mean())+\", with a standard deviation of \"+str(nobel_data_valid['age'].std())+\".\")"
   ]
  },
  {
   "cell_type": "code",
   "execution_count": 90,
   "metadata": {},
   "outputs": [
    {
     "name": "stderr",
     "output_type": "stream",
     "text": [
      "/var/folders/vl/0wvv2zjd71s6llgw8d0jlwph0000gn/T/ipykernel_16239/324270855.py:1: SettingWithCopyWarning: \n",
      "A value is trying to be set on a copy of a slice from a DataFrame.\n",
      "Try using .loc[row_indexer,col_indexer] = value instead\n",
      "\n",
      "See the caveats in the documentation: https://pandas.pydata.org/pandas-docs/stable/user_guide/indexing.html#returning-a-view-versus-a-copy\n",
      "  nobel_data_valid['count'] = nobel_data_valid.groupby('age')['age'].transform('count')\n"
     ]
    },
    {
     "data": {
      "text/html": [
       "<div>\n",
       "<style scoped>\n",
       "    .dataframe tbody tr th:only-of-type {\n",
       "        vertical-align: middle;\n",
       "    }\n",
       "\n",
       "    .dataframe tbody tr th {\n",
       "        vertical-align: top;\n",
       "    }\n",
       "\n",
       "    .dataframe thead th {\n",
       "        text-align: right;\n",
       "    }\n",
       "</style>\n",
       "<table border=\"1\" class=\"dataframe\">\n",
       "  <thead>\n",
       "    <tr style=\"text-align: right;\">\n",
       "      <th></th>\n",
       "      <th>id</th>\n",
       "      <th>firstname</th>\n",
       "      <th>surname</th>\n",
       "      <th>born</th>\n",
       "      <th>died</th>\n",
       "      <th>bornCountry</th>\n",
       "      <th>bornCountryCode</th>\n",
       "      <th>bornCity</th>\n",
       "      <th>diedCountry</th>\n",
       "      <th>diedCountryCode</th>\n",
       "      <th>...</th>\n",
       "      <th>year</th>\n",
       "      <th>category</th>\n",
       "      <th>overallMotivation</th>\n",
       "      <th>share</th>\n",
       "      <th>motivation</th>\n",
       "      <th>name</th>\n",
       "      <th>city</th>\n",
       "      <th>country</th>\n",
       "      <th>age</th>\n",
       "      <th>count</th>\n",
       "    </tr>\n",
       "  </thead>\n",
       "  <tbody>\n",
       "    <tr>\n",
       "      <th>0</th>\n",
       "      <td>1</td>\n",
       "      <td>Wilhelm Conrad</td>\n",
       "      <td>Röntgen</td>\n",
       "      <td>1845-03-27</td>\n",
       "      <td>1923-02-10</td>\n",
       "      <td>Prussia (now Germany)</td>\n",
       "      <td>DE</td>\n",
       "      <td>Lennep (now Remscheid)</td>\n",
       "      <td>Germany</td>\n",
       "      <td>DE</td>\n",
       "      <td>...</td>\n",
       "      <td>1901.0</td>\n",
       "      <td>physics</td>\n",
       "      <td>NaN</td>\n",
       "      <td>1.0</td>\n",
       "      <td>\"in recognition of the extraordinary services ...</td>\n",
       "      <td>Munich University</td>\n",
       "      <td>Munich</td>\n",
       "      <td>Germany</td>\n",
       "      <td>56</td>\n",
       "      <td>33</td>\n",
       "    </tr>\n",
       "    <tr>\n",
       "      <th>1</th>\n",
       "      <td>2</td>\n",
       "      <td>Hendrik Antoon</td>\n",
       "      <td>Lorentz</td>\n",
       "      <td>1853-07-18</td>\n",
       "      <td>1928-02-04</td>\n",
       "      <td>the Netherlands</td>\n",
       "      <td>NL</td>\n",
       "      <td>Arnhem</td>\n",
       "      <td>the Netherlands</td>\n",
       "      <td>NL</td>\n",
       "      <td>...</td>\n",
       "      <td>1902.0</td>\n",
       "      <td>physics</td>\n",
       "      <td>NaN</td>\n",
       "      <td>2.0</td>\n",
       "      <td>\"in recognition of the extraordinary service t...</td>\n",
       "      <td>Leiden University</td>\n",
       "      <td>Leiden</td>\n",
       "      <td>the Netherlands</td>\n",
       "      <td>49</td>\n",
       "      <td>23</td>\n",
       "    </tr>\n",
       "    <tr>\n",
       "      <th>2</th>\n",
       "      <td>3</td>\n",
       "      <td>Pieter</td>\n",
       "      <td>Zeeman</td>\n",
       "      <td>1865-05-25</td>\n",
       "      <td>1943-10-09</td>\n",
       "      <td>the Netherlands</td>\n",
       "      <td>NL</td>\n",
       "      <td>Zonnemaire</td>\n",
       "      <td>the Netherlands</td>\n",
       "      <td>NL</td>\n",
       "      <td>...</td>\n",
       "      <td>1902.0</td>\n",
       "      <td>physics</td>\n",
       "      <td>NaN</td>\n",
       "      <td>2.0</td>\n",
       "      <td>\"in recognition of the extraordinary service t...</td>\n",
       "      <td>Amsterdam University</td>\n",
       "      <td>Amsterdam</td>\n",
       "      <td>the Netherlands</td>\n",
       "      <td>37</td>\n",
       "      <td>7</td>\n",
       "    </tr>\n",
       "    <tr>\n",
       "      <th>3</th>\n",
       "      <td>4</td>\n",
       "      <td>Antoine Henri</td>\n",
       "      <td>Becquerel</td>\n",
       "      <td>1852-12-15</td>\n",
       "      <td>1908-08-25</td>\n",
       "      <td>France</td>\n",
       "      <td>FR</td>\n",
       "      <td>Paris</td>\n",
       "      <td>France</td>\n",
       "      <td>FR</td>\n",
       "      <td>...</td>\n",
       "      <td>1903.0</td>\n",
       "      <td>physics</td>\n",
       "      <td>NaN</td>\n",
       "      <td>2.0</td>\n",
       "      <td>\"in recognition of the extraordinary services ...</td>\n",
       "      <td>École Polytechnique</td>\n",
       "      <td>Paris</td>\n",
       "      <td>France</td>\n",
       "      <td>51</td>\n",
       "      <td>13</td>\n",
       "    </tr>\n",
       "    <tr>\n",
       "      <th>4</th>\n",
       "      <td>5</td>\n",
       "      <td>Pierre</td>\n",
       "      <td>Curie</td>\n",
       "      <td>1859-05-15</td>\n",
       "      <td>1906-04-19</td>\n",
       "      <td>France</td>\n",
       "      <td>FR</td>\n",
       "      <td>Paris</td>\n",
       "      <td>France</td>\n",
       "      <td>FR</td>\n",
       "      <td>...</td>\n",
       "      <td>1903.0</td>\n",
       "      <td>physics</td>\n",
       "      <td>NaN</td>\n",
       "      <td>4.0</td>\n",
       "      <td>\"in recognition of the extraordinary services ...</td>\n",
       "      <td>École municipale de physique et de chimie indu...</td>\n",
       "      <td>Paris</td>\n",
       "      <td>France</td>\n",
       "      <td>44</td>\n",
       "      <td>15</td>\n",
       "    </tr>\n",
       "  </tbody>\n",
       "</table>\n",
       "<p>5 rows × 22 columns</p>\n",
       "</div>"
      ],
      "text/plain": [
       "   id       firstname    surname       born       died            bornCountry  \\\n",
       "0   1  Wilhelm Conrad    Röntgen 1845-03-27 1923-02-10  Prussia (now Germany)   \n",
       "1   2  Hendrik Antoon    Lorentz 1853-07-18 1928-02-04        the Netherlands   \n",
       "2   3          Pieter     Zeeman 1865-05-25 1943-10-09        the Netherlands   \n",
       "3   4   Antoine Henri  Becquerel 1852-12-15 1908-08-25                 France   \n",
       "4   5          Pierre      Curie 1859-05-15 1906-04-19                 France   \n",
       "\n",
       "  bornCountryCode                bornCity      diedCountry diedCountryCode  \\\n",
       "0              DE  Lennep (now Remscheid)          Germany              DE   \n",
       "1              NL                  Arnhem  the Netherlands              NL   \n",
       "2              NL              Zonnemaire  the Netherlands              NL   \n",
       "3              FR                   Paris           France              FR   \n",
       "4              FR                   Paris           France              FR   \n",
       "\n",
       "   ...    year category  overallMotivation share  \\\n",
       "0  ...  1901.0  physics                NaN   1.0   \n",
       "1  ...  1902.0  physics                NaN   2.0   \n",
       "2  ...  1902.0  physics                NaN   2.0   \n",
       "3  ...  1903.0  physics                NaN   2.0   \n",
       "4  ...  1903.0  physics                NaN   4.0   \n",
       "\n",
       "                                          motivation  \\\n",
       "0  \"in recognition of the extraordinary services ...   \n",
       "1  \"in recognition of the extraordinary service t...   \n",
       "2  \"in recognition of the extraordinary service t...   \n",
       "3  \"in recognition of the extraordinary services ...   \n",
       "4  \"in recognition of the extraordinary services ...   \n",
       "\n",
       "                                                name       city  \\\n",
       "0                                  Munich University     Munich   \n",
       "1                                  Leiden University     Leiden   \n",
       "2                               Amsterdam University  Amsterdam   \n",
       "3                                École Polytechnique      Paris   \n",
       "4  École municipale de physique et de chimie indu...      Paris   \n",
       "\n",
       "           country age count  \n",
       "0          Germany  56    33  \n",
       "1  the Netherlands  49    23  \n",
       "2  the Netherlands  37     7  \n",
       "3           France  51    13  \n",
       "4           France  44    15  \n",
       "\n",
       "[5 rows x 22 columns]"
      ]
     },
     "execution_count": 90,
     "metadata": {},
     "output_type": "execute_result"
    }
   ],
   "source": [
    "nobel_data_valid['count'] = nobel_data_valid.groupby('age')['age'].transform('count')\n",
    "nobel_data_valid.head()"
   ]
  },
  {
   "cell_type": "code",
   "execution_count": 100,
   "metadata": {},
   "outputs": [
    {
     "name": "stdout",
     "output_type": "stream",
     "text": [
      "0.0005391822752610631\n",
      "[0.01663716]\n",
      "20.871579305424213\n",
      "[22.16927813]\n"
     ]
    },
    {
     "name": "stderr",
     "output_type": "stream",
     "text": [
      "/Users/yishanhou/opt/anaconda3/envs/info2950/lib/python3.9/site-packages/sklearn/base.py:450: UserWarning: X does not have valid feature names, but LinearRegression was fitted with feature names\n",
      "  warnings.warn(\n"
     ]
    }
   ],
   "source": [
    "age_arr=nobel_data_valid[['age']]\n",
    "count_arr=nobel_data_valid['count']\n",
    "age_count=LinearRegression().fit(age_arr,count_arr)\n",
    "print(age_count.score(age_arr,count_arr))\n",
    "print(age_count.coef_)\n",
    "print(age_count.intercept_)\n",
    "\n",
    "# y_hat_train = age_count.predict(train[])\n",
    "# y_hat_test = age_count.predict(test[names])\n",
    "\n",
    "# def run_regression(age_arr, train, test, count_arr):\n",
    "#     reg = LinearRegression().fit(train[names], train[predicted])\n",
    "#     y_hat_train = reg.predict(train[names])\n",
    "#     y_hat_test = reg.predict(test[names])\n",
    "\n",
    "# nobel_data_valid['age_prediction']=age_count.predict_proba(nobel_data_valid[['age']])[:,0]\n",
    "# seaborn.scatterplot(data=nobel_data_valid,x='age',y='count',hue='age_prediction')"
   ]
  },
  {
   "cell_type": "code",
   "execution_count": 112,
   "metadata": {},
   "outputs": [
    {
     "data": {
      "text/plain": [
       "<AxesSubplot:xlabel='age', ylabel='count'>"
      ]
     },
     "execution_count": 112,
     "metadata": {},
     "output_type": "execute_result"
    },
    {
     "data": {
      "image/png": "[encoded data removed]",
      "text/plain": [
       "<Figure size 640x480 with 1 Axes>"
      ]
     },
     "metadata": {},
     "output_type": "display_data"
    }
   ],
   "source": [
    "seaborn.histplot(data = nobel_data_valid, x='age',y='count')\n"
   ]
  },
  {
   "cell_type": "code",
   "execution_count": 115,
   "metadata": {},
   "outputs": [
    {
     "name": "stdout",
     "output_type": "stream",
     "text": [
      "0      56\n",
      "1      49\n",
      "2      37\n",
      "3      51\n",
      "4      44\n",
      "       ..\n",
      "969    74\n",
      "970    65\n",
      "972    68\n",
      "973    67\n",
      "974    75\n",
      "Name: age, Length: 934, dtype: int64\n"
     ]
    }
   ],
   "source": [
    "print(nobel_data_valid['age'])"
   ]
  },
  {
   "cell_type": "code",
   "execution_count": 110,
   "metadata": {},
   "outputs": [
    {
     "name": "stdout",
     "output_type": "stream",
     "text": [
      "[21.03795095]\n"
     ]
    },
    {
     "name": "stderr",
     "output_type": "stream",
     "text": [
      "/Users/yishanhou/opt/anaconda3/envs/info2950/lib/python3.9/site-packages/sklearn/base.py:450: UserWarning: X does not have valid feature names, but LinearRegression was fitted with feature names\n",
      "  warnings.warn(\n"
     ]
    }
   ],
   "source": [
    "print(age_count.predict([[10]]))"
   ]
  },
  {
   "cell_type": "code",
   "execution_count": 109,
   "metadata": {},
   "outputs": [
    {
     "name": "stdout",
     "output_type": "stream",
     "text": [
      "[21.20432259]\n"
     ]
    },
    {
     "name": "stderr",
     "output_type": "stream",
     "text": [
      "/Users/yishanhou/opt/anaconda3/envs/info2950/lib/python3.9/site-packages/sklearn/base.py:450: UserWarning: X does not have valid feature names, but LinearRegression was fitted with feature names\n",
      "  warnings.warn(\n"
     ]
    }
   ],
   "source": [
    "print(age_count.predict([[20]]))"
   ]
  },
  {
   "cell_type": "code",
   "execution_count": 108,
   "metadata": {},
   "outputs": [
    {
     "name": "stdout",
     "output_type": "stream",
     "text": [
      "[21.37069424]\n"
     ]
    },
    {
     "name": "stderr",
     "output_type": "stream",
     "text": [
      "/Users/yishanhou/opt/anaconda3/envs/info2950/lib/python3.9/site-packages/sklearn/base.py:450: UserWarning: X does not have valid feature names, but LinearRegression was fitted with feature names\n",
      "  warnings.warn(\n"
     ]
    }
   ],
   "source": [
    "print(age_count.predict([[30]]))"
   ]
  },
  {
   "cell_type": "code",
   "execution_count": 103,
   "metadata": {},
   "outputs": [
    {
     "name": "stdout",
     "output_type": "stream",
     "text": [
      "[21.53706588]\n"
     ]
    },
    {
     "name": "stderr",
     "output_type": "stream",
     "text": [
      "/Users/yishanhou/opt/anaconda3/envs/info2950/lib/python3.9/site-packages/sklearn/base.py:450: UserWarning: X does not have valid feature names, but LinearRegression was fitted with feature names\n",
      "  warnings.warn(\n"
     ]
    }
   ],
   "source": [
    "print(age_count.predict([[40]]))"
   ]
  },
  {
   "cell_type": "code",
   "execution_count": 102,
   "metadata": {},
   "outputs": [
    {
     "name": "stdout",
     "output_type": "stream",
     "text": [
      "[21.70343753]\n"
     ]
    },
    {
     "name": "stderr",
     "output_type": "stream",
     "text": [
      "/Users/yishanhou/opt/anaconda3/envs/info2950/lib/python3.9/site-packages/sklearn/base.py:450: UserWarning: X does not have valid feature names, but LinearRegression was fitted with feature names\n",
      "  warnings.warn(\n"
     ]
    }
   ],
   "source": [
    "print(age_count.predict([[50]]))"
   ]
  },
  {
   "cell_type": "code",
   "execution_count": 104,
   "metadata": {},
   "outputs": [
    {
     "name": "stdout",
     "output_type": "stream",
     "text": [
      "[21.86980917]\n"
     ]
    },
    {
     "name": "stderr",
     "output_type": "stream",
     "text": [
      "/Users/yishanhou/opt/anaconda3/envs/info2950/lib/python3.9/site-packages/sklearn/base.py:450: UserWarning: X does not have valid feature names, but LinearRegression was fitted with feature names\n",
      "  warnings.warn(\n"
     ]
    }
   ],
   "source": [
    "print(age_count.predict([[60]]))"
   ]
  },
  {
   "cell_type": "code",
   "execution_count": 105,
   "metadata": {},
   "outputs": [
    {
     "name": "stdout",
     "output_type": "stream",
     "text": [
      "[22.03618082]\n"
     ]
    },
    {
     "name": "stderr",
     "output_type": "stream",
     "text": [
      "/Users/yishanhou/opt/anaconda3/envs/info2950/lib/python3.9/site-packages/sklearn/base.py:450: UserWarning: X does not have valid feature names, but LinearRegression was fitted with feature names\n",
      "  warnings.warn(\n"
     ]
    }
   ],
   "source": [
    "print(age_count.predict([[70]]))"
   ]
  },
  {
   "cell_type": "markdown",
   "metadata": {},
   "source": [
    "The average Nobel laureate is awarded at approximately age 60, with a standard deviation of about 12 years. \n",
    "\n",
    "The Nobel committee may be selecting for older nominees, or else the kind of contribution to the world that earns someone a Nobel prize may simply require a lengthy and dedicated career from most people. "
   ]
  },
  {
   "cell_type": "code",
   "execution_count": 106,
   "metadata": {},
   "outputs": [
    {
     "name": "stdout",
     "output_type": "stream",
     "text": [
      "[22.20255246]\n"
     ]
    },
    {
     "name": "stderr",
     "output_type": "stream",
     "text": [
      "/Users/yishanhou/opt/anaconda3/envs/info2950/lib/python3.9/site-packages/sklearn/base.py:450: UserWarning: X does not have valid feature names, but LinearRegression was fitted with feature names\n",
      "  warnings.warn(\n"
     ]
    }
   ],
   "source": [
    "print(age_count.predict([[80]]))"
   ]
  },
  {
   "cell_type": "markdown",
   "metadata": {},
   "source": [
    "### Question 3: Are Nobel Prize laureates getting older?"
   ]
  },
  {
   "cell_type": "code",
   "execution_count": 24,
   "metadata": {},
   "outputs": [
    {
     "data": {
      "text/html": [
       "<div>\n",
       "<style scoped>\n",
       "    .dataframe tbody tr th:only-of-type {\n",
       "        vertical-align: middle;\n",
       "    }\n",
       "\n",
       "    .dataframe tbody tr th {\n",
       "        vertical-align: top;\n",
       "    }\n",
       "\n",
       "    .dataframe thead th {\n",
       "        text-align: right;\n",
       "    }\n",
       "</style>\n",
       "<table border=\"1\" class=\"dataframe\">\n",
       "  <thead>\n",
       "    <tr style=\"text-align: right;\">\n",
       "      <th></th>\n",
       "      <th>year</th>\n",
       "      <th>age</th>\n",
       "    </tr>\n",
       "  </thead>\n",
       "  <tbody>\n",
       "    <tr>\n",
       "      <th>0</th>\n",
       "      <td>1901.0</td>\n",
       "      <td>61.000000</td>\n",
       "    </tr>\n",
       "    <tr>\n",
       "      <th>1</th>\n",
       "      <td>1902.0</td>\n",
       "      <td>56.285714</td>\n",
       "    </tr>\n",
       "    <tr>\n",
       "      <th>2</th>\n",
       "      <td>1903.0</td>\n",
       "      <td>52.000000</td>\n",
       "    </tr>\n",
       "    <tr>\n",
       "      <th>3</th>\n",
       "      <td>1904.0</td>\n",
       "      <td>63.000000</td>\n",
       "    </tr>\n",
       "    <tr>\n",
       "      <th>4</th>\n",
       "      <td>1905.0</td>\n",
       "      <td>59.200000</td>\n",
       "    </tr>\n",
       "    <tr>\n",
       "      <th>...</th>\n",
       "      <td>...</td>\n",
       "      <td>...</td>\n",
       "    </tr>\n",
       "    <tr>\n",
       "      <th>108</th>\n",
       "      <td>2012.0</td>\n",
       "      <td>65.285714</td>\n",
       "    </tr>\n",
       "    <tr>\n",
       "      <th>109</th>\n",
       "      <td>2013.0</td>\n",
       "      <td>70.866667</td>\n",
       "    </tr>\n",
       "    <tr>\n",
       "      <th>110</th>\n",
       "      <td>2014.0</td>\n",
       "      <td>58.615385</td>\n",
       "    </tr>\n",
       "    <tr>\n",
       "      <th>111</th>\n",
       "      <td>2015.0</td>\n",
       "      <td>73.000000</td>\n",
       "    </tr>\n",
       "    <tr>\n",
       "      <th>112</th>\n",
       "      <td>2016.0</td>\n",
       "      <td>71.333333</td>\n",
       "    </tr>\n",
       "  </tbody>\n",
       "</table>\n",
       "<p>113 rows × 2 columns</p>\n",
       "</div>"
      ],
      "text/plain": [
       "       year        age\n",
       "0    1901.0  61.000000\n",
       "1    1902.0  56.285714\n",
       "2    1903.0  52.000000\n",
       "3    1904.0  63.000000\n",
       "4    1905.0  59.200000\n",
       "..      ...        ...\n",
       "108  2012.0  65.285714\n",
       "109  2013.0  70.866667\n",
       "110  2014.0  58.615385\n",
       "111  2015.0  73.000000\n",
       "112  2016.0  71.333333\n",
       "\n",
       "[113 rows x 2 columns]"
      ]
     },
     "execution_count": 24,
     "metadata": {},
     "output_type": "execute_result"
    }
   ],
   "source": [
    "nobel_data_valid.groupby('year', as_index = False)[\"age\"].mean()"
   ]
  },
  {
   "cell_type": "code",
   "execution_count": null,
   "metadata": {},
   "outputs": [],
   "source": []
  },
  {
   "cell_type": "code",
   "execution_count": 25,
   "metadata": {},
   "outputs": [
    {
     "data": {
      "text/plain": [
       "<seaborn.axisgrid.FacetGrid at 0x1e36bc34130>"
      ]
     },
     "execution_count": 25,
     "metadata": {},
     "output_type": "execute_result"
    },
    {
     "data": {
      "image/png": "[encoded data removed]",
      "text/plain": [
       "<Figure size 360x360 with 1 Axes>"
      ]
     },
     "metadata": {
      "needs_background": "light"
     },
     "output_type": "display_data"
    }
   ],
   "source": [
    "seaborn.lmplot(data = nobel_data_valid, x = 'year', y = 'age')"
   ]
  },
  {
   "cell_type": "markdown",
   "metadata": {},
   "source": [
    "There is an increasing trend above, showing that Nobel Prize laureates are getting older as years pass by with some outliers. There are few outliers that stand out, such as a laureate who seemed to have won their prize at an age of around 25 close to the year 1915 and anoher who seemed to won their prize at an age of around 15 close to the year 2016. In future analysis in more depth, we can look at the outliers and find common characteristics that could helps us find out if certain characteristics help people win Nobel Prizes at a younger age."
   ]
  },
  {
   "cell_type": "code",
   "execution_count": 26,
   "metadata": {},
   "outputs": [
    {
     "data": {
      "text/plain": [
       "<seaborn.axisgrid.FacetGrid at 0x1e36c6fb130>"
      ]
     },
     "execution_count": 26,
     "metadata": {},
     "output_type": "execute_result"
    },
    {
     "data": {
      "image/png": "[encoded data removed]",
      "text/plain": [
       "<Figure size 360x2160 with 6 Axes>"
      ]
     },
     "metadata": {
      "needs_background": "light"
     },
     "output_type": "display_data"
    }
   ],
   "source": [
    "seaborn.lmplot(data = nobel_data_valid, x = 'year', y = 'age', row = 'category', hue = 'category')"
   ]
  },
  {
   "cell_type": "markdown",
   "metadata": {},
   "source": [
    "There is an increasing trend for all categories, except for the category of Peace, as shown by the plots above. We could dive more into why only the category of Peace shows a decreasing trend by looking at the rows with Peace as its category and find who exactly are winning the Peace prizes."
   ]
  },
  {
   "cell_type": "markdown",
   "metadata": {},
   "source": [
    "### Question 4: Which universities dominate the Nobel Prize?"
   ]
  },
  {
   "cell_type": "code",
   "execution_count": 27,
   "metadata": {},
   "outputs": [
    {
     "data": {
      "text/plain": [
       "name                                          country       \n",
       "University of California                      USA               34\n",
       "Harvard University                            USA               27\n",
       "Stanford University                           USA               18\n",
       "Massachusetts Institute of Technology (MIT)   USA               18\n",
       "California Institute of Technology (Caltech)  USA               17\n",
       "University of Cambridge                       United Kingdom    17\n",
       "University of Chicago                         USA               17\n",
       "Columbia University                           USA               16\n",
       "Princeton University                          USA               14\n",
       "Rockefeller University                        USA               11\n",
       "Name: share, dtype: int64"
      ]
     },
     "execution_count": 27,
     "metadata": {},
     "output_type": "execute_result"
    }
   ],
   "source": [
    "university_data = nobel_data.groupby(['name', 'country'])['share'].count().sort_values(ascending = False).head(10)\n",
    "university_data"
   ]
  },
  {
   "cell_type": "markdown",
   "metadata": {},
   "source": [
    "All the universities except for Cambridge are located in the USA. It is clear that University of California and Harvard University are first place and second place, respectively. However, there is a narrow gap among Stanford, MIT, Caltech, Cambridge, UChicago, and Columbia. We can expand our analysis by looking at the strengths and weaknesses of these schools in all 6 categories. For example, we could look if a school dominate in one category but are weak in others."
   ]
  },
  {
   "cell_type": "code",
   "execution_count": 28,
   "metadata": {},
   "outputs": [
    {
     "data": {
      "image/png": "[encoded data removed]",
      "text/plain": [
       "<Figure size 432x288 with 1 Axes>"
      ]
     },
     "metadata": {
      "needs_background": "light"
     },
     "output_type": "display_data"
    }
   ],
   "source": [
    "university_data_plot = university_data.plot.barh(y = 'name')"
   ]
  },
  {
   "cell_type": "markdown",
   "metadata": {},
   "source": [
    "After finding which 10 universities dominate the Nobel Prize, we discovered that all the top 10 universities except one are located in the United States. There is a tie for a third place among MIT and Stanford University. There is also another tie for 4th place among Caltech, University of Cambridge, and University of Chicago. As shown by the horizontal bar graph, after University of California and Harvard University, the margin among universities becomes smaller. "
   ]
  },
  {
   "cell_type": "markdown",
   "metadata": {},
   "source": [
    "### Question 5: Does the Nobel Prize favor one gender over the other? "
   ]
  },
  {
   "cell_type": "code",
   "execution_count": 29,
   "metadata": {},
   "outputs": [
    {
     "data": {
      "text/plain": [
       "male      899\n",
       "female     50\n",
       "org        26\n",
       "Name: gender, dtype: int64"
      ]
     },
     "execution_count": 29,
     "metadata": {},
     "output_type": "execute_result"
    }
   ],
   "source": [
    "gender_count=nobel_data_raw['gender'].value_counts()\n",
    "gender_count.head()"
   ]
  },
  {
   "cell_type": "code",
   "execution_count": 30,
   "metadata": {},
   "outputs": [
    {
     "data": {
      "text/plain": [
       "<AxesSubplot:>"
      ]
     },
     "execution_count": 30,
     "metadata": {},
     "output_type": "execute_result"
    },
    {
     "data": {
      "image/png": "[encoded data removed]",
      "text/plain": [
       "<Figure size 432x288 with 1 Axes>"
      ]
     },
     "metadata": {
      "needs_background": "light"
     },
     "output_type": "display_data"
    }
   ],
   "source": [
    "gender_count.plot.bar(y='')"
   ]
  },
  {
   "cell_type": "markdown",
   "metadata": {},
   "source": [
    "As shown in the bar plot, the amount of male Nobel laureates is significantly higher than the amount of female Nobel laureates and the amount of organizational laureates. \n",
    "\n",
    "As there are 849 more male laureates than female laureates, there is a correlation between gender and being a laureate - the Nobel prize might favor male over female."
   ]
  },
  {
   "cell_type": "code",
   "execution_count": 31,
   "metadata": {},
   "outputs": [
    {
     "data": {
      "text/plain": [
       "gender  category  \n",
       "male    physics       220\n",
       "        medicine      215\n",
       "        chemistry     190\n",
       "        literature     99\n",
       "        peace          88\n",
       "        economics      81\n",
       "org     peace          26\n",
       "female  peace          16\n",
       "        literature     14\n",
       "        medicine       12\n",
       "        chemistry       4\n",
       "        economics       2\n",
       "        physics         2\n",
       "Name: share, dtype: int64"
      ]
     },
     "execution_count": 31,
     "metadata": {},
     "output_type": "execute_result"
    }
   ],
   "source": [
    "gender_data = nobel_data_raw.groupby(['gender','category'])['share'].count().sort_values(ascending = False)\n",
    "gender_data.head(30)"
   ]
  },
  {
   "cell_type": "code",
   "execution_count": 32,
   "metadata": {},
   "outputs": [
    {
     "data": {
      "text/plain": [
       "<AxesSubplot:xlabel='gender,category'>"
      ]
     },
     "execution_count": 32,
     "metadata": {},
     "output_type": "execute_result"
    },
    {
     "data": {
      "image/png": "[encoded data removed]",
      "text/plain": [
       "<Figure size 432x288 with 1 Axes>"
      ]
     },
     "metadata": {
      "needs_background": "light"
     },
     "output_type": "display_data"
    }
   ],
   "source": [
    "gender_data.plot.bar(y='category')"
   ]
  },
  {
   "cell_type": "markdown",
   "metadata": {},
   "source": [
    "This bar plot shows the amount of female and male laureates in different categories. Some observations including physics has the most male laureate but the least female laureates; the second biggest difference is between male chemistry laureates and female chemistry laureates; the difference between the amount of male economics laureates and the amount of female economics laureates is the smallest; organizational laureates only appeared in peace category."
   ]
  },
  {
   "cell_type": "markdown",
   "metadata": {},
   "source": [
    "### Question 6: What proportion of laureates won the Nobel Prize more than once?"
   ]
  },
  {
   "cell_type": "code",
   "execution_count": 33,
   "metadata": {},
   "outputs": [
    {
     "data": {
      "text/html": [
       "<div>\n",
       "<style scoped>\n",
       "    .dataframe tbody tr th:only-of-type {\n",
       "        vertical-align: middle;\n",
       "    }\n",
       "\n",
       "    .dataframe tbody tr th {\n",
       "        vertical-align: top;\n",
       "    }\n",
       "\n",
       "    .dataframe thead th {\n",
       "        text-align: right;\n",
       "    }\n",
       "</style>\n",
       "<table border=\"1\" class=\"dataframe\">\n",
       "  <thead>\n",
       "    <tr style=\"text-align: right;\">\n",
       "      <th></th>\n",
       "      <th>id</th>\n",
       "      <th>firstname</th>\n",
       "      <th>surname</th>\n",
       "      <th>born</th>\n",
       "      <th>died</th>\n",
       "      <th>bornCountry</th>\n",
       "      <th>bornCountryCode</th>\n",
       "      <th>bornCity</th>\n",
       "      <th>diedCountry</th>\n",
       "      <th>diedCountryCode</th>\n",
       "      <th>...</th>\n",
       "      <th>gender</th>\n",
       "      <th>year</th>\n",
       "      <th>category</th>\n",
       "      <th>overallMotivation</th>\n",
       "      <th>share</th>\n",
       "      <th>motivation</th>\n",
       "      <th>name</th>\n",
       "      <th>city</th>\n",
       "      <th>country</th>\n",
       "      <th>age</th>\n",
       "    </tr>\n",
       "  </thead>\n",
       "  <tbody>\n",
       "    <tr>\n",
       "      <th>5</th>\n",
       "      <td>6</td>\n",
       "      <td>Marie</td>\n",
       "      <td>Curie, née Sklodowska</td>\n",
       "      <td>1867-11-07</td>\n",
       "      <td>1934-07-04</td>\n",
       "      <td>Russian Empire (now Poland)</td>\n",
       "      <td>PL</td>\n",
       "      <td>Warsaw</td>\n",
       "      <td>France</td>\n",
       "      <td>FR</td>\n",
       "      <td>...</td>\n",
       "      <td>female</td>\n",
       "      <td>1903.0</td>\n",
       "      <td>physics</td>\n",
       "      <td>NaN</td>\n",
       "      <td>4.0</td>\n",
       "      <td>\"in recognition of the extraordinary services ...</td>\n",
       "      <td>NaN</td>\n",
       "      <td>NaN</td>\n",
       "      <td>NaN</td>\n",
       "      <td>36</td>\n",
       "    </tr>\n",
       "    <tr>\n",
       "      <th>6</th>\n",
       "      <td>6</td>\n",
       "      <td>Marie</td>\n",
       "      <td>Curie, née Sklodowska</td>\n",
       "      <td>1867-11-07</td>\n",
       "      <td>1934-07-04</td>\n",
       "      <td>Russian Empire (now Poland)</td>\n",
       "      <td>PL</td>\n",
       "      <td>Warsaw</td>\n",
       "      <td>France</td>\n",
       "      <td>FR</td>\n",
       "      <td>...</td>\n",
       "      <td>female</td>\n",
       "      <td>1911.0</td>\n",
       "      <td>chemistry</td>\n",
       "      <td>NaN</td>\n",
       "      <td>1.0</td>\n",
       "      <td>\"in recognition of her services to the advance...</td>\n",
       "      <td>Sorbonne University</td>\n",
       "      <td>Paris</td>\n",
       "      <td>France</td>\n",
       "      <td>44</td>\n",
       "    </tr>\n",
       "    <tr>\n",
       "      <th>9</th>\n",
       "      <td>10</td>\n",
       "      <td>Joseph John</td>\n",
       "      <td>Thomson</td>\n",
       "      <td>1856-12-18</td>\n",
       "      <td>1940-08-30</td>\n",
       "      <td>United Kingdom</td>\n",
       "      <td>GB</td>\n",
       "      <td>Cheetham Hill, near Manchester</td>\n",
       "      <td>United Kingdom</td>\n",
       "      <td>GB</td>\n",
       "      <td>...</td>\n",
       "      <td>male</td>\n",
       "      <td>1906.0</td>\n",
       "      <td>physics</td>\n",
       "      <td>NaN</td>\n",
       "      <td>1.0</td>\n",
       "      <td>\"in recognition of the great merits of his the...</td>\n",
       "      <td>University of Cambridge</td>\n",
       "      <td>Cambridge</td>\n",
       "      <td>United Kingdom</td>\n",
       "      <td>50</td>\n",
       "    </tr>\n",
       "    <tr>\n",
       "      <th>19</th>\n",
       "      <td>20</td>\n",
       "      <td>Sir William Henry</td>\n",
       "      <td>Bragg</td>\n",
       "      <td>1862-07-02</td>\n",
       "      <td>1942-03-12</td>\n",
       "      <td>United Kingdom</td>\n",
       "      <td>GB</td>\n",
       "      <td>Wigton</td>\n",
       "      <td>United Kingdom</td>\n",
       "      <td>GB</td>\n",
       "      <td>...</td>\n",
       "      <td>male</td>\n",
       "      <td>1915.0</td>\n",
       "      <td>physics</td>\n",
       "      <td>NaN</td>\n",
       "      <td>2.0</td>\n",
       "      <td>\"for their services in the analysis of crystal...</td>\n",
       "      <td>University College</td>\n",
       "      <td>London</td>\n",
       "      <td>United Kingdom</td>\n",
       "      <td>53</td>\n",
       "    </tr>\n",
       "    <tr>\n",
       "      <th>20</th>\n",
       "      <td>21</td>\n",
       "      <td>William Lawrence</td>\n",
       "      <td>Bragg</td>\n",
       "      <td>1890-03-31</td>\n",
       "      <td>1971-07-01</td>\n",
       "      <td>Australia</td>\n",
       "      <td>AU</td>\n",
       "      <td>Adelaide</td>\n",
       "      <td>United Kingdom</td>\n",
       "      <td>GB</td>\n",
       "      <td>...</td>\n",
       "      <td>male</td>\n",
       "      <td>1915.0</td>\n",
       "      <td>physics</td>\n",
       "      <td>NaN</td>\n",
       "      <td>2.0</td>\n",
       "      <td>\"for their services in the analysis of crystal...</td>\n",
       "      <td>Victoria University</td>\n",
       "      <td>Manchester</td>\n",
       "      <td>United Kingdom</td>\n",
       "      <td>25</td>\n",
       "    </tr>\n",
       "  </tbody>\n",
       "</table>\n",
       "<p>5 rows × 21 columns</p>\n",
       "</div>"
      ],
      "text/plain": [
       "    id          firstname                surname       born       died  \\\n",
       "5    6              Marie  Curie, née Sklodowska 1867-11-07 1934-07-04   \n",
       "6    6              Marie  Curie, née Sklodowska 1867-11-07 1934-07-04   \n",
       "9   10        Joseph John                Thomson 1856-12-18 1940-08-30   \n",
       "19  20  Sir William Henry                  Bragg 1862-07-02 1942-03-12   \n",
       "20  21   William Lawrence                  Bragg 1890-03-31 1971-07-01   \n",
       "\n",
       "                    bornCountry bornCountryCode  \\\n",
       "5   Russian Empire (now Poland)              PL   \n",
       "6   Russian Empire (now Poland)              PL   \n",
       "9                United Kingdom              GB   \n",
       "19               United Kingdom              GB   \n",
       "20                    Australia              AU   \n",
       "\n",
       "                          bornCity     diedCountry diedCountryCode  ...  \\\n",
       "5                           Warsaw          France              FR  ...   \n",
       "6                           Warsaw          France              FR  ...   \n",
       "9   Cheetham Hill, near Manchester  United Kingdom              GB  ...   \n",
       "19                          Wigton  United Kingdom              GB  ...   \n",
       "20                        Adelaide  United Kingdom              GB  ...   \n",
       "\n",
       "    gender    year   category overallMotivation share  \\\n",
       "5   female  1903.0    physics               NaN   4.0   \n",
       "6   female  1911.0  chemistry               NaN   1.0   \n",
       "9     male  1906.0    physics               NaN   1.0   \n",
       "19    male  1915.0    physics               NaN   2.0   \n",
       "20    male  1915.0    physics               NaN   2.0   \n",
       "\n",
       "                                           motivation  \\\n",
       "5   \"in recognition of the extraordinary services ...   \n",
       "6   \"in recognition of her services to the advance...   \n",
       "9   \"in recognition of the great merits of his the...   \n",
       "19  \"for their services in the analysis of crystal...   \n",
       "20  \"for their services in the analysis of crystal...   \n",
       "\n",
       "                       name        city         country age  \n",
       "5                       NaN         NaN             NaN  36  \n",
       "6       Sorbonne University       Paris          France  44  \n",
       "9   University of Cambridge   Cambridge  United Kingdom  50  \n",
       "19       University College      London  United Kingdom  53  \n",
       "20      Victoria University  Manchester  United Kingdom  25  \n",
       "\n",
       "[5 rows x 21 columns]"
      ]
     },
     "execution_count": 33,
     "metadata": {},
     "output_type": "execute_result"
    }
   ],
   "source": [
    "nobel_repeats = nobel_data.groupby(\"surname\").filter(lambda repeats: len(repeats) >= 2)\n",
    "nobel_repeats.head()"
   ]
  },
  {
   "cell_type": "markdown",
   "metadata": {},
   "source": [
    "7 laureates (including both individuals and organizations) had won the Nobel Prize more than once. From the above table, we can see their names: J Bardeen, M. Currie, L. Pauling, F. Sanger, K. Barry Sharpless, ICRC, and UNHCR.\n",
    "\n",
    "7 out of 969 laureates are awarded the Nobel Prize multiple times. The proportion is 0.722394%, which is a small ratio but also indicates that it’s possible to reach such achievements in one’s career."
   ]
  },
  {
   "cell_type": "markdown",
   "metadata": {},
   "source": [
    "## Data Description \n",
    "### What are the observations (rows) and the attributes (columns)?\n",
    "\n",
    "The observations in our data frame are 937 Nobel Prize laureates, representing all winners from the first prizes awarded through the year 2016. In other words, each row represents a single laureate.\n",
    "\n",
    "The attributes are:\n",
    "\n",
    "- id - identifies each laureate \n",
    "- firstname - laureate's first name \n",
    "- surname - laureate's surname \n",
    "- born - laureate's birth date \n",
    "- died - laureate's death date \n",
    "- bornCountry - laureate's birth place \n",
    "- bornCountryCode - the country code of the laureate's country of origin\n",
    "- bornCity - the name of the city where the laureate was born\n",
    "- diedCountry - the name of the country where the laureate died\n",
    "- diedCountryCode - the country code of the laureate's country of death\n",
    "- diedCity - the name of the city where the laureate died\n",
    "- gender - laureate's gender or laureate's organization ('male,' 'female,' or 'org' - organization)\n",
    "- year - the year that the laureate won their prize\n",
    "- category - the category in which the laureate won their prize ('physics,' 'chemistry,' 'peace,' 'medicine,' 'literature,' 'economics')\n",
    "- overallMotivation - overall motivation for being awarded the prize\n",
    "- share - number of other laureates who share the prize \n",
    "- motivation - the motivation behind being awarded the prize\n",
    "\n",
    "### Why was this dataset created?\n",
    "\n",
    "The dataset was assembled by Maryna Kuzmenko in 2016, and intended to be a starting point for social sciences research into the characteristics of Nobel prize awards and laureates (both quantitative and categorical). It is available through the Harvard Dataverse Repository. \n",
    "\n",
    "### Who funded the creation of the dataset?\n",
    "\n",
    "Harvard's Dataverse Repository is free and open to researchers for sharing and archiving research data. Maryna Kuzmenko holds a Doctorate of Philosophy; no information on the funding for the creation of this particular dataset is available, but it appears to have been created while she was pursuing her doctorate at Kyiv University. \n",
    "\n",
    "### Are there any errors, sources of noise, or redundancies in the dataset?\n",
    "\n",
    "We were able to identify one section of rows that seemed to be included erroneously (containing no data except for the gender characteristic, and not matching with any potential missing data that we could find). As such, we removed those rows from the dataset before continuing with our own analysis.\n",
    "\n",
    "#### Is it possible to identify individuals (i.e., one or more natural persons), either directly or indirectly (i.e., in combination with other data) from the dataset? If so, please describe how.\n",
    "\n",
    "By the nature of our dataset, each instance is identifiable as a specific person, by name, location, age, and more. This was determined not to be a privacy concern, because of the public nature of the Nobel Prize and its laureates.  \n",
    "\n",
    "### What processes might have influenced what data was observed and recorded and what was not?\n",
    "\n",
    "Fortunately for us, the Nobel Prize is a prestigious and public-facing award for excellence in a field; as such, information about each year's awards, and the laureates who received them, is generally well-documented. We are reassured by the completeness of our dataset: though not every row is perfectly complete, as a whole data on each laureate is present and accurate (by our appraisal). \n",
    "\n",
    "### What preprocessing was done, and how did the data come to be in the form that you are using?\n",
    "\n",
    "The data on each laureate was collected into a single .csv file, with each instance representing a single Nobel Prize winner, and columns with characteristics about each of those instances. The entire population of laureates (through 2016) is represented, and no transformations or further processing was done to the data once collected. \n",
    "\n",
    "### If people are involved, were they aware of the data collection and if so, what purpose did they expect the data to be used for?\n",
    "\n",
    "Though there is no record that the Nobel laureates that were living at the time this dataset was assembled were notified, the data collected about them (as at least semi-public figures) is publicly available. \n",
    "\n",
    "### Where can your raw source data be found, if applicable? Provide a link to the raw data (hosted in a Cornell Google Drive or Cornell Box)\n",
    "\n",
    "https://drive.google.com/file/d/1x30zuyFBpWepBgc7cQt9x1yU46Qscgtg/view?usp=sharing"
   ]
  },
  {
   "cell_type": "markdown",
   "metadata": {},
   "source": [
    "## Data Limitations\n",
    "\n",
    "One primary limitation of our data is that it was collected in 2016: there have been 6 years' worth of laureates since then, and thus 6 years of data we cannot work with. It is also of some concern that the most recent years are missing: if there are any trends over time in our data, this might limit our ability to accurately model those trends or make predictions. For example, with the raising awareness of gender equality and female awakening efforts in academia, a notable increase in female laureates occurred in the 6 years (2016-2022). 12 women won Nobel in that 6 years, and the total number of female laureates before 2016 is around 60. Therefore, we weren’t able to analyze the rapid change in gender bias. Additionally, a big health challenge, COVID, happened in the three years of the six years with missing data, so we couldn’t analyze how COVID played a role in scientific breakthroughs. Additionally, all the organizations and some people have missing data, such as birth dates, which means that we have to work around those missing data to complete our data analysis."
   ]
  }
 ],
 "metadata": {
  "kernelspec": {
   "display_name": "Python 3.9.12 ('info2950test')",
   "language": "python",
   "name": "python3"
  },
  "language_info": {
   "codemirror_mode": {
    "name": "ipython",
    "version": 3
   },
   "file_extension": ".py",
   "mimetype": "text/x-python",
   "name": "python",
   "nbconvert_exporter": "python",
   "pygments_lexer": "ipython3",
   "version": "3.9.12"
  },
  "orig_nbformat": 4,
  "vscode": {
   "interpreter": {
    "hash": "2ca7599ec655074b9585b3d423579b04116d3b2a93d04538267c67ce0c059495"
   }
  }
 },
 "nbformat": 4,
 "nbformat_minor": 2
}
